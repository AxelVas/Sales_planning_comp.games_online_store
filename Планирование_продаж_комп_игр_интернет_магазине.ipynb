{
  "nbformat": 4,
  "nbformat_minor": 0,
  "metadata": {
    "kernelspec": {
      "display_name": "Python 3",
      "language": "python",
      "name": "python3"
    },
    "language_info": {
      "codemirror_mode": {
        "name": "ipython",
        "version": 3
      },
      "file_extension": ".py",
      "mimetype": "text/x-python",
      "name": "python",
      "nbconvert_exporter": "python",
      "pygments_lexer": "ipython3",
      "version": "3.8.5"
    },
    "colab": {
      "name": "Планирование продаж комп. игр интернет-магазине sh.ipynb",
      "provenance": [],
      "collapsed_sections": [
        "zH1Pnn_OBww7"
      ],
      "include_colab_link": true
    }
  },
  "cells": [
    {
      "cell_type": "markdown",
      "metadata": {
        "id": "view-in-github",
        "colab_type": "text"
      },
      "source": [
        "<a href=\"https://colab.research.google.com/github/AxelVas/Sales_planning_comp.games_online_store/blob/main/%D0%9F%D0%BB%D0%B0%D0%BD%D0%B8%D1%80%D0%BE%D0%B2%D0%B0%D0%BD%D0%B8%D0%B5_%D0%BF%D1%80%D0%BE%D0%B4%D0%B0%D0%B6_%D0%BA%D0%BE%D0%BC%D0%BF_%D0%B8%D0%B3%D1%80_%D0%B8%D0%BD%D1%82%D0%B5%D1%80%D0%BD%D0%B5%D1%82_%D0%BC%D0%B0%D0%B3%D0%B0%D0%B7%D0%B8%D0%BD%D0%B5.ipynb\" target=\"_parent\"><img src=\"https://colab.research.google.com/assets/colab-badge.svg\" alt=\"Open In Colab\"/></a>"
      ]
    },
    {
      "cell_type": "markdown",
      "metadata": {
        "id": "-rc-aQrBBwwn"
      },
      "source": [
        "# Описание проекта\n",
        "____\n",
        "\n",
        "Мы работаем в интернет-магазине «Стримчик», который продаёт по всему миру компьютерные игры. Из открытых источников доступны исторические данные о продажах игр, оценки пользователей и экспертов, жанры и платформы (например, Xbox или PlayStation). Нам нужно выявить определяющие успешность игры закономерности. Это позволит сделать ставку на потенциально популярный продукт и спланировать рекламные кампании.<br>\n",
        "\n",
        "Перед нами данные до 2016 года. Представим, что сейчас декабрь 2016 г., и мы планируем кампанию на 2017-й. Нужно отработать принцип работы с данными. Неважно, прогнозируем ли мы продажи на 2017 год по данным 2016-го или же 2027-й — по данным 2026 года. <br>\n",
        "\n",
        "В наборе данных попадается аббревиатура ESRB (Entertainment Software Rating Board) — это ассоциация, определяющая возрастной рейтинг компьютерных игр. ESRB оценивает игровой контент и присваивает ему подходящую возрастную категорию, например, «Для взрослых», «Для детей младшего возраста» или «Для подростков».\n",
        "____\n",
        "<a id='start'></a>"
      ]
    },
    {
      "cell_type": "markdown",
      "metadata": {
        "id": "gYu0xl40Bwwu"
      },
      "source": [
        "## Содержание проекта"
      ]
    },
    {
      "cell_type": "markdown",
      "metadata": {
        "id": "Mu7x7okfBwwv"
      },
      "source": [
        "### Глава 1. Откроем файл с данными и изучим общую информацию\n",
        "   * <a href='#step_1.1'> Открокем файл по адресу(/datasets/games.csv) и изучим данные</a>\n",
        "   \n",
        "### Глава 2. Подготовим данные\n",
        "   * <a href='#step_2.1'>Заменим названия столбцов (приведём к нижнему регистру)</a>\n",
        "   * <a href='#step_2.3'>Обработаем пропуски по необходимости</a>\n",
        "   * <a href='#step_2.4'>Аббревиатура 'tbd' в столбцах с рейтингом. Отдельно разберём это значение и опишем, как его обработать</a>\n",
        "   * <a href='#step_2.5'>Посчитаем суммарные продажи во всех регионах и запишем их в отдельный столбец</a>\n",
        "   * <a href='#step_2.end'>Вывод</a>\n",
        "   \n",
        "### Глава 3. Проведём исследовательский анализ данных\n",
        "   * <a href='#step_3.1'>Посмотрим, сколько игр выпускалось в разные годы</a>\n",
        "   * <a href='#step_3.2'>Посмотрим, как менялись продажи по платформам. Выберим платформы с наибольшими суммарными продажами и постройте  распределение по годам. Определим за какой характерный срок появляются новые и исчезают старые платформы</a>\n",
        "   * <a href='#step_3.3'>Возьмём данные за соответствующий актуальный период. Основной фактор — эти данные помогут построить прогноз на 2017 год.</a>\n",
        "   \n",
        "   * <a href='#step_3.4'>Определим какие платформы лидируют по продажам, растут или падают. Выберим несколько потенциально прибыльных платформ.</a>\n",
        "   * <a href='#step_3.5'>Построим график «ящик с усами» по глобальным продажам игр в разбивке по платформам. Опишем результат.</a>\n",
        "   * <a href='#step_3.6'>Посмотрим, как влияют на продажи внутри одной популярной платформы отзывы пользователей и критиков.</a>\n",
        "   * <a href='#step_3.7'> Построим диаграмму рассеяния и посчитаем корреляцию между отзывами и продажами. Сформулируем выводы.</a>\n",
        "   * <a href='#step_3.8'>Соотнесём выводы с продажами игр на других платформах.</a>\n",
        "   * <a href='#step_3.9'>Посмотрим на общее распределение игр по жанрам. Выделяются ли жанры с высокими и низкими продажами?</a>\n",
        "   * <a href='#step_3.end'>Вывод</a>\n",
        "   \n",
        "### Глава 4. Составим портрет пользователя каждого региона\n",
        "   * <a href='#step_4.1'>Определим для пользователя каждого региона (NA, EU, JP):</a>\n",
        "       * <a href='#step_4.2'>Самые популярные платформы (топ-5). Опишем различия в долях продаж.</a>\n",
        "       * <a href='#step_4.3'>Самые популярные жанры (топ-5). Поясним разницу.</a>\n",
        "       * <a href='#step_4.4'>Влияет ли рейтинг ESRB на продажи в отдельном регионе?</a>\n",
        "   * <a href='#step_4.end'>Вывод</a>\n",
        "   \n",
        "### Глава 5. Проверим гипотезы\n",
        "   * <a href='#step_5.1'>Средние пользовательские рейтинги платформ Xbox One и PC одинаковые</a>\n",
        "   * <a href='#step_5.2'>Средние пользовательские рейтинги жанров Action (англ. «действие», экшен-игры) и Sports (англ. «спортивные соревнования») разные.</a>\n",
        "   * <a href='#step_5.end'>Вывод</a>\n",
        "   \n",
        "### Глава 6. Общий вывод\n",
        "   * <a href='#step_6.end'>Вывод</a>\n",
        "   ___\n",
        "   "
      ]
    },
    {
      "cell_type": "markdown",
      "metadata": {
        "id": "Ziif69sfBwwv"
      },
      "source": [
        "<a id=\"step_1.1\"></a>\n",
        "### Глава 1. Откроем файл с данными и изучим общую информацию"
      ]
    },
    {
      "cell_type": "markdown",
      "metadata": {
        "id": "ZvRTbqBtBwww"
      },
      "source": [
        "Для начала загрузим библиотеки"
      ]
    },
    {
      "cell_type": "code",
      "metadata": {
        "id": "mTkrjPoZBwww"
      },
      "source": [
        "import pandas as pd\n",
        "import matplotlib.pyplot as plt\n",
        "from scipy import stats as st\n",
        "import numpy as np"
      ],
      "execution_count": null,
      "outputs": []
    },
    {
      "cell_type": "markdown",
      "metadata": {
        "id": "7FMYx44jBwwx"
      },
      "source": [
        "Пропишем настройки, чтобы выводились все колонки без скрытия"
      ]
    },
    {
      "cell_type": "code",
      "metadata": {
        "id": "6JQmt2wUBwwx"
      },
      "source": [
        "pd.set_option('display.max_columns', None)"
      ],
      "execution_count": null,
      "outputs": []
    },
    {
      "cell_type": "code",
      "metadata": {
        "id": "-nBoGrLrBwwx"
      },
      "source": [
        "data=pd.read_csv('/datasets/games.csv')"
      ],
      "execution_count": null,
      "outputs": []
    },
    {
      "cell_type": "markdown",
      "metadata": {
        "id": "G-1dVd-GBwwx"
      },
      "source": [
        "Посмотрим на таблицу"
      ]
    },
    {
      "cell_type": "code",
      "metadata": {
        "scrolled": true,
        "id": "9wYrcv7kBwwy",
        "outputId": "a62f81fd-03bb-412a-eae3-b1799a00535b"
      },
      "source": [
        "data.head()"
      ],
      "execution_count": null,
      "outputs": [
        {
          "output_type": "execute_result",
          "data": {
            "text/html": [
              "<div>\n",
              "<style scoped>\n",
              "    .dataframe tbody tr th:only-of-type {\n",
              "        vertical-align: middle;\n",
              "    }\n",
              "\n",
              "    .dataframe tbody tr th {\n",
              "        vertical-align: top;\n",
              "    }\n",
              "\n",
              "    .dataframe thead th {\n",
              "        text-align: right;\n",
              "    }\n",
              "</style>\n",
              "<table border=\"1\" class=\"dataframe\">\n",
              "  <thead>\n",
              "    <tr style=\"text-align: right;\">\n",
              "      <th></th>\n",
              "      <th>Name</th>\n",
              "      <th>Platform</th>\n",
              "      <th>Year_of_Release</th>\n",
              "      <th>Genre</th>\n",
              "      <th>NA_sales</th>\n",
              "      <th>EU_sales</th>\n",
              "      <th>JP_sales</th>\n",
              "      <th>Other_sales</th>\n",
              "      <th>Critic_Score</th>\n",
              "      <th>User_Score</th>\n",
              "      <th>Rating</th>\n",
              "    </tr>\n",
              "  </thead>\n",
              "  <tbody>\n",
              "    <tr>\n",
              "      <td>0</td>\n",
              "      <td>Wii Sports</td>\n",
              "      <td>Wii</td>\n",
              "      <td>2006.0</td>\n",
              "      <td>Sports</td>\n",
              "      <td>41.36</td>\n",
              "      <td>28.96</td>\n",
              "      <td>3.77</td>\n",
              "      <td>8.45</td>\n",
              "      <td>76.0</td>\n",
              "      <td>8</td>\n",
              "      <td>E</td>\n",
              "    </tr>\n",
              "    <tr>\n",
              "      <td>1</td>\n",
              "      <td>Super Mario Bros.</td>\n",
              "      <td>NES</td>\n",
              "      <td>1985.0</td>\n",
              "      <td>Platform</td>\n",
              "      <td>29.08</td>\n",
              "      <td>3.58</td>\n",
              "      <td>6.81</td>\n",
              "      <td>0.77</td>\n",
              "      <td>NaN</td>\n",
              "      <td>NaN</td>\n",
              "      <td>NaN</td>\n",
              "    </tr>\n",
              "    <tr>\n",
              "      <td>2</td>\n",
              "      <td>Mario Kart Wii</td>\n",
              "      <td>Wii</td>\n",
              "      <td>2008.0</td>\n",
              "      <td>Racing</td>\n",
              "      <td>15.68</td>\n",
              "      <td>12.76</td>\n",
              "      <td>3.79</td>\n",
              "      <td>3.29</td>\n",
              "      <td>82.0</td>\n",
              "      <td>8.3</td>\n",
              "      <td>E</td>\n",
              "    </tr>\n",
              "    <tr>\n",
              "      <td>3</td>\n",
              "      <td>Wii Sports Resort</td>\n",
              "      <td>Wii</td>\n",
              "      <td>2009.0</td>\n",
              "      <td>Sports</td>\n",
              "      <td>15.61</td>\n",
              "      <td>10.93</td>\n",
              "      <td>3.28</td>\n",
              "      <td>2.95</td>\n",
              "      <td>80.0</td>\n",
              "      <td>8</td>\n",
              "      <td>E</td>\n",
              "    </tr>\n",
              "    <tr>\n",
              "      <td>4</td>\n",
              "      <td>Pokemon Red/Pokemon Blue</td>\n",
              "      <td>GB</td>\n",
              "      <td>1996.0</td>\n",
              "      <td>Role-Playing</td>\n",
              "      <td>11.27</td>\n",
              "      <td>8.89</td>\n",
              "      <td>10.22</td>\n",
              "      <td>1.00</td>\n",
              "      <td>NaN</td>\n",
              "      <td>NaN</td>\n",
              "      <td>NaN</td>\n",
              "    </tr>\n",
              "  </tbody>\n",
              "</table>\n",
              "</div>"
            ],
            "text/plain": [
              "                       Name Platform  Year_of_Release         Genre  NA_sales  \\\n",
              "0                Wii Sports      Wii           2006.0        Sports     41.36   \n",
              "1         Super Mario Bros.      NES           1985.0      Platform     29.08   \n",
              "2            Mario Kart Wii      Wii           2008.0        Racing     15.68   \n",
              "3         Wii Sports Resort      Wii           2009.0        Sports     15.61   \n",
              "4  Pokemon Red/Pokemon Blue       GB           1996.0  Role-Playing     11.27   \n",
              "\n",
              "   EU_sales  JP_sales  Other_sales  Critic_Score User_Score Rating  \n",
              "0     28.96      3.77         8.45          76.0          8      E  \n",
              "1      3.58      6.81         0.77           NaN        NaN    NaN  \n",
              "2     12.76      3.79         3.29          82.0        8.3      E  \n",
              "3     10.93      3.28         2.95          80.0          8      E  \n",
              "4      8.89     10.22         1.00           NaN        NaN    NaN  "
            ]
          },
          "metadata": {
            "tags": []
          },
          "execution_count": 4
        }
      ]
    },
    {
      "cell_type": "markdown",
      "metadata": {
        "id": "JpXnse7UBwwy"
      },
      "source": [
        "Изучим информацию"
      ]
    },
    {
      "cell_type": "code",
      "metadata": {
        "id": "GHuU4MAsBwwy",
        "outputId": "c1cba3af-57e1-443b-c53e-fcb7a6949d1b"
      },
      "source": [
        "data.info()"
      ],
      "execution_count": null,
      "outputs": [
        {
          "output_type": "stream",
          "text": [
            "<class 'pandas.core.frame.DataFrame'>\n",
            "RangeIndex: 16715 entries, 0 to 16714\n",
            "Data columns (total 11 columns):\n",
            "Name               16713 non-null object\n",
            "Platform           16715 non-null object\n",
            "Year_of_Release    16446 non-null float64\n",
            "Genre              16713 non-null object\n",
            "NA_sales           16715 non-null float64\n",
            "EU_sales           16715 non-null float64\n",
            "JP_sales           16715 non-null float64\n",
            "Other_sales        16715 non-null float64\n",
            "Critic_Score       8137 non-null float64\n",
            "User_Score         10014 non-null object\n",
            "Rating             9949 non-null object\n",
            "dtypes: float64(6), object(5)\n",
            "memory usage: 1.4+ MB\n"
          ],
          "name": "stdout"
        }
      ]
    },
    {
      "cell_type": "code",
      "metadata": {
        "scrolled": true,
        "id": "o11dbt9xBwwz",
        "outputId": "5ee8c5f0-bfcb-4b31-8e45-2749e3675da1"
      },
      "source": [
        "data.describe()"
      ],
      "execution_count": null,
      "outputs": [
        {
          "output_type": "execute_result",
          "data": {
            "text/html": [
              "<div>\n",
              "<style scoped>\n",
              "    .dataframe tbody tr th:only-of-type {\n",
              "        vertical-align: middle;\n",
              "    }\n",
              "\n",
              "    .dataframe tbody tr th {\n",
              "        vertical-align: top;\n",
              "    }\n",
              "\n",
              "    .dataframe thead th {\n",
              "        text-align: right;\n",
              "    }\n",
              "</style>\n",
              "<table border=\"1\" class=\"dataframe\">\n",
              "  <thead>\n",
              "    <tr style=\"text-align: right;\">\n",
              "      <th></th>\n",
              "      <th>Year_of_Release</th>\n",
              "      <th>NA_sales</th>\n",
              "      <th>EU_sales</th>\n",
              "      <th>JP_sales</th>\n",
              "      <th>Other_sales</th>\n",
              "      <th>Critic_Score</th>\n",
              "    </tr>\n",
              "  </thead>\n",
              "  <tbody>\n",
              "    <tr>\n",
              "      <td>count</td>\n",
              "      <td>16446.000000</td>\n",
              "      <td>16715.000000</td>\n",
              "      <td>16715.000000</td>\n",
              "      <td>16715.000000</td>\n",
              "      <td>16715.000000</td>\n",
              "      <td>8137.000000</td>\n",
              "    </tr>\n",
              "    <tr>\n",
              "      <td>mean</td>\n",
              "      <td>2006.484616</td>\n",
              "      <td>0.263377</td>\n",
              "      <td>0.145060</td>\n",
              "      <td>0.077617</td>\n",
              "      <td>0.047342</td>\n",
              "      <td>68.967679</td>\n",
              "    </tr>\n",
              "    <tr>\n",
              "      <td>std</td>\n",
              "      <td>5.877050</td>\n",
              "      <td>0.813604</td>\n",
              "      <td>0.503339</td>\n",
              "      <td>0.308853</td>\n",
              "      <td>0.186731</td>\n",
              "      <td>13.938165</td>\n",
              "    </tr>\n",
              "    <tr>\n",
              "      <td>min</td>\n",
              "      <td>1980.000000</td>\n",
              "      <td>0.000000</td>\n",
              "      <td>0.000000</td>\n",
              "      <td>0.000000</td>\n",
              "      <td>0.000000</td>\n",
              "      <td>13.000000</td>\n",
              "    </tr>\n",
              "    <tr>\n",
              "      <td>25%</td>\n",
              "      <td>2003.000000</td>\n",
              "      <td>0.000000</td>\n",
              "      <td>0.000000</td>\n",
              "      <td>0.000000</td>\n",
              "      <td>0.000000</td>\n",
              "      <td>60.000000</td>\n",
              "    </tr>\n",
              "    <tr>\n",
              "      <td>50%</td>\n",
              "      <td>2007.000000</td>\n",
              "      <td>0.080000</td>\n",
              "      <td>0.020000</td>\n",
              "      <td>0.000000</td>\n",
              "      <td>0.010000</td>\n",
              "      <td>71.000000</td>\n",
              "    </tr>\n",
              "    <tr>\n",
              "      <td>75%</td>\n",
              "      <td>2010.000000</td>\n",
              "      <td>0.240000</td>\n",
              "      <td>0.110000</td>\n",
              "      <td>0.040000</td>\n",
              "      <td>0.030000</td>\n",
              "      <td>79.000000</td>\n",
              "    </tr>\n",
              "    <tr>\n",
              "      <td>max</td>\n",
              "      <td>2016.000000</td>\n",
              "      <td>41.360000</td>\n",
              "      <td>28.960000</td>\n",
              "      <td>10.220000</td>\n",
              "      <td>10.570000</td>\n",
              "      <td>98.000000</td>\n",
              "    </tr>\n",
              "  </tbody>\n",
              "</table>\n",
              "</div>"
            ],
            "text/plain": [
              "       Year_of_Release      NA_sales      EU_sales      JP_sales  \\\n",
              "count     16446.000000  16715.000000  16715.000000  16715.000000   \n",
              "mean       2006.484616      0.263377      0.145060      0.077617   \n",
              "std           5.877050      0.813604      0.503339      0.308853   \n",
              "min        1980.000000      0.000000      0.000000      0.000000   \n",
              "25%        2003.000000      0.000000      0.000000      0.000000   \n",
              "50%        2007.000000      0.080000      0.020000      0.000000   \n",
              "75%        2010.000000      0.240000      0.110000      0.040000   \n",
              "max        2016.000000     41.360000     28.960000     10.220000   \n",
              "\n",
              "        Other_sales  Critic_Score  \n",
              "count  16715.000000   8137.000000  \n",
              "mean       0.047342     68.967679  \n",
              "std        0.186731     13.938165  \n",
              "min        0.000000     13.000000  \n",
              "25%        0.000000     60.000000  \n",
              "50%        0.010000     71.000000  \n",
              "75%        0.030000     79.000000  \n",
              "max       10.570000     98.000000  "
            ]
          },
          "metadata": {
            "tags": []
          },
          "execution_count": 6
        }
      ]
    },
    {
      "cell_type": "markdown",
      "metadata": {
        "id": "LMaogPrEBwwz"
      },
      "source": [
        "### Вывод"
      ]
    },
    {
      "cell_type": "markdown",
      "metadata": {
        "id": "x_C62nI4Bwwz"
      },
      "source": [
        "В данных довольно много колонок с пропусками, а твк же есть заглавные буквы, для работы с такими данными требуется привести их к рабочему образцу. По-возможности заполнить недостающие данные и привети строки в нижний регистр. Так же посмотрим на дубликаты. "
      ]
    },
    {
      "cell_type": "markdown",
      "metadata": {
        "id": "3ZmrPHO_Bwwz"
      },
      "source": [
        "-----"
      ]
    },
    {
      "cell_type": "markdown",
      "metadata": {
        "id": "KytOuorHBww0"
      },
      "source": [
        "<a href='#start'>Вернуться к оглавлению</a>\n",
        "<a id=\"step_2.1\"></a>\n",
        "### Глава 2. Подготовим данные"
      ]
    },
    {
      "cell_type": "markdown",
      "metadata": {
        "id": "AQvClAbuBww0"
      },
      "source": [
        "#### Заменим названия столбцов (приведём к нижнему регистру)"
      ]
    },
    {
      "cell_type": "code",
      "metadata": {
        "scrolled": true,
        "id": "bFZ1xAMvBww0",
        "outputId": "065b68d7-c739-4522-8489-887af849b28a"
      },
      "source": [
        "data.columns = data.columns.str.lower()\n",
        "data.head(10)"
      ],
      "execution_count": null,
      "outputs": [
        {
          "output_type": "execute_result",
          "data": {
            "text/html": [
              "<div>\n",
              "<style scoped>\n",
              "    .dataframe tbody tr th:only-of-type {\n",
              "        vertical-align: middle;\n",
              "    }\n",
              "\n",
              "    .dataframe tbody tr th {\n",
              "        vertical-align: top;\n",
              "    }\n",
              "\n",
              "    .dataframe thead th {\n",
              "        text-align: right;\n",
              "    }\n",
              "</style>\n",
              "<table border=\"1\" class=\"dataframe\">\n",
              "  <thead>\n",
              "    <tr style=\"text-align: right;\">\n",
              "      <th></th>\n",
              "      <th>name</th>\n",
              "      <th>platform</th>\n",
              "      <th>year_of_release</th>\n",
              "      <th>genre</th>\n",
              "      <th>na_sales</th>\n",
              "      <th>eu_sales</th>\n",
              "      <th>jp_sales</th>\n",
              "      <th>other_sales</th>\n",
              "      <th>critic_score</th>\n",
              "      <th>user_score</th>\n",
              "      <th>rating</th>\n",
              "    </tr>\n",
              "  </thead>\n",
              "  <tbody>\n",
              "    <tr>\n",
              "      <td>0</td>\n",
              "      <td>Wii Sports</td>\n",
              "      <td>Wii</td>\n",
              "      <td>2006.0</td>\n",
              "      <td>Sports</td>\n",
              "      <td>41.36</td>\n",
              "      <td>28.96</td>\n",
              "      <td>3.77</td>\n",
              "      <td>8.45</td>\n",
              "      <td>76.0</td>\n",
              "      <td>8</td>\n",
              "      <td>E</td>\n",
              "    </tr>\n",
              "    <tr>\n",
              "      <td>1</td>\n",
              "      <td>Super Mario Bros.</td>\n",
              "      <td>NES</td>\n",
              "      <td>1985.0</td>\n",
              "      <td>Platform</td>\n",
              "      <td>29.08</td>\n",
              "      <td>3.58</td>\n",
              "      <td>6.81</td>\n",
              "      <td>0.77</td>\n",
              "      <td>NaN</td>\n",
              "      <td>NaN</td>\n",
              "      <td>NaN</td>\n",
              "    </tr>\n",
              "    <tr>\n",
              "      <td>2</td>\n",
              "      <td>Mario Kart Wii</td>\n",
              "      <td>Wii</td>\n",
              "      <td>2008.0</td>\n",
              "      <td>Racing</td>\n",
              "      <td>15.68</td>\n",
              "      <td>12.76</td>\n",
              "      <td>3.79</td>\n",
              "      <td>3.29</td>\n",
              "      <td>82.0</td>\n",
              "      <td>8.3</td>\n",
              "      <td>E</td>\n",
              "    </tr>\n",
              "    <tr>\n",
              "      <td>3</td>\n",
              "      <td>Wii Sports Resort</td>\n",
              "      <td>Wii</td>\n",
              "      <td>2009.0</td>\n",
              "      <td>Sports</td>\n",
              "      <td>15.61</td>\n",
              "      <td>10.93</td>\n",
              "      <td>3.28</td>\n",
              "      <td>2.95</td>\n",
              "      <td>80.0</td>\n",
              "      <td>8</td>\n",
              "      <td>E</td>\n",
              "    </tr>\n",
              "    <tr>\n",
              "      <td>4</td>\n",
              "      <td>Pokemon Red/Pokemon Blue</td>\n",
              "      <td>GB</td>\n",
              "      <td>1996.0</td>\n",
              "      <td>Role-Playing</td>\n",
              "      <td>11.27</td>\n",
              "      <td>8.89</td>\n",
              "      <td>10.22</td>\n",
              "      <td>1.00</td>\n",
              "      <td>NaN</td>\n",
              "      <td>NaN</td>\n",
              "      <td>NaN</td>\n",
              "    </tr>\n",
              "    <tr>\n",
              "      <td>5</td>\n",
              "      <td>Tetris</td>\n",
              "      <td>GB</td>\n",
              "      <td>1989.0</td>\n",
              "      <td>Puzzle</td>\n",
              "      <td>23.20</td>\n",
              "      <td>2.26</td>\n",
              "      <td>4.22</td>\n",
              "      <td>0.58</td>\n",
              "      <td>NaN</td>\n",
              "      <td>NaN</td>\n",
              "      <td>NaN</td>\n",
              "    </tr>\n",
              "    <tr>\n",
              "      <td>6</td>\n",
              "      <td>New Super Mario Bros.</td>\n",
              "      <td>DS</td>\n",
              "      <td>2006.0</td>\n",
              "      <td>Platform</td>\n",
              "      <td>11.28</td>\n",
              "      <td>9.14</td>\n",
              "      <td>6.50</td>\n",
              "      <td>2.88</td>\n",
              "      <td>89.0</td>\n",
              "      <td>8.5</td>\n",
              "      <td>E</td>\n",
              "    </tr>\n",
              "    <tr>\n",
              "      <td>7</td>\n",
              "      <td>Wii Play</td>\n",
              "      <td>Wii</td>\n",
              "      <td>2006.0</td>\n",
              "      <td>Misc</td>\n",
              "      <td>13.96</td>\n",
              "      <td>9.18</td>\n",
              "      <td>2.93</td>\n",
              "      <td>2.84</td>\n",
              "      <td>58.0</td>\n",
              "      <td>6.6</td>\n",
              "      <td>E</td>\n",
              "    </tr>\n",
              "    <tr>\n",
              "      <td>8</td>\n",
              "      <td>New Super Mario Bros. Wii</td>\n",
              "      <td>Wii</td>\n",
              "      <td>2009.0</td>\n",
              "      <td>Platform</td>\n",
              "      <td>14.44</td>\n",
              "      <td>6.94</td>\n",
              "      <td>4.70</td>\n",
              "      <td>2.24</td>\n",
              "      <td>87.0</td>\n",
              "      <td>8.4</td>\n",
              "      <td>E</td>\n",
              "    </tr>\n",
              "    <tr>\n",
              "      <td>9</td>\n",
              "      <td>Duck Hunt</td>\n",
              "      <td>NES</td>\n",
              "      <td>1984.0</td>\n",
              "      <td>Shooter</td>\n",
              "      <td>26.93</td>\n",
              "      <td>0.63</td>\n",
              "      <td>0.28</td>\n",
              "      <td>0.47</td>\n",
              "      <td>NaN</td>\n",
              "      <td>NaN</td>\n",
              "      <td>NaN</td>\n",
              "    </tr>\n",
              "  </tbody>\n",
              "</table>\n",
              "</div>"
            ],
            "text/plain": [
              "                        name platform  year_of_release         genre  \\\n",
              "0                 Wii Sports      Wii           2006.0        Sports   \n",
              "1          Super Mario Bros.      NES           1985.0      Platform   \n",
              "2             Mario Kart Wii      Wii           2008.0        Racing   \n",
              "3          Wii Sports Resort      Wii           2009.0        Sports   \n",
              "4   Pokemon Red/Pokemon Blue       GB           1996.0  Role-Playing   \n",
              "5                     Tetris       GB           1989.0        Puzzle   \n",
              "6      New Super Mario Bros.       DS           2006.0      Platform   \n",
              "7                   Wii Play      Wii           2006.0          Misc   \n",
              "8  New Super Mario Bros. Wii      Wii           2009.0      Platform   \n",
              "9                  Duck Hunt      NES           1984.0       Shooter   \n",
              "\n",
              "   na_sales  eu_sales  jp_sales  other_sales  critic_score user_score rating  \n",
              "0     41.36     28.96      3.77         8.45          76.0          8      E  \n",
              "1     29.08      3.58      6.81         0.77           NaN        NaN    NaN  \n",
              "2     15.68     12.76      3.79         3.29          82.0        8.3      E  \n",
              "3     15.61     10.93      3.28         2.95          80.0          8      E  \n",
              "4     11.27      8.89     10.22         1.00           NaN        NaN    NaN  \n",
              "5     23.20      2.26      4.22         0.58           NaN        NaN    NaN  \n",
              "6     11.28      9.14      6.50         2.88          89.0        8.5      E  \n",
              "7     13.96      9.18      2.93         2.84          58.0        6.6      E  \n",
              "8     14.44      6.94      4.70         2.24          87.0        8.4      E  \n",
              "9     26.93      0.63      0.28         0.47           NaN        NaN    NaN  "
            ]
          },
          "metadata": {
            "tags": []
          },
          "execution_count": 7
        }
      ]
    },
    {
      "cell_type": "markdown",
      "metadata": {
        "id": "7fbimV1yBww0"
      },
      "source": [
        "Теперь приведём данные колонок \"name\", \"platform\",\"genre\" в нижний регистр."
      ]
    },
    {
      "cell_type": "code",
      "metadata": {
        "id": "Bu-tTkXdBww0"
      },
      "source": [
        "data['name'] = data['name'].str.lower()\n",
        "data['platform'] = data['platform'].str.lower()\n",
        "data['genre'] = data['genre'].str.lower()"
      ],
      "execution_count": null,
      "outputs": []
    },
    {
      "cell_type": "markdown",
      "metadata": {
        "id": "p4GL4EkyBww1"
      },
      "source": [
        "Проверм на дубликаты"
      ]
    },
    {
      "cell_type": "code",
      "metadata": {
        "scrolled": true,
        "id": "1VwSW1m_Bww1",
        "outputId": "50f0eb79-868d-460d-9262-69848f374c08"
      },
      "source": [
        "data.duplicated().sum()"
      ],
      "execution_count": null,
      "outputs": [
        {
          "output_type": "execute_result",
          "data": {
            "text/plain": [
              "0"
            ]
          },
          "metadata": {
            "tags": []
          },
          "execution_count": 9
        }
      ]
    },
    {
      "cell_type": "markdown",
      "metadata": {
        "id": "-Lkq5lvABww1"
      },
      "source": [
        "Выведем уникальные значения колонок, для поиска возможных дублей"
      ]
    },
    {
      "cell_type": "markdown",
      "metadata": {
        "id": "7SoRxdtyBww1"
      },
      "source": [
        "#### \"name\""
      ]
    },
    {
      "cell_type": "code",
      "metadata": {
        "scrolled": true,
        "id": "XrExPJ2DBww1",
        "outputId": "e619dae9-08e1-4615-e9b6-d190ce906ca8"
      },
      "source": [
        "t = data['name'].unique()\n",
        "print(t)"
      ],
      "execution_count": null,
      "outputs": [
        {
          "output_type": "stream",
          "text": [
            "['wii sports' 'super mario bros.' 'mario kart wii' ...\n",
            " 'woody woodpecker in crazy castle 5' 'lma manager 2007'\n",
            " 'haitaka no psychedelica']\n"
          ],
          "name": "stdout"
        }
      ]
    },
    {
      "cell_type": "markdown",
      "metadata": {
        "id": "IHKWnax9Bww2"
      },
      "source": [
        "Устраним лишние точки"
      ]
    },
    {
      "cell_type": "code",
      "metadata": {
        "id": "JfI-LYAjBww2"
      },
      "source": [
        "data['name'] = data['name'].str.replace('.','')"
      ],
      "execution_count": null,
      "outputs": []
    },
    {
      "cell_type": "markdown",
      "metadata": {
        "id": "LcPM_FyUBww2"
      },
      "source": [
        "#### \"platform\""
      ]
    },
    {
      "cell_type": "code",
      "metadata": {
        "scrolled": false,
        "id": "zz7Idha1Bww2",
        "outputId": "0cb7dd39-750a-433d-b8ca-54ee90b79984"
      },
      "source": [
        "data['platform'].unique()"
      ],
      "execution_count": null,
      "outputs": [
        {
          "output_type": "execute_result",
          "data": {
            "text/plain": [
              "array(['wii', 'nes', 'gb', 'ds', 'x360', 'ps3', 'ps2', 'snes', 'gba',\n",
              "       'ps4', '3ds', 'n64', 'ps', 'xb', 'pc', '2600', 'psp', 'xone',\n",
              "       'wiiu', 'gc', 'gen', 'dc', 'psv', 'sat', 'scd', 'ws', 'ng', 'tg16',\n",
              "       '3do', 'gg', 'pcfx'], dtype=object)"
            ]
          },
          "metadata": {
            "tags": []
          },
          "execution_count": 12
        }
      ]
    },
    {
      "cell_type": "markdown",
      "metadata": {
        "id": "iqli81nkBww2"
      },
      "source": [
        "замечен дубль, устраним заменой на правильное название"
      ]
    },
    {
      "cell_type": "code",
      "metadata": {
        "id": "0177rMqeBww2"
      },
      "source": [
        "data['platform'] = data['platform'].str.replace('wiiu','wii')"
      ],
      "execution_count": null,
      "outputs": []
    },
    {
      "cell_type": "markdown",
      "metadata": {
        "id": "o_D_pV8_Bww3"
      },
      "source": [
        "#### \"year_of_release\""
      ]
    },
    {
      "cell_type": "code",
      "metadata": {
        "scrolled": false,
        "id": "XrTIQoL9Bww3",
        "outputId": "ecfaba87-8424-41d3-8e28-2aa9cad373ba"
      },
      "source": [
        "data['year_of_release'].unique()"
      ],
      "execution_count": null,
      "outputs": [
        {
          "output_type": "execute_result",
          "data": {
            "text/plain": [
              "array([2006., 1985., 2008., 2009., 1996., 1989., 1984., 2005., 1999.,\n",
              "       2007., 2010., 2013., 2004., 1990., 1988., 2002., 2001., 2011.,\n",
              "       1998., 2015., 2012., 2014., 1992., 1997., 1993., 1994., 1982.,\n",
              "       2016., 2003., 1986., 2000.,   nan, 1995., 1991., 1981., 1987.,\n",
              "       1980., 1983.])"
            ]
          },
          "metadata": {
            "tags": []
          },
          "execution_count": 14
        }
      ]
    },
    {
      "cell_type": "code",
      "metadata": {
        "id": "HycGKEVnBww3",
        "outputId": "a5e9ffad-30bc-426a-ca5a-24d75ca5d71d"
      },
      "source": [
        "data.info()"
      ],
      "execution_count": null,
      "outputs": [
        {
          "output_type": "stream",
          "text": [
            "<class 'pandas.core.frame.DataFrame'>\n",
            "RangeIndex: 16715 entries, 0 to 16714\n",
            "Data columns (total 11 columns):\n",
            "name               16713 non-null object\n",
            "platform           16715 non-null object\n",
            "year_of_release    16446 non-null float64\n",
            "genre              16713 non-null object\n",
            "na_sales           16715 non-null float64\n",
            "eu_sales           16715 non-null float64\n",
            "jp_sales           16715 non-null float64\n",
            "other_sales        16715 non-null float64\n",
            "critic_score       8137 non-null float64\n",
            "user_score         10014 non-null object\n",
            "rating             9949 non-null object\n",
            "dtypes: float64(6), object(5)\n",
            "memory usage: 1.4+ MB\n"
          ],
          "name": "stdout"
        }
      ]
    },
    {
      "cell_type": "code",
      "metadata": {
        "scrolled": true,
        "id": "X5BWQvnRBww3",
        "outputId": "c861fc3b-644a-4cf9-bdd0-b987baadbe85"
      },
      "source": [
        "u=data.loc[data['year_of_release'].isna() == True] \n",
        "u.head()"
      ],
      "execution_count": null,
      "outputs": [
        {
          "output_type": "execute_result",
          "data": {
            "text/html": [
              "<div>\n",
              "<style scoped>\n",
              "    .dataframe tbody tr th:only-of-type {\n",
              "        vertical-align: middle;\n",
              "    }\n",
              "\n",
              "    .dataframe tbody tr th {\n",
              "        vertical-align: top;\n",
              "    }\n",
              "\n",
              "    .dataframe thead th {\n",
              "        text-align: right;\n",
              "    }\n",
              "</style>\n",
              "<table border=\"1\" class=\"dataframe\">\n",
              "  <thead>\n",
              "    <tr style=\"text-align: right;\">\n",
              "      <th></th>\n",
              "      <th>name</th>\n",
              "      <th>platform</th>\n",
              "      <th>year_of_release</th>\n",
              "      <th>genre</th>\n",
              "      <th>na_sales</th>\n",
              "      <th>eu_sales</th>\n",
              "      <th>jp_sales</th>\n",
              "      <th>other_sales</th>\n",
              "      <th>critic_score</th>\n",
              "      <th>user_score</th>\n",
              "      <th>rating</th>\n",
              "    </tr>\n",
              "  </thead>\n",
              "  <tbody>\n",
              "    <tr>\n",
              "      <td>183</td>\n",
              "      <td>madden nfl 2004</td>\n",
              "      <td>ps2</td>\n",
              "      <td>NaN</td>\n",
              "      <td>sports</td>\n",
              "      <td>4.26</td>\n",
              "      <td>0.26</td>\n",
              "      <td>0.01</td>\n",
              "      <td>0.71</td>\n",
              "      <td>94.0</td>\n",
              "      <td>8.5</td>\n",
              "      <td>E</td>\n",
              "    </tr>\n",
              "    <tr>\n",
              "      <td>377</td>\n",
              "      <td>fifa soccer 2004</td>\n",
              "      <td>ps2</td>\n",
              "      <td>NaN</td>\n",
              "      <td>sports</td>\n",
              "      <td>0.59</td>\n",
              "      <td>2.36</td>\n",
              "      <td>0.04</td>\n",
              "      <td>0.51</td>\n",
              "      <td>84.0</td>\n",
              "      <td>6.4</td>\n",
              "      <td>E</td>\n",
              "    </tr>\n",
              "    <tr>\n",
              "      <td>456</td>\n",
              "      <td>lego batman: the videogame</td>\n",
              "      <td>wii</td>\n",
              "      <td>NaN</td>\n",
              "      <td>action</td>\n",
              "      <td>1.80</td>\n",
              "      <td>0.97</td>\n",
              "      <td>0.00</td>\n",
              "      <td>0.29</td>\n",
              "      <td>74.0</td>\n",
              "      <td>7.9</td>\n",
              "      <td>E10+</td>\n",
              "    </tr>\n",
              "    <tr>\n",
              "      <td>475</td>\n",
              "      <td>wwe smackdown vs raw 2006</td>\n",
              "      <td>ps2</td>\n",
              "      <td>NaN</td>\n",
              "      <td>fighting</td>\n",
              "      <td>1.57</td>\n",
              "      <td>1.02</td>\n",
              "      <td>0.00</td>\n",
              "      <td>0.41</td>\n",
              "      <td>NaN</td>\n",
              "      <td>NaN</td>\n",
              "      <td>NaN</td>\n",
              "    </tr>\n",
              "    <tr>\n",
              "      <td>609</td>\n",
              "      <td>space invaders</td>\n",
              "      <td>2600</td>\n",
              "      <td>NaN</td>\n",
              "      <td>shooter</td>\n",
              "      <td>2.36</td>\n",
              "      <td>0.14</td>\n",
              "      <td>0.00</td>\n",
              "      <td>0.03</td>\n",
              "      <td>NaN</td>\n",
              "      <td>NaN</td>\n",
              "      <td>NaN</td>\n",
              "    </tr>\n",
              "  </tbody>\n",
              "</table>\n",
              "</div>"
            ],
            "text/plain": [
              "                           name platform  year_of_release     genre  na_sales  \\\n",
              "183             madden nfl 2004      ps2              NaN    sports      4.26   \n",
              "377            fifa soccer 2004      ps2              NaN    sports      0.59   \n",
              "456  lego batman: the videogame      wii              NaN    action      1.80   \n",
              "475   wwe smackdown vs raw 2006      ps2              NaN  fighting      1.57   \n",
              "609              space invaders     2600              NaN   shooter      2.36   \n",
              "\n",
              "     eu_sales  jp_sales  other_sales  critic_score user_score rating  \n",
              "183      0.26      0.01         0.71          94.0        8.5      E  \n",
              "377      2.36      0.04         0.51          84.0        6.4      E  \n",
              "456      0.97      0.00         0.29          74.0        7.9   E10+  \n",
              "475      1.02      0.00         0.41           NaN        NaN    NaN  \n",
              "609      0.14      0.00         0.03           NaN        NaN    NaN  "
            ]
          },
          "metadata": {
            "tags": []
          },
          "execution_count": 16
        }
      ]
    },
    {
      "cell_type": "markdown",
      "metadata": {
        "id": "gF7b0EpOBww3"
      },
      "source": [
        "<a id=\"step_2.3\"></a>\n",
        "#### Обработаем пропуски по необходимости"
      ]
    },
    {
      "cell_type": "markdown",
      "metadata": {
        "id": "LQvjKf0CBww4"
      },
      "source": [
        "Посмотрим на пропуски в колонке \"name\""
      ]
    },
    {
      "cell_type": "code",
      "metadata": {
        "scrolled": true,
        "id": "Xj-zmOy2Bww4",
        "outputId": "75dc823b-de92-4f54-b9cd-5a58a98b9e8e"
      },
      "source": [
        "data.loc[data['name'].isna()]"
      ],
      "execution_count": null,
      "outputs": [
        {
          "output_type": "execute_result",
          "data": {
            "text/html": [
              "<div>\n",
              "<style scoped>\n",
              "    .dataframe tbody tr th:only-of-type {\n",
              "        vertical-align: middle;\n",
              "    }\n",
              "\n",
              "    .dataframe tbody tr th {\n",
              "        vertical-align: top;\n",
              "    }\n",
              "\n",
              "    .dataframe thead th {\n",
              "        text-align: right;\n",
              "    }\n",
              "</style>\n",
              "<table border=\"1\" class=\"dataframe\">\n",
              "  <thead>\n",
              "    <tr style=\"text-align: right;\">\n",
              "      <th></th>\n",
              "      <th>name</th>\n",
              "      <th>platform</th>\n",
              "      <th>year_of_release</th>\n",
              "      <th>genre</th>\n",
              "      <th>na_sales</th>\n",
              "      <th>eu_sales</th>\n",
              "      <th>jp_sales</th>\n",
              "      <th>other_sales</th>\n",
              "      <th>critic_score</th>\n",
              "      <th>user_score</th>\n",
              "      <th>rating</th>\n",
              "    </tr>\n",
              "  </thead>\n",
              "  <tbody>\n",
              "    <tr>\n",
              "      <td>659</td>\n",
              "      <td>NaN</td>\n",
              "      <td>gen</td>\n",
              "      <td>1993.0</td>\n",
              "      <td>NaN</td>\n",
              "      <td>1.78</td>\n",
              "      <td>0.53</td>\n",
              "      <td>0.00</td>\n",
              "      <td>0.08</td>\n",
              "      <td>NaN</td>\n",
              "      <td>NaN</td>\n",
              "      <td>NaN</td>\n",
              "    </tr>\n",
              "    <tr>\n",
              "      <td>14244</td>\n",
              "      <td>NaN</td>\n",
              "      <td>gen</td>\n",
              "      <td>1993.0</td>\n",
              "      <td>NaN</td>\n",
              "      <td>0.00</td>\n",
              "      <td>0.00</td>\n",
              "      <td>0.03</td>\n",
              "      <td>0.00</td>\n",
              "      <td>NaN</td>\n",
              "      <td>NaN</td>\n",
              "      <td>NaN</td>\n",
              "    </tr>\n",
              "  </tbody>\n",
              "</table>\n",
              "</div>"
            ],
            "text/plain": [
              "      name platform  year_of_release genre  na_sales  eu_sales  jp_sales  \\\n",
              "659    NaN      gen           1993.0   NaN      1.78      0.53      0.00   \n",
              "14244  NaN      gen           1993.0   NaN      0.00      0.00      0.03   \n",
              "\n",
              "       other_sales  critic_score user_score rating  \n",
              "659           0.08           NaN        NaN    NaN  \n",
              "14244         0.00           NaN        NaN    NaN  "
            ]
          },
          "metadata": {
            "tags": []
          },
          "execution_count": 17
        }
      ]
    },
    {
      "cell_type": "markdown",
      "metadata": {
        "id": "WTCbyKnjBww4"
      },
      "source": [
        "Исходя из тех данных, которые мы видим, нет никакой значимости сохранять эти строки,т.к. название игр восстановлению не подлежит. Удалим эти строки, чтобы не мешали для дальнейшего подсчёта"
      ]
    },
    {
      "cell_type": "code",
      "metadata": {
        "id": "jswunhTmBww4"
      },
      "source": [
        "data.dropna(subset=['name'],inplace=True)"
      ],
      "execution_count": null,
      "outputs": []
    },
    {
      "cell_type": "code",
      "metadata": {
        "id": "hY9fvwp5Bww4"
      },
      "source": [
        "data= data.reset_index(drop=True)"
      ],
      "execution_count": null,
      "outputs": []
    },
    {
      "cell_type": "markdown",
      "metadata": {
        "id": "l0QDkdKVBww4"
      },
      "source": [
        "Проработаем пропуски в колонке **\"year_of_release\"**"
      ]
    },
    {
      "cell_type": "code",
      "metadata": {
        "scrolled": true,
        "id": "5UgNiHB4Bww5",
        "outputId": "29a9a054-9b71-46eb-9533-cfc02779b0fc"
      },
      "source": [
        "data['year_of_release'].isna().sum()"
      ],
      "execution_count": null,
      "outputs": [
        {
          "output_type": "execute_result",
          "data": {
            "text/plain": [
              "269"
            ]
          },
          "metadata": {
            "tags": []
          },
          "execution_count": 20
        }
      ]
    },
    {
      "cell_type": "markdown",
      "metadata": {
        "id": "8ph9mGypBww5"
      },
      "source": [
        "Составим функцию, которая будет выбирать из колонки \"name\" с названием игры год и вставлять его в колонку \"year_of_release\""
      ]
    },
    {
      "cell_type": "code",
      "metadata": {
        "id": "U293ovr3Bww5"
      },
      "source": [
        "def year(row):\n",
        "    for word in row.split():\n",
        "        if word.isdigit():\n",
        "            if len(word) == 4:\n",
        "                return int(word)"
      ],
      "execution_count": null,
      "outputs": []
    },
    {
      "cell_type": "code",
      "metadata": {
        "id": "pR4IM6wjBww6"
      },
      "source": [
        "def year_release(row):\n",
        "    if np.isnan(row['year_of_release']):\n",
        "        return year(row['name'])\n",
        "    else:\n",
        "        return row['year_of_release']\n",
        "data['year_of_release'] = data.apply(year_release, axis=1)"
      ],
      "execution_count": null,
      "outputs": []
    },
    {
      "cell_type": "markdown",
      "metadata": {
        "id": "1R8Why38Bww6"
      },
      "source": [
        "Проверим результат"
      ]
    },
    {
      "cell_type": "code",
      "metadata": {
        "scrolled": false,
        "id": "pRR1LAdsBww6",
        "outputId": "94b808e1-c5b9-42e6-c6ff-01749d014763"
      },
      "source": [
        "data['year_of_release'].isna().sum()"
      ],
      "execution_count": null,
      "outputs": [
        {
          "output_type": "execute_result",
          "data": {
            "text/plain": [
              "254"
            ]
          },
          "metadata": {
            "tags": []
          },
          "execution_count": 23
        }
      ]
    },
    {
      "cell_type": "markdown",
      "metadata": {
        "id": "Ih1e4up_Bww6"
      },
      "source": [
        "Отлично нам удалось заполнить 15 пропусков в годах актуальными значениями, обработаем остальные пропуски "
      ]
    },
    {
      "cell_type": "code",
      "metadata": {
        "scrolled": true,
        "id": "fKj1DBSHBww6",
        "outputId": "57218a1d-f172-4457-f59f-55c8bc2a40b8"
      },
      "source": [
        "data['year_of_release'].unique()"
      ],
      "execution_count": null,
      "outputs": [
        {
          "output_type": "execute_result",
          "data": {
            "text/plain": [
              "array([2006., 1985., 2008., 2009., 1996., 1989., 1984., 2005., 1999.,\n",
              "       2007., 2010., 2013., 2004., 1990., 1988., 2002., 2001., 2011.,\n",
              "       1998., 2015., 2012., 2014., 1992., 1997., 1993., 1994., 1982.,\n",
              "       2016., 2003., 1986., 2000., 1995., 1991., 1981., 1987., 1980.,\n",
              "       1983.,   nan])"
            ]
          },
          "metadata": {
            "tags": []
          },
          "execution_count": 24
        }
      ]
    },
    {
      "cell_type": "markdown",
      "metadata": {
        "id": "NYEYC7kSBww7"
      },
      "source": [
        "Для изменения типа на целочисленный, выполним замену недостающих значений на *0*"
      ]
    },
    {
      "cell_type": "code",
      "metadata": {
        "id": "gwOqX1-zBww7"
      },
      "source": [
        "data['year_of_release'] = data['year_of_release'].fillna(0)"
      ],
      "execution_count": null,
      "outputs": []
    },
    {
      "cell_type": "markdown",
      "metadata": {
        "id": "mOYGS1-sBww7"
      },
      "source": [
        "Приведём значения в колнке \"year_of_release\" к целочисленному формату."
      ]
    },
    {
      "cell_type": "code",
      "metadata": {
        "id": "Tj3rNtaeBww7"
      },
      "source": [
        "data['year_of_release'] = data['year_of_release'].astype('int')"
      ],
      "execution_count": null,
      "outputs": []
    },
    {
      "cell_type": "markdown",
      "metadata": {
        "id": "zH1Pnn_OBww7"
      },
      "source": [
        "<a id=\"step_2.4\"></a>\n",
        "#### Обратим внимание на аббревиатуру 'tbd' в столбцe \"user_score\" с рейтингом. Отдельно разберём это значение и опишем, как его обработать"
      ]
    },
    {
      "cell_type": "markdown",
      "metadata": {
        "id": "S0MNdI7SBww7"
      },
      "source": [
        "#### \"User_Score\""
      ]
    },
    {
      "cell_type": "code",
      "metadata": {
        "id": "KaLQTF_EBww7",
        "outputId": "e8c01d23-6d64-416a-ceb6-021be15b4745"
      },
      "source": [
        "data['user_score'].unique()"
      ],
      "execution_count": null,
      "outputs": [
        {
          "output_type": "execute_result",
          "data": {
            "text/plain": [
              "array(['8', nan, '8.3', '8.5', '6.6', '8.4', '8.6', '7.7', '6.3', '7.4',\n",
              "       '8.2', '9', '7.9', '8.1', '8.7', '7.1', '3.4', '5.3', '4.8', '3.2',\n",
              "       '8.9', '6.4', '7.8', '7.5', '2.6', '7.2', '9.2', '7', '7.3', '4.3',\n",
              "       '7.6', '5.7', '5', '9.1', '6.5', 'tbd', '8.8', '6.9', '9.4', '6.8',\n",
              "       '6.1', '6.7', '5.4', '4', '4.9', '4.5', '9.3', '6.2', '4.2', '6',\n",
              "       '3.7', '4.1', '5.8', '5.6', '5.5', '4.4', '4.6', '5.9', '3.9',\n",
              "       '3.1', '2.9', '5.2', '3.3', '4.7', '5.1', '3.5', '2.5', '1.9', '3',\n",
              "       '2.7', '2.2', '2', '9.5', '2.1', '3.6', '2.8', '1.8', '3.8', '0',\n",
              "       '1.6', '9.6', '2.4', '1.7', '1.1', '0.3', '1.5', '0.7', '1.2',\n",
              "       '2.3', '0.5', '1.3', '0.2', '0.6', '1.4', '0.9', '1', '9.7'],\n",
              "      dtype=object)"
            ]
          },
          "metadata": {
            "tags": []
          },
          "execution_count": 27
        }
      ]
    },
    {
      "cell_type": "code",
      "metadata": {
        "id": "xu-T0F6FBww8",
        "outputId": "aa51a049-e9dc-49ec-f868-f3609d847848"
      },
      "source": [
        "data.loc[data['user_score'] == 'tbd']['user_score'].count()"
      ],
      "execution_count": null,
      "outputs": [
        {
          "output_type": "execute_result",
          "data": {
            "text/plain": [
              "2424"
            ]
          },
          "metadata": {
            "tags": []
          },
          "execution_count": 28
        }
      ]
    },
    {
      "cell_type": "markdown",
      "metadata": {
        "id": "ss2hDJogBww8"
      },
      "source": [
        "##### Т.к. аббривиатура \"tbe\" расшифровывается как - To Be Determined(Будет определено), у нас данных по оценке пользователей нет, в то же время озменить на нулевое значение - это навредить средему значению рейтенга и всей статистике. Самым верным решением будет превратить **tbe* в *nan**, чтобы в дальнейшем мы могли изменить тип данных на численный. Применим метод  *to_numeric()*. "
      ]
    },
    {
      "cell_type": "code",
      "metadata": {
        "scrolled": true,
        "id": "AX9WDUlUBww8",
        "outputId": "9c0cc3e4-03bf-4a05-9b37-2fad94bc8bd8"
      },
      "source": [
        "data['user_score'] = pd.to_numeric(data['user_score'], errors='coerce')\n",
        "data.info()"
      ],
      "execution_count": null,
      "outputs": [
        {
          "output_type": "stream",
          "text": [
            "<class 'pandas.core.frame.DataFrame'>\n",
            "RangeIndex: 16713 entries, 0 to 16712\n",
            "Data columns (total 11 columns):\n",
            "name               16713 non-null object\n",
            "platform           16713 non-null object\n",
            "year_of_release    16713 non-null int64\n",
            "genre              16713 non-null object\n",
            "na_sales           16713 non-null float64\n",
            "eu_sales           16713 non-null float64\n",
            "jp_sales           16713 non-null float64\n",
            "other_sales        16713 non-null float64\n",
            "critic_score       8137 non-null float64\n",
            "user_score         7590 non-null float64\n",
            "rating             9949 non-null object\n",
            "dtypes: float64(6), int64(1), object(4)\n",
            "memory usage: 1.4+ MB\n"
          ],
          "name": "stdout"
        }
      ]
    },
    {
      "cell_type": "markdown",
      "metadata": {
        "id": "flbqqS8BBww9"
      },
      "source": [
        "Проверим реультат преобразования посмотрев на первые 5 строк таблицы"
      ]
    },
    {
      "cell_type": "code",
      "metadata": {
        "scrolled": true,
        "id": "A8WDYm4jBww9",
        "outputId": "df87afc2-a808-4848-de54-f5f306c98471"
      },
      "source": [
        "data.head()"
      ],
      "execution_count": null,
      "outputs": [
        {
          "output_type": "execute_result",
          "data": {
            "text/html": [
              "<div>\n",
              "<style scoped>\n",
              "    .dataframe tbody tr th:only-of-type {\n",
              "        vertical-align: middle;\n",
              "    }\n",
              "\n",
              "    .dataframe tbody tr th {\n",
              "        vertical-align: top;\n",
              "    }\n",
              "\n",
              "    .dataframe thead th {\n",
              "        text-align: right;\n",
              "    }\n",
              "</style>\n",
              "<table border=\"1\" class=\"dataframe\">\n",
              "  <thead>\n",
              "    <tr style=\"text-align: right;\">\n",
              "      <th></th>\n",
              "      <th>name</th>\n",
              "      <th>platform</th>\n",
              "      <th>year_of_release</th>\n",
              "      <th>genre</th>\n",
              "      <th>na_sales</th>\n",
              "      <th>eu_sales</th>\n",
              "      <th>jp_sales</th>\n",
              "      <th>other_sales</th>\n",
              "      <th>critic_score</th>\n",
              "      <th>user_score</th>\n",
              "      <th>rating</th>\n",
              "    </tr>\n",
              "  </thead>\n",
              "  <tbody>\n",
              "    <tr>\n",
              "      <td>0</td>\n",
              "      <td>wii sports</td>\n",
              "      <td>wii</td>\n",
              "      <td>2006</td>\n",
              "      <td>sports</td>\n",
              "      <td>41.36</td>\n",
              "      <td>28.96</td>\n",
              "      <td>3.77</td>\n",
              "      <td>8.45</td>\n",
              "      <td>76.0</td>\n",
              "      <td>8.0</td>\n",
              "      <td>E</td>\n",
              "    </tr>\n",
              "    <tr>\n",
              "      <td>1</td>\n",
              "      <td>super mario bros</td>\n",
              "      <td>nes</td>\n",
              "      <td>1985</td>\n",
              "      <td>platform</td>\n",
              "      <td>29.08</td>\n",
              "      <td>3.58</td>\n",
              "      <td>6.81</td>\n",
              "      <td>0.77</td>\n",
              "      <td>NaN</td>\n",
              "      <td>NaN</td>\n",
              "      <td>NaN</td>\n",
              "    </tr>\n",
              "    <tr>\n",
              "      <td>2</td>\n",
              "      <td>mario kart wii</td>\n",
              "      <td>wii</td>\n",
              "      <td>2008</td>\n",
              "      <td>racing</td>\n",
              "      <td>15.68</td>\n",
              "      <td>12.76</td>\n",
              "      <td>3.79</td>\n",
              "      <td>3.29</td>\n",
              "      <td>82.0</td>\n",
              "      <td>8.3</td>\n",
              "      <td>E</td>\n",
              "    </tr>\n",
              "    <tr>\n",
              "      <td>3</td>\n",
              "      <td>wii sports resort</td>\n",
              "      <td>wii</td>\n",
              "      <td>2009</td>\n",
              "      <td>sports</td>\n",
              "      <td>15.61</td>\n",
              "      <td>10.93</td>\n",
              "      <td>3.28</td>\n",
              "      <td>2.95</td>\n",
              "      <td>80.0</td>\n",
              "      <td>8.0</td>\n",
              "      <td>E</td>\n",
              "    </tr>\n",
              "    <tr>\n",
              "      <td>4</td>\n",
              "      <td>pokemon red/pokemon blue</td>\n",
              "      <td>gb</td>\n",
              "      <td>1996</td>\n",
              "      <td>role-playing</td>\n",
              "      <td>11.27</td>\n",
              "      <td>8.89</td>\n",
              "      <td>10.22</td>\n",
              "      <td>1.00</td>\n",
              "      <td>NaN</td>\n",
              "      <td>NaN</td>\n",
              "      <td>NaN</td>\n",
              "    </tr>\n",
              "  </tbody>\n",
              "</table>\n",
              "</div>"
            ],
            "text/plain": [
              "                       name platform  year_of_release         genre  na_sales  \\\n",
              "0                wii sports      wii             2006        sports     41.36   \n",
              "1          super mario bros      nes             1985      platform     29.08   \n",
              "2            mario kart wii      wii             2008        racing     15.68   \n",
              "3         wii sports resort      wii             2009        sports     15.61   \n",
              "4  pokemon red/pokemon blue       gb             1996  role-playing     11.27   \n",
              "\n",
              "   eu_sales  jp_sales  other_sales  critic_score  user_score rating  \n",
              "0     28.96      3.77         8.45          76.0         8.0      E  \n",
              "1      3.58      6.81         0.77           NaN         NaN    NaN  \n",
              "2     12.76      3.79         3.29          82.0         8.3      E  \n",
              "3     10.93      3.28         2.95          80.0         8.0      E  \n",
              "4      8.89     10.22         1.00           NaN         NaN    NaN  "
            ]
          },
          "metadata": {
            "tags": []
          },
          "execution_count": 30
        }
      ]
    },
    {
      "cell_type": "markdown",
      "metadata": {
        "id": "FzUWaFURBww9"
      },
      "source": [
        "<a id=\"step_2.5\"></a>\n",
        "#### Посчитаем суммарные продажи во всех регионах и запишем их в отдельный столбец"
      ]
    },
    {
      "cell_type": "code",
      "metadata": {
        "id": "83-l9aV7Bww9"
      },
      "source": [
        "data['sum_sales'] = data['na_sales']+data['eu_sales']+data['other_sales']+data['jp_sales']"
      ],
      "execution_count": null,
      "outputs": []
    },
    {
      "cell_type": "code",
      "metadata": {
        "scrolled": true,
        "id": "uKcx_SDNBww9",
        "outputId": "93b493f6-f306-4066-d686-2fe658019c41"
      },
      "source": [
        "data.head()"
      ],
      "execution_count": null,
      "outputs": [
        {
          "output_type": "execute_result",
          "data": {
            "text/html": [
              "<div>\n",
              "<style scoped>\n",
              "    .dataframe tbody tr th:only-of-type {\n",
              "        vertical-align: middle;\n",
              "    }\n",
              "\n",
              "    .dataframe tbody tr th {\n",
              "        vertical-align: top;\n",
              "    }\n",
              "\n",
              "    .dataframe thead th {\n",
              "        text-align: right;\n",
              "    }\n",
              "</style>\n",
              "<table border=\"1\" class=\"dataframe\">\n",
              "  <thead>\n",
              "    <tr style=\"text-align: right;\">\n",
              "      <th></th>\n",
              "      <th>name</th>\n",
              "      <th>platform</th>\n",
              "      <th>year_of_release</th>\n",
              "      <th>genre</th>\n",
              "      <th>na_sales</th>\n",
              "      <th>eu_sales</th>\n",
              "      <th>jp_sales</th>\n",
              "      <th>other_sales</th>\n",
              "      <th>critic_score</th>\n",
              "      <th>user_score</th>\n",
              "      <th>rating</th>\n",
              "      <th>sum_sales</th>\n",
              "    </tr>\n",
              "  </thead>\n",
              "  <tbody>\n",
              "    <tr>\n",
              "      <td>0</td>\n",
              "      <td>wii sports</td>\n",
              "      <td>wii</td>\n",
              "      <td>2006</td>\n",
              "      <td>sports</td>\n",
              "      <td>41.36</td>\n",
              "      <td>28.96</td>\n",
              "      <td>3.77</td>\n",
              "      <td>8.45</td>\n",
              "      <td>76.0</td>\n",
              "      <td>8.0</td>\n",
              "      <td>E</td>\n",
              "      <td>82.54</td>\n",
              "    </tr>\n",
              "    <tr>\n",
              "      <td>1</td>\n",
              "      <td>super mario bros</td>\n",
              "      <td>nes</td>\n",
              "      <td>1985</td>\n",
              "      <td>platform</td>\n",
              "      <td>29.08</td>\n",
              "      <td>3.58</td>\n",
              "      <td>6.81</td>\n",
              "      <td>0.77</td>\n",
              "      <td>NaN</td>\n",
              "      <td>NaN</td>\n",
              "      <td>NaN</td>\n",
              "      <td>40.24</td>\n",
              "    </tr>\n",
              "    <tr>\n",
              "      <td>2</td>\n",
              "      <td>mario kart wii</td>\n",
              "      <td>wii</td>\n",
              "      <td>2008</td>\n",
              "      <td>racing</td>\n",
              "      <td>15.68</td>\n",
              "      <td>12.76</td>\n",
              "      <td>3.79</td>\n",
              "      <td>3.29</td>\n",
              "      <td>82.0</td>\n",
              "      <td>8.3</td>\n",
              "      <td>E</td>\n",
              "      <td>35.52</td>\n",
              "    </tr>\n",
              "    <tr>\n",
              "      <td>3</td>\n",
              "      <td>wii sports resort</td>\n",
              "      <td>wii</td>\n",
              "      <td>2009</td>\n",
              "      <td>sports</td>\n",
              "      <td>15.61</td>\n",
              "      <td>10.93</td>\n",
              "      <td>3.28</td>\n",
              "      <td>2.95</td>\n",
              "      <td>80.0</td>\n",
              "      <td>8.0</td>\n",
              "      <td>E</td>\n",
              "      <td>32.77</td>\n",
              "    </tr>\n",
              "    <tr>\n",
              "      <td>4</td>\n",
              "      <td>pokemon red/pokemon blue</td>\n",
              "      <td>gb</td>\n",
              "      <td>1996</td>\n",
              "      <td>role-playing</td>\n",
              "      <td>11.27</td>\n",
              "      <td>8.89</td>\n",
              "      <td>10.22</td>\n",
              "      <td>1.00</td>\n",
              "      <td>NaN</td>\n",
              "      <td>NaN</td>\n",
              "      <td>NaN</td>\n",
              "      <td>31.38</td>\n",
              "    </tr>\n",
              "  </tbody>\n",
              "</table>\n",
              "</div>"
            ],
            "text/plain": [
              "                       name platform  year_of_release         genre  na_sales  \\\n",
              "0                wii sports      wii             2006        sports     41.36   \n",
              "1          super mario bros      nes             1985      platform     29.08   \n",
              "2            mario kart wii      wii             2008        racing     15.68   \n",
              "3         wii sports resort      wii             2009        sports     15.61   \n",
              "4  pokemon red/pokemon blue       gb             1996  role-playing     11.27   \n",
              "\n",
              "   eu_sales  jp_sales  other_sales  critic_score  user_score rating  sum_sales  \n",
              "0     28.96      3.77         8.45          76.0         8.0      E      82.54  \n",
              "1      3.58      6.81         0.77           NaN         NaN    NaN      40.24  \n",
              "2     12.76      3.79         3.29          82.0         8.3      E      35.52  \n",
              "3     10.93      3.28         2.95          80.0         8.0      E      32.77  \n",
              "4      8.89     10.22         1.00           NaN         NaN    NaN      31.38  "
            ]
          },
          "metadata": {
            "tags": []
          },
          "execution_count": 32
        }
      ]
    },
    {
      "cell_type": "markdown",
      "metadata": {
        "id": "qLVvYUO8Bww-"
      },
      "source": [
        "<a id=\"step_2.end\"></a>\n",
        "### Вывод"
      ]
    },
    {
      "cell_type": "markdown",
      "metadata": {
        "id": "rHWjG9_XBww-"
      },
      "source": [
        "Мы максимально постарались сохранить все данные и дополнить недостающие, к сожалению ввиду специфики данных применить средее либо медиану к рейтингам - это испортить уже имеющуюся статистику, если данные отсутствуют, значит возможно, что на то есть своя причина, такая как например отсутствие или низкие продажи, либо отсутствие пользовательского интереса и интереса кртиков ввиду своего течения времени(1985-1996 год.) В основном данные приведены в порядок и к нужным типам, и готовы для дальнейшего анализа. "
      ]
    },
    {
      "cell_type": "markdown",
      "metadata": {
        "id": "TcKH1YwBBww-"
      },
      "source": [
        "----"
      ]
    },
    {
      "cell_type": "markdown",
      "metadata": {
        "id": "8k0xjEHQBww-"
      },
      "source": [
        "<a href='#start'>Вернуться к оглавлению</a>\n",
        "<a id=\"step_3.1\"></a>\n",
        "### Глава 3. Проведём исследовательский анализ данных"
      ]
    },
    {
      "cell_type": "markdown",
      "metadata": {
        "id": "bm8carWBBww-"
      },
      "source": [
        "#### Посмотрим, сколько игр выпускалось в разные годы"
      ]
    },
    {
      "cell_type": "code",
      "metadata": {
        "scrolled": true,
        "id": "isFS9NnKBww_",
        "outputId": "dc9ecb13-da5c-464e-f4a9-91dcb9e30cb8"
      },
      "source": [
        "data.pivot_table(index='year_of_release', values='name', aggfunc='count').head()"
      ],
      "execution_count": null,
      "outputs": [
        {
          "output_type": "execute_result",
          "data": {
            "text/html": [
              "<div>\n",
              "<style scoped>\n",
              "    .dataframe tbody tr th:only-of-type {\n",
              "        vertical-align: middle;\n",
              "    }\n",
              "\n",
              "    .dataframe tbody tr th {\n",
              "        vertical-align: top;\n",
              "    }\n",
              "\n",
              "    .dataframe thead th {\n",
              "        text-align: right;\n",
              "    }\n",
              "</style>\n",
              "<table border=\"1\" class=\"dataframe\">\n",
              "  <thead>\n",
              "    <tr style=\"text-align: right;\">\n",
              "      <th></th>\n",
              "      <th>name</th>\n",
              "    </tr>\n",
              "    <tr>\n",
              "      <th>year_of_release</th>\n",
              "      <th></th>\n",
              "    </tr>\n",
              "  </thead>\n",
              "  <tbody>\n",
              "    <tr>\n",
              "      <td>0</td>\n",
              "      <td>254</td>\n",
              "    </tr>\n",
              "    <tr>\n",
              "      <td>1980</td>\n",
              "      <td>9</td>\n",
              "    </tr>\n",
              "    <tr>\n",
              "      <td>1981</td>\n",
              "      <td>46</td>\n",
              "    </tr>\n",
              "    <tr>\n",
              "      <td>1982</td>\n",
              "      <td>36</td>\n",
              "    </tr>\n",
              "    <tr>\n",
              "      <td>1983</td>\n",
              "      <td>17</td>\n",
              "    </tr>\n",
              "  </tbody>\n",
              "</table>\n",
              "</div>"
            ],
            "text/plain": [
              "                 name\n",
              "year_of_release      \n",
              "0                 254\n",
              "1980                9\n",
              "1981               46\n",
              "1982               36\n",
              "1983               17"
            ]
          },
          "metadata": {
            "tags": []
          },
          "execution_count": 33
        }
      ]
    },
    {
      "cell_type": "markdown",
      "metadata": {
        "id": "sIekRek9Bww_"
      },
      "source": [
        "Для наглядности построим график количества выпускаемых игр по годам"
      ]
    },
    {
      "cell_type": "code",
      "metadata": {
        "scrolled": true,
        "id": "8PRjNT-LBww_",
        "outputId": "d9ab397c-23dd-4cda-8c81-b3bf54d49240"
      },
      "source": [
        "data.pivot_table(index='year_of_release', values='name', aggfunc='count').query('year_of_release > 0').plot(figsize=(15,5), grid=True, title='Количество выпускаемых игр по годам',legend=False, linewidth=3)\n",
        "plt.ylabel('Количество, шт.')\n",
        "plt.xlabel('Год выпуска')\n",
        "plt.show()"
      ],
      "execution_count": null,
      "outputs": [
        {
          "output_type": "display_data",
          "data": {
            "image/png": "[encoded data removed]",
            "text/plain": [
              "<Figure size 1080x360 with 1 Axes>"
            ]
          },
          "metadata": {
            "tags": [],
            "needs_background": "light"
          }
        }
      ]
    },
    {
      "cell_type": "markdown",
      "metadata": {
        "id": "tyaNoFHyBwxA"
      },
      "source": [
        "<a id=\"step_3.2\"></a>\n",
        "#### Посмотрим, как менялись продажи по платформам. Выберим платформы с наибольшими суммарными продажами и построим  распределение по годам. Определим за какой характерный срок появляются новые и исчезают старые платформы"
      ]
    },
    {
      "cell_type": "code",
      "metadata": {
        "scrolled": false,
        "id": "UPpGXJujBwxA",
        "outputId": "36e4981b-5284-4bf2-a7df-64a960b0be3c"
      },
      "source": [
        "rating_platform = data.pivot_table(index=['year_of_release','platform'], values='sum_sales', aggfunc='sum').sort_values(by='sum_sales',ascending=False)\n",
        "rating_platform.head(10)"
      ],
      "execution_count": null,
      "outputs": [
        {
          "output_type": "execute_result",
          "data": {
            "text/html": [
              "<div>\n",
              "<style scoped>\n",
              "    .dataframe tbody tr th:only-of-type {\n",
              "        vertical-align: middle;\n",
              "    }\n",
              "\n",
              "    .dataframe tbody tr th {\n",
              "        vertical-align: top;\n",
              "    }\n",
              "\n",
              "    .dataframe thead th {\n",
              "        text-align: right;\n",
              "    }\n",
              "</style>\n",
              "<table border=\"1\" class=\"dataframe\">\n",
              "  <thead>\n",
              "    <tr style=\"text-align: right;\">\n",
              "      <th></th>\n",
              "      <th></th>\n",
              "      <th>sum_sales</th>\n",
              "    </tr>\n",
              "    <tr>\n",
              "      <th>year_of_release</th>\n",
              "      <th>platform</th>\n",
              "      <th></th>\n",
              "    </tr>\n",
              "  </thead>\n",
              "  <tbody>\n",
              "    <tr>\n",
              "      <td>2004</td>\n",
              "      <td>ps2</td>\n",
              "      <td>220.55</td>\n",
              "    </tr>\n",
              "    <tr>\n",
              "      <td>2009</td>\n",
              "      <td>wii</td>\n",
              "      <td>206.97</td>\n",
              "    </tr>\n",
              "    <tr>\n",
              "      <td>2002</td>\n",
              "      <td>ps2</td>\n",
              "      <td>205.38</td>\n",
              "    </tr>\n",
              "    <tr>\n",
              "      <td>2003</td>\n",
              "      <td>ps2</td>\n",
              "      <td>185.93</td>\n",
              "    </tr>\n",
              "    <tr>\n",
              "      <td>2008</td>\n",
              "      <td>wii</td>\n",
              "      <td>171.32</td>\n",
              "    </tr>\n",
              "    <tr>\n",
              "      <td>2010</td>\n",
              "      <td>x360</td>\n",
              "      <td>170.03</td>\n",
              "    </tr>\n",
              "    <tr>\n",
              "      <td>1998</td>\n",
              "      <td>ps</td>\n",
              "      <td>169.49</td>\n",
              "    </tr>\n",
              "    <tr>\n",
              "      <td>2001</td>\n",
              "      <td>ps2</td>\n",
              "      <td>166.43</td>\n",
              "    </tr>\n",
              "    <tr>\n",
              "      <td>2005</td>\n",
              "      <td>ps2</td>\n",
              "      <td>160.98</td>\n",
              "    </tr>\n",
              "    <tr>\n",
              "      <td>2011</td>\n",
              "      <td>ps3</td>\n",
              "      <td>156.78</td>\n",
              "    </tr>\n",
              "  </tbody>\n",
              "</table>\n",
              "</div>"
            ],
            "text/plain": [
              "                          sum_sales\n",
              "year_of_release platform           \n",
              "2004            ps2          220.55\n",
              "2009            wii          206.97\n",
              "2002            ps2          205.38\n",
              "2003            ps2          185.93\n",
              "2008            wii          171.32\n",
              "2010            x360         170.03\n",
              "1998            ps           169.49\n",
              "2001            ps2          166.43\n",
              "2005            ps2          160.98\n",
              "2011            ps3          156.78"
            ]
          },
          "metadata": {
            "tags": []
          },
          "execution_count": 35
        }
      ]
    },
    {
      "cell_type": "markdown",
      "metadata": {
        "id": "CbLywXm_BwxA"
      },
      "source": [
        "Посмотрим на распределение значений и построим ящик с \"усами\""
      ]
    },
    {
      "cell_type": "code",
      "metadata": {
        "scrolled": false,
        "id": "-zHtnOS6BwxA",
        "outputId": "bd5fa1e6-c953-4809-db39-629961c1d543"
      },
      "source": [
        "rating_platform.query('year_of_release == [\"2013\",\"2014\",\"2015\",\"2016\"]').boxplot()\n",
        "plt.xlabel('Данные по выборке с 2013-2016 год')\n",
        "plt.ylabel('Общее количество проданных копий')\n",
        "plt.title('Диаграмма размаха общего количество проданных копий')\n",
        "plt.show()"
      ],
      "execution_count": null,
      "outputs": [
        {
          "output_type": "display_data",
          "data": {
            "image/png": "[encoded data removed]",
            "text/plain": [
              "<Figure size 432x288 with 1 Axes>"
            ]
          },
          "metadata": {
            "tags": [],
            "needs_background": "light"
          }
        }
      ]
    },
    {
      "cell_type": "markdown",
      "metadata": {
        "id": "vlLtwSpWBwxA"
      },
      "source": [
        "Отсечём выбивающиеся занчения для построения графика"
      ]
    },
    {
      "cell_type": "code",
      "metadata": {
        "scrolled": false,
        "id": "P7VGrY_hBwxB",
        "outputId": "6652f5a5-1dc7-4452-9557-9bc42b4130af"
      },
      "source": [
        "rating_platform.query('year_of_release == [\"2013\",\"2014\",\"2015\",\"2016\"] and sum_sales < 110').sort_values(by='year_of_release', ascending=True).plot(kind='bar', figsize=(15,5), grid=False, title='Суммарные сборы платформ по годам',legend=False,)\n",
        "plt.xlabel('Год выпуска, Платформа')\n",
        "plt.ylabel('Общее количество проданных копий')\n",
        "plt.show()"
      ],
      "execution_count": null,
      "outputs": [
        {
          "output_type": "display_data",
          "data": {
            "image/png": "[encoded data removed]",
            "text/plain": [
              "<Figure size 1080x360 with 1 Axes>"
            ]
          },
          "metadata": {
            "tags": [],
            "needs_background": "light"
          }
        }
      ]
    },
    {
      "cell_type": "markdown",
      "metadata": {
        "id": "y5XbUvBKBwxB"
      },
      "source": [
        "Определим теперь самые популярные платформы и самые провальные для выборки с 2013-2016 годы"
      ]
    },
    {
      "cell_type": "code",
      "metadata": {
        "scrolled": false,
        "id": "dk13q6HLBwxB"
      },
      "source": [
        "r=rating_platform.query('year_of_release > 0').reset_index().sort_values(by='year_of_release', ascending=True)"
      ],
      "execution_count": null,
      "outputs": []
    },
    {
      "cell_type": "code",
      "metadata": {
        "scrolled": true,
        "id": "nLe9OYkUBwxB",
        "outputId": "95d1af6d-32b6-4fb3-fe00-0d6f82f7d4e9"
      },
      "source": [
        "r[r['year_of_release'] == 2013].query('sum_sales == sum_sales.max() or sum_sales == sum_sales.min()')"
      ],
      "execution_count": null,
      "outputs": [
        {
          "output_type": "execute_result",
          "data": {
            "text/html": [
              "<div>\n",
              "<style scoped>\n",
              "    .dataframe tbody tr th:only-of-type {\n",
              "        vertical-align: middle;\n",
              "    }\n",
              "\n",
              "    .dataframe tbody tr th {\n",
              "        vertical-align: top;\n",
              "    }\n",
              "\n",
              "    .dataframe thead th {\n",
              "        text-align: right;\n",
              "    }\n",
              "</style>\n",
              "<table border=\"1\" class=\"dataframe\">\n",
              "  <thead>\n",
              "    <tr style=\"text-align: right;\">\n",
              "      <th></th>\n",
              "      <th>year_of_release</th>\n",
              "      <th>platform</th>\n",
              "      <th>sum_sales</th>\n",
              "    </tr>\n",
              "  </thead>\n",
              "  <tbody>\n",
              "    <tr>\n",
              "      <td>27</td>\n",
              "      <td>2013</td>\n",
              "      <td>ps3</td>\n",
              "      <td>113.25</td>\n",
              "    </tr>\n",
              "    <tr>\n",
              "      <td>189</td>\n",
              "      <td>2013</td>\n",
              "      <td>ds</td>\n",
              "      <td>1.54</td>\n",
              "    </tr>\n",
              "  </tbody>\n",
              "</table>\n",
              "</div>"
            ],
            "text/plain": [
              "     year_of_release platform  sum_sales\n",
              "27              2013      ps3     113.25\n",
              "189             2013       ds       1.54"
            ]
          },
          "metadata": {
            "tags": []
          },
          "execution_count": 39
        }
      ]
    },
    {
      "cell_type": "code",
      "metadata": {
        "scrolled": false,
        "id": "SF-5LZbQBwxB",
        "outputId": "84eebf91-399d-4714-c760-85d80f8e0223"
      },
      "source": [
        "r[r['year_of_release'] == 2014].query('sum_sales == sum_sales.max() or sum_sales == sum_sales.min()')"
      ],
      "execution_count": null,
      "outputs": [
        {
          "output_type": "execute_result",
          "data": {
            "text/html": [
              "<div>\n",
              "<style scoped>\n",
              "    .dataframe tbody tr th:only-of-type {\n",
              "        vertical-align: middle;\n",
              "    }\n",
              "\n",
              "    .dataframe tbody tr th {\n",
              "        vertical-align: top;\n",
              "    }\n",
              "\n",
              "    .dataframe thead th {\n",
              "        text-align: right;\n",
              "    }\n",
              "</style>\n",
              "<table border=\"1\" class=\"dataframe\">\n",
              "  <thead>\n",
              "    <tr style=\"text-align: right;\">\n",
              "      <th></th>\n",
              "      <th>year_of_release</th>\n",
              "      <th>platform</th>\n",
              "      <th>sum_sales</th>\n",
              "    </tr>\n",
              "  </thead>\n",
              "  <tbody>\n",
              "    <tr>\n",
              "      <td>30</td>\n",
              "      <td>2014</td>\n",
              "      <td>ps4</td>\n",
              "      <td>100.00</td>\n",
              "    </tr>\n",
              "    <tr>\n",
              "      <td>213</td>\n",
              "      <td>2014</td>\n",
              "      <td>psp</td>\n",
              "      <td>0.24</td>\n",
              "    </tr>\n",
              "  </tbody>\n",
              "</table>\n",
              "</div>"
            ],
            "text/plain": [
              "     year_of_release platform  sum_sales\n",
              "30              2014      ps4     100.00\n",
              "213             2014      psp       0.24"
            ]
          },
          "metadata": {
            "tags": []
          },
          "execution_count": 40
        }
      ]
    },
    {
      "cell_type": "code",
      "metadata": {
        "scrolled": true,
        "id": "u-Ps9msPBwxB",
        "outputId": "6da1e0d0-8f6f-48a3-852f-5bf463a80f09"
      },
      "source": [
        "r[r['year_of_release'] == 2015].query('sum_sales == sum_sales.max() or sum_sales == sum_sales.min()')"
      ],
      "execution_count": null,
      "outputs": [
        {
          "output_type": "execute_result",
          "data": {
            "text/html": [
              "<div>\n",
              "<style scoped>\n",
              "    .dataframe tbody tr th:only-of-type {\n",
              "        vertical-align: middle;\n",
              "    }\n",
              "\n",
              "    .dataframe tbody tr th {\n",
              "        vertical-align: top;\n",
              "    }\n",
              "\n",
              "    .dataframe thead th {\n",
              "        text-align: right;\n",
              "    }\n",
              "</style>\n",
              "<table border=\"1\" class=\"dataframe\">\n",
              "  <thead>\n",
              "    <tr style=\"text-align: right;\">\n",
              "      <th></th>\n",
              "      <th>year_of_release</th>\n",
              "      <th>platform</th>\n",
              "      <th>sum_sales</th>\n",
              "    </tr>\n",
              "  </thead>\n",
              "  <tbody>\n",
              "    <tr>\n",
              "      <td>25</td>\n",
              "      <td>2015</td>\n",
              "      <td>ps4</td>\n",
              "      <td>118.90</td>\n",
              "    </tr>\n",
              "    <tr>\n",
              "      <td>218</td>\n",
              "      <td>2015</td>\n",
              "      <td>psp</td>\n",
              "      <td>0.12</td>\n",
              "    </tr>\n",
              "  </tbody>\n",
              "</table>\n",
              "</div>"
            ],
            "text/plain": [
              "     year_of_release platform  sum_sales\n",
              "25              2015      ps4     118.90\n",
              "218             2015      psp       0.12"
            ]
          },
          "metadata": {
            "tags": []
          },
          "execution_count": 41
        }
      ]
    },
    {
      "cell_type": "code",
      "metadata": {
        "scrolled": true,
        "id": "Gz_2nWOQBwxC",
        "outputId": "cc3ede36-2fb8-4d29-ff8d-a24d6789b8af"
      },
      "source": [
        "r[r['year_of_release'] == 2016].query('sum_sales == sum_sales.max() or sum_sales == sum_sales.min()')"
      ],
      "execution_count": null,
      "outputs": [
        {
          "output_type": "execute_result",
          "data": {
            "text/html": [
              "<div>\n",
              "<style scoped>\n",
              "    .dataframe tbody tr th:only-of-type {\n",
              "        vertical-align: middle;\n",
              "    }\n",
              "\n",
              "    .dataframe tbody tr th {\n",
              "        vertical-align: top;\n",
              "    }\n",
              "\n",
              "    .dataframe thead th {\n",
              "        text-align: right;\n",
              "    }\n",
              "</style>\n",
              "<table border=\"1\" class=\"dataframe\">\n",
              "  <thead>\n",
              "    <tr style=\"text-align: right;\">\n",
              "      <th></th>\n",
              "      <th>year_of_release</th>\n",
              "      <th>platform</th>\n",
              "      <th>sum_sales</th>\n",
              "    </tr>\n",
              "  </thead>\n",
              "  <tbody>\n",
              "    <tr>\n",
              "      <td>41</td>\n",
              "      <td>2016</td>\n",
              "      <td>ps4</td>\n",
              "      <td>69.25</td>\n",
              "    </tr>\n",
              "    <tr>\n",
              "      <td>190</td>\n",
              "      <td>2016</td>\n",
              "      <td>x360</td>\n",
              "      <td>1.52</td>\n",
              "    </tr>\n",
              "  </tbody>\n",
              "</table>\n",
              "</div>"
            ],
            "text/plain": [
              "     year_of_release platform  sum_sales\n",
              "41              2016      ps4      69.25\n",
              "190             2016     x360       1.52"
            ]
          },
          "metadata": {
            "tags": []
          },
          "execution_count": 42
        }
      ]
    },
    {
      "cell_type": "markdown",
      "metadata": {
        "id": "4cBNqq32BwxC"
      },
      "source": [
        "Составим таблицу c лидирующими платформами за выбранный период"
      ]
    },
    {
      "cell_type": "code",
      "metadata": {
        "scrolled": false,
        "id": "6MOjygSCBwxC",
        "outputId": "f4ad637a-e1f8-4c21-a1dd-03bbac90fd6c"
      },
      "source": [
        "r.loc[[27,30,25,41],:]"
      ],
      "execution_count": null,
      "outputs": [
        {
          "output_type": "execute_result",
          "data": {
            "text/html": [
              "<div>\n",
              "<style scoped>\n",
              "    .dataframe tbody tr th:only-of-type {\n",
              "        vertical-align: middle;\n",
              "    }\n",
              "\n",
              "    .dataframe tbody tr th {\n",
              "        vertical-align: top;\n",
              "    }\n",
              "\n",
              "    .dataframe thead th {\n",
              "        text-align: right;\n",
              "    }\n",
              "</style>\n",
              "<table border=\"1\" class=\"dataframe\">\n",
              "  <thead>\n",
              "    <tr style=\"text-align: right;\">\n",
              "      <th></th>\n",
              "      <th>year_of_release</th>\n",
              "      <th>platform</th>\n",
              "      <th>sum_sales</th>\n",
              "    </tr>\n",
              "  </thead>\n",
              "  <tbody>\n",
              "    <tr>\n",
              "      <td>27</td>\n",
              "      <td>2013</td>\n",
              "      <td>ps3</td>\n",
              "      <td>113.25</td>\n",
              "    </tr>\n",
              "    <tr>\n",
              "      <td>30</td>\n",
              "      <td>2014</td>\n",
              "      <td>ps4</td>\n",
              "      <td>100.00</td>\n",
              "    </tr>\n",
              "    <tr>\n",
              "      <td>25</td>\n",
              "      <td>2015</td>\n",
              "      <td>ps4</td>\n",
              "      <td>118.90</td>\n",
              "    </tr>\n",
              "    <tr>\n",
              "      <td>41</td>\n",
              "      <td>2016</td>\n",
              "      <td>ps4</td>\n",
              "      <td>69.25</td>\n",
              "    </tr>\n",
              "  </tbody>\n",
              "</table>\n",
              "</div>"
            ],
            "text/plain": [
              "    year_of_release platform  sum_sales\n",
              "27             2013      ps3     113.25\n",
              "30             2014      ps4     100.00\n",
              "25             2015      ps4     118.90\n",
              "41             2016      ps4      69.25"
            ]
          },
          "metadata": {
            "tags": []
          },
          "execution_count": 43
        }
      ]
    },
    {
      "cell_type": "markdown",
      "metadata": {
        "id": "Cr_TzPQdBwxC"
      },
      "source": [
        "Составим список с самыми не популярными платформами а тот же период"
      ]
    },
    {
      "cell_type": "code",
      "metadata": {
        "scrolled": false,
        "id": "N6uIbRfFBwxC",
        "outputId": "089f6548-bfd7-43a0-eb4d-2060c8a3172c"
      },
      "source": [
        "r.loc[[189,213,218,190],:]"
      ],
      "execution_count": null,
      "outputs": [
        {
          "output_type": "execute_result",
          "data": {
            "text/html": [
              "<div>\n",
              "<style scoped>\n",
              "    .dataframe tbody tr th:only-of-type {\n",
              "        vertical-align: middle;\n",
              "    }\n",
              "\n",
              "    .dataframe tbody tr th {\n",
              "        vertical-align: top;\n",
              "    }\n",
              "\n",
              "    .dataframe thead th {\n",
              "        text-align: right;\n",
              "    }\n",
              "</style>\n",
              "<table border=\"1\" class=\"dataframe\">\n",
              "  <thead>\n",
              "    <tr style=\"text-align: right;\">\n",
              "      <th></th>\n",
              "      <th>year_of_release</th>\n",
              "      <th>platform</th>\n",
              "      <th>sum_sales</th>\n",
              "    </tr>\n",
              "  </thead>\n",
              "  <tbody>\n",
              "    <tr>\n",
              "      <td>189</td>\n",
              "      <td>2013</td>\n",
              "      <td>ds</td>\n",
              "      <td>1.54</td>\n",
              "    </tr>\n",
              "    <tr>\n",
              "      <td>213</td>\n",
              "      <td>2014</td>\n",
              "      <td>psp</td>\n",
              "      <td>0.24</td>\n",
              "    </tr>\n",
              "    <tr>\n",
              "      <td>218</td>\n",
              "      <td>2015</td>\n",
              "      <td>psp</td>\n",
              "      <td>0.12</td>\n",
              "    </tr>\n",
              "    <tr>\n",
              "      <td>190</td>\n",
              "      <td>2016</td>\n",
              "      <td>x360</td>\n",
              "      <td>1.52</td>\n",
              "    </tr>\n",
              "  </tbody>\n",
              "</table>\n",
              "</div>"
            ],
            "text/plain": [
              "     year_of_release platform  sum_sales\n",
              "189             2013       ds       1.54\n",
              "213             2014      psp       0.24\n",
              "218             2015      psp       0.12\n",
              "190             2016     x360       1.52"
            ]
          },
          "metadata": {
            "tags": []
          },
          "execution_count": 44
        }
      ]
    },
    {
      "cell_type": "markdown",
      "metadata": {
        "id": "d8UP6jFGBwxC"
      },
      "source": [
        "Для полной картины постром графики со значениями популярности за все предыдущие годы по популярным и непопулярным платформам"
      ]
    },
    {
      "cell_type": "code",
      "metadata": {
        "id": "d8Q2MtcTBwxD",
        "outputId": "e7b4f1fc-2c4e-4847-9466-57565480bf66"
      },
      "source": [
        "rating_platform.reset_index(1).query('year_of_release > 0 and platform == [\"3ds\"]').sort_values(by='year_of_release', ascending=True).plot(kind='bar', figsize=(5,4), grid=False, title='Суммарные сборы платформы по годам \"3ds\"',legend=False)\n",
        "plt.ylabel('Количесвто проданных копий, млн.')\n",
        "plt.xlabel('Год выпуска')\n",
        "rating_platform.reset_index(1).query('year_of_release > 0 and platform == [\"ps3\"]').sort_values(by='year_of_release', ascending=True).plot(kind='bar',figsize=(5,4), grid=False, title='Суммарные сборы платформы по годам \"ps3\"',legend=False)\n",
        "plt.ylabel('Количесвто проданных копий, млн.')\n",
        "plt.xlabel('Год выпуска')\n",
        "rating_platform.reset_index(1).query('year_of_release > 0 and platform == [\"ps4\"]').sort_values(by='year_of_release', ascending=True).plot(kind='bar',figsize=(5,4), grid=False, title='Суммарные сборы платформы по годам \"ps4\"',legend=False)\n",
        "plt.ylabel('Количесвто проданных копий, млн.')\n",
        "plt.xlabel('Год выпуска')\n",
        "rating_platform.reset_index(1).query('year_of_release > 0 and platform == \"psp\"').sort_values(by='year_of_release', ascending=True).plot(kind='bar',figsize=(5,4), grid=False, title='Суммарные сборы платформы по годам \"psp\"',legend=False)\n",
        "plt.ylabel('Количесвто проданных копий, млн.')\n",
        "plt.xlabel('Год выпуска')\n",
        "rating_platform.reset_index(1).query('year_of_release > 0 and platform == \"x360\"').sort_values(by='year_of_release', ascending=True).plot(kind='bar',figsize=(5,4), grid=False, title='Суммарные сборы платформы по годам \"x360\"',legend=False)\n",
        "plt.ylabel('Количесвто проданных копий, млн.')\n",
        "plt.xlabel('Год выпуска')\n",
        "\n",
        "plt.show()"
      ],
      "execution_count": null,
      "outputs": [
        {
          "output_type": "display_data",
          "data": {
            "image/png": "[encoded data removed]",
            "text/plain": [
              "<Figure size 360x288 with 1 Axes>"
            ]
          },
          "metadata": {
            "tags": [],
            "needs_background": "light"
          }
        },
        {
          "output_type": "display_data",
          "data": {
            "image/png": "[encoded data removed]",
            "text/plain": [
              "<Figure size 360x288 with 1 Axes>"
            ]
          },
          "metadata": {
            "tags": [],
            "needs_background": "light"
          }
        },
        {
          "output_type": "display_data",
          "data": {
            "image/png": "[encoded data removed]",
            "text/plain": [
              "<Figure size 360x288 with 1 Axes>"
            ]
          },
          "metadata": {
            "tags": [],
            "needs_background": "light"
          }
        },
        {
          "output_type": "display_data",
          "data": {
            "image/png": "[encoded data removed]",
            "text/plain": [
              "<Figure size 360x288 with 1 Axes>"
            ]
          },
          "metadata": {
            "tags": [],
            "needs_background": "light"
          }
        },
        {
          "output_type": "display_data",
          "data": {
            "image/png": "[encoded data removed]",
            "text/plain": [
              "<Figure size 360x288 with 1 Axes>"
            ]
          },
          "metadata": {
            "tags": [],
            "needs_background": "light"
          }
        }
      ]
    },
    {
      "cell_type": "markdown",
      "metadata": {
        "id": "x32pGmBWBwxD"
      },
      "source": [
        "<a id=\"step_3.3\"></a>\n",
        "#### Возьмём данные за соответствующий актуальный период. Основной фактор — эти данные помогут построить прогноз на 2017 год"
      ]
    },
    {
      "cell_type": "code",
      "metadata": {
        "id": "atNE7g3EBwxD",
        "outputId": "dc2f0c1f-cd4f-452b-e942-362a02735693"
      },
      "source": [
        "prev_data = data.query('year_of_release == [2013,2014,2015,2016]').sort_values(by='sum_sales', ascending=False)\n",
        "prev_data.head()"
      ],
      "execution_count": null,
      "outputs": [
        {
          "output_type": "execute_result",
          "data": {
            "text/html": [
              "<div>\n",
              "<style scoped>\n",
              "    .dataframe tbody tr th:only-of-type {\n",
              "        vertical-align: middle;\n",
              "    }\n",
              "\n",
              "    .dataframe tbody tr th {\n",
              "        vertical-align: top;\n",
              "    }\n",
              "\n",
              "    .dataframe thead th {\n",
              "        text-align: right;\n",
              "    }\n",
              "</style>\n",
              "<table border=\"1\" class=\"dataframe\">\n",
              "  <thead>\n",
              "    <tr style=\"text-align: right;\">\n",
              "      <th></th>\n",
              "      <th>name</th>\n",
              "      <th>platform</th>\n",
              "      <th>year_of_release</th>\n",
              "      <th>genre</th>\n",
              "      <th>na_sales</th>\n",
              "      <th>eu_sales</th>\n",
              "      <th>jp_sales</th>\n",
              "      <th>other_sales</th>\n",
              "      <th>critic_score</th>\n",
              "      <th>user_score</th>\n",
              "      <th>rating</th>\n",
              "      <th>sum_sales</th>\n",
              "    </tr>\n",
              "  </thead>\n",
              "  <tbody>\n",
              "    <tr>\n",
              "      <td>16</td>\n",
              "      <td>grand theft auto v</td>\n",
              "      <td>ps3</td>\n",
              "      <td>2013</td>\n",
              "      <td>action</td>\n",
              "      <td>7.02</td>\n",
              "      <td>9.09</td>\n",
              "      <td>0.98</td>\n",
              "      <td>3.96</td>\n",
              "      <td>97.0</td>\n",
              "      <td>8.2</td>\n",
              "      <td>M</td>\n",
              "      <td>21.05</td>\n",
              "    </tr>\n",
              "    <tr>\n",
              "      <td>23</td>\n",
              "      <td>grand theft auto v</td>\n",
              "      <td>x360</td>\n",
              "      <td>2013</td>\n",
              "      <td>action</td>\n",
              "      <td>9.66</td>\n",
              "      <td>5.14</td>\n",
              "      <td>0.06</td>\n",
              "      <td>1.41</td>\n",
              "      <td>97.0</td>\n",
              "      <td>8.1</td>\n",
              "      <td>M</td>\n",
              "      <td>16.27</td>\n",
              "    </tr>\n",
              "    <tr>\n",
              "      <td>31</td>\n",
              "      <td>call of duty: black ops 3</td>\n",
              "      <td>ps4</td>\n",
              "      <td>2015</td>\n",
              "      <td>shooter</td>\n",
              "      <td>6.03</td>\n",
              "      <td>5.86</td>\n",
              "      <td>0.36</td>\n",
              "      <td>2.38</td>\n",
              "      <td>NaN</td>\n",
              "      <td>NaN</td>\n",
              "      <td>NaN</td>\n",
              "      <td>14.63</td>\n",
              "    </tr>\n",
              "    <tr>\n",
              "      <td>33</td>\n",
              "      <td>pokemon x/pokemon y</td>\n",
              "      <td>3ds</td>\n",
              "      <td>2013</td>\n",
              "      <td>role-playing</td>\n",
              "      <td>5.28</td>\n",
              "      <td>4.19</td>\n",
              "      <td>4.35</td>\n",
              "      <td>0.78</td>\n",
              "      <td>NaN</td>\n",
              "      <td>NaN</td>\n",
              "      <td>NaN</td>\n",
              "      <td>14.60</td>\n",
              "    </tr>\n",
              "    <tr>\n",
              "      <td>42</td>\n",
              "      <td>grand theft auto v</td>\n",
              "      <td>ps4</td>\n",
              "      <td>2014</td>\n",
              "      <td>action</td>\n",
              "      <td>3.96</td>\n",
              "      <td>6.31</td>\n",
              "      <td>0.38</td>\n",
              "      <td>1.97</td>\n",
              "      <td>97.0</td>\n",
              "      <td>8.3</td>\n",
              "      <td>M</td>\n",
              "      <td>12.62</td>\n",
              "    </tr>\n",
              "  </tbody>\n",
              "</table>\n",
              "</div>"
            ],
            "text/plain": [
              "                         name platform  year_of_release         genre  \\\n",
              "16         grand theft auto v      ps3             2013        action   \n",
              "23         grand theft auto v     x360             2013        action   \n",
              "31  call of duty: black ops 3      ps4             2015       shooter   \n",
              "33        pokemon x/pokemon y      3ds             2013  role-playing   \n",
              "42         grand theft auto v      ps4             2014        action   \n",
              "\n",
              "    na_sales  eu_sales  jp_sales  other_sales  critic_score  user_score  \\\n",
              "16      7.02      9.09      0.98         3.96          97.0         8.2   \n",
              "23      9.66      5.14      0.06         1.41          97.0         8.1   \n",
              "31      6.03      5.86      0.36         2.38           NaN         NaN   \n",
              "33      5.28      4.19      4.35         0.78           NaN         NaN   \n",
              "42      3.96      6.31      0.38         1.97          97.0         8.3   \n",
              "\n",
              "   rating  sum_sales  \n",
              "16      M      21.05  \n",
              "23      M      16.27  \n",
              "31    NaN      14.63  \n",
              "33    NaN      14.60  \n",
              "42      M      12.62  "
            ]
          },
          "metadata": {
            "tags": []
          },
          "execution_count": 46
        }
      ]
    },
    {
      "cell_type": "markdown",
      "metadata": {
        "id": "SxcilVwSBwxD"
      },
      "source": [
        "<a id=\"step_3.4\"></a>\n",
        "#### Определим какие платформы лидируют по продажам, растут или падают. Выберем несколько потенциально прибыльных платформ"
      ]
    },
    {
      "cell_type": "code",
      "metadata": {
        "id": "r_jRh52FBwxE",
        "outputId": "10d5b332-5a44-40b0-825a-15081bc50c18"
      },
      "source": [
        "prev_data.pivot_table(index='platform', values='sum_sales', aggfunc='sum').sort_values(by='sum_sales').plot(grid=True,linewidth=3, title='График распределения продаж игр на платформы',figsize=(8,5))\n",
        "plt.xlabel('Платформа')\n",
        "plt.ylabel('Общее количество проданных копий, млн.шт')\n",
        "plt.show()"
      ],
      "execution_count": null,
      "outputs": [
        {
          "output_type": "display_data",
          "data": {
            "image/png": "[encoded data removed]",
            "text/plain": [
              "<Figure size 576x360 with 1 Axes>"
            ]
          },
          "metadata": {
            "tags": [],
            "needs_background": "light"
          }
        }
      ]
    },
    {
      "cell_type": "markdown",
      "metadata": {
        "id": "7uEsL4tDBwxE"
      },
      "source": [
        "<a id=\"step_3.5\"></a>\n",
        "#### Построим график «ящик с усами» по глобальным продажам игр в разбивке по платформам. Опишем результат."
      ]
    },
    {
      "cell_type": "code",
      "metadata": {
        "scrolled": false,
        "id": "jubZoWocBwxE",
        "outputId": "c59c6d71-52ad-4722-8918-8e3bb1955d29"
      },
      "source": [
        "box_data = prev_data.pivot_table(index=['name','platform'], values='sum_sales', aggfunc='mean').sort_values(by='sum_sales',ascending=False)\n",
        "box_data.head()"
      ],
      "execution_count": null,
      "outputs": [
        {
          "output_type": "execute_result",
          "data": {
            "text/html": [
              "<div>\n",
              "<style scoped>\n",
              "    .dataframe tbody tr th:only-of-type {\n",
              "        vertical-align: middle;\n",
              "    }\n",
              "\n",
              "    .dataframe tbody tr th {\n",
              "        vertical-align: top;\n",
              "    }\n",
              "\n",
              "    .dataframe thead th {\n",
              "        text-align: right;\n",
              "    }\n",
              "</style>\n",
              "<table border=\"1\" class=\"dataframe\">\n",
              "  <thead>\n",
              "    <tr style=\"text-align: right;\">\n",
              "      <th></th>\n",
              "      <th></th>\n",
              "      <th>sum_sales</th>\n",
              "    </tr>\n",
              "    <tr>\n",
              "      <th>name</th>\n",
              "      <th>platform</th>\n",
              "      <th></th>\n",
              "    </tr>\n",
              "  </thead>\n",
              "  <tbody>\n",
              "    <tr>\n",
              "      <td rowspan=\"2\" valign=\"top\">grand theft auto v</td>\n",
              "      <td>ps3</td>\n",
              "      <td>21.05</td>\n",
              "    </tr>\n",
              "    <tr>\n",
              "      <td>x360</td>\n",
              "      <td>16.27</td>\n",
              "    </tr>\n",
              "    <tr>\n",
              "      <td>call of duty: black ops 3</td>\n",
              "      <td>ps4</td>\n",
              "      <td>14.63</td>\n",
              "    </tr>\n",
              "    <tr>\n",
              "      <td>pokemon x/pokemon y</td>\n",
              "      <td>3ds</td>\n",
              "      <td>14.60</td>\n",
              "    </tr>\n",
              "    <tr>\n",
              "      <td>grand theft auto v</td>\n",
              "      <td>ps4</td>\n",
              "      <td>12.62</td>\n",
              "    </tr>\n",
              "  </tbody>\n",
              "</table>\n",
              "</div>"
            ],
            "text/plain": [
              "                                    sum_sales\n",
              "name                      platform           \n",
              "grand theft auto v        ps3           21.05\n",
              "                          x360          16.27\n",
              "call of duty: black ops 3 ps4           14.63\n",
              "pokemon x/pokemon y       3ds           14.60\n",
              "grand theft auto v        ps4           12.62"
            ]
          },
          "metadata": {
            "tags": []
          },
          "execution_count": 48
        }
      ]
    },
    {
      "cell_type": "code",
      "metadata": {
        "scrolled": false,
        "id": "NFQJ2iAiBwxE",
        "outputId": "8c2622c6-8a8e-46f4-dae4-d03f78e514de"
      },
      "source": [
        "box_data.boxplot(figsize=(8,5))\n",
        "plt.xlabel('Данные по выборке с 2013 по 2016 год')\n",
        "plt.ylabel('Среднее количество проданных копий, млн.шт')\n",
        "plt.title('Диаграмма размаха среднего количества проданных копий')\n",
        "plt.show()"
      ],
      "execution_count": null,
      "outputs": [
        {
          "output_type": "display_data",
          "data": {
            "image/png": "[encoded data removed]",
            "text/plain": [
              "<Figure size 576x360 with 1 Axes>"
            ]
          },
          "metadata": {
            "tags": [],
            "needs_background": "light"
          }
        }
      ]
    },
    {
      "cell_type": "markdown",
      "metadata": {
        "id": "cb5OBYcnBwxE"
      },
      "source": [
        "Отсечём выбивающиеся данные для дальнейшей работы"
      ]
    },
    {
      "cell_type": "code",
      "metadata": {
        "id": "qwea8aAkBwxF",
        "outputId": "f4b9d28b-438e-4e13-8f63-5c2df6bdf427"
      },
      "source": [
        "prev_data.pivot_table(index=['name','platform'], values='sum_sales', aggfunc='mean').sort_values(by='sum_sales',ascending=False).query('sum_sales < 0.16').boxplot(figsize=(8,5))\n",
        "plt.xlabel('Данные по выборке с 2013 по 2016 год')\n",
        "plt.ylabel('Среднее количество проданных копий, млн.шт')\n",
        "plt.title('Диаграмма размаха среднего количества проданных копий')\n",
        "plt.show()"
      ],
      "execution_count": null,
      "outputs": [
        {
          "output_type": "display_data",
          "data": {
            "image/png": "[encoded data removed]",
            "text/plain": [
              "<Figure size 576x360 with 1 Axes>"
            ]
          },
          "metadata": {
            "tags": [],
            "needs_background": "light"
          }
        }
      ]
    },
    {
      "cell_type": "code",
      "metadata": {
        "scrolled": false,
        "id": "Ln_wCTqQBwxF",
        "outputId": "a384ad12-64d2-456c-b5a5-8f186b581385"
      },
      "source": [
        "prev_data.pivot_table(index=['name','platform'], values='sum_sales', aggfunc='mean').sort_values(by='sum_sales',ascending=False).query('sum_sales < 0.16').plot(kind='hist',grid=True, title='График распределния продаж игр на платфоры', bins=11,figsize=(8,5),legend=False)\n",
        "plt.xlabel('Среднее количество проданных копий, млн.шт')\n",
        "plt.ylabel('Количество')\n",
        "\n",
        "plt.show()"
      ],
      "execution_count": null,
      "outputs": [
        {
          "output_type": "display_data",
          "data": {
            "image/png": "[encoded data removed]",
            "text/plain": [
              "<Figure size 576x360 with 1 Axes>"
            ]
          },
          "metadata": {
            "tags": [],
            "needs_background": "light"
          }
        }
      ]
    },
    {
      "cell_type": "markdown",
      "metadata": {
        "id": "E6G-iSEHBwxF"
      },
      "source": [
        "На графике мы видим низподающие значения по продажам игр отностительно разных платформ. Чаще всего в продажах встречаются игры на платформы со средним общим значением до 0,02 млн проданных копий. Выведем список приставок на которые больше всего продаются копии игр"
      ]
    },
    {
      "cell_type": "code",
      "metadata": {
        "scrolled": true,
        "id": "Ti2ogB5eBwxF",
        "outputId": "dc0b4ebd-8553-4344-f522-1c2b4c0e08f6"
      },
      "source": [
        "prev_data.pivot_table(index=['platform'], values='sum_sales', aggfunc='sum').sort_values(by='sum_sales',ascending=False).query('sum_sales > 0.02').head(5)\n"
      ],
      "execution_count": null,
      "outputs": [
        {
          "output_type": "execute_result",
          "data": {
            "text/html": [
              "<div>\n",
              "<style scoped>\n",
              "    .dataframe tbody tr th:only-of-type {\n",
              "        vertical-align: middle;\n",
              "    }\n",
              "\n",
              "    .dataframe tbody tr th {\n",
              "        vertical-align: top;\n",
              "    }\n",
              "\n",
              "    .dataframe thead th {\n",
              "        text-align: right;\n",
              "    }\n",
              "</style>\n",
              "<table border=\"1\" class=\"dataframe\">\n",
              "  <thead>\n",
              "    <tr style=\"text-align: right;\">\n",
              "      <th></th>\n",
              "      <th>sum_sales</th>\n",
              "    </tr>\n",
              "    <tr>\n",
              "      <th>platform</th>\n",
              "      <th></th>\n",
              "    </tr>\n",
              "  </thead>\n",
              "  <tbody>\n",
              "    <tr>\n",
              "      <td>ps4</td>\n",
              "      <td>314.14</td>\n",
              "    </tr>\n",
              "    <tr>\n",
              "      <td>ps3</td>\n",
              "      <td>181.43</td>\n",
              "    </tr>\n",
              "    <tr>\n",
              "      <td>xone</td>\n",
              "      <td>159.32</td>\n",
              "    </tr>\n",
              "    <tr>\n",
              "      <td>3ds</td>\n",
              "      <td>143.25</td>\n",
              "    </tr>\n",
              "    <tr>\n",
              "      <td>x360</td>\n",
              "      <td>136.80</td>\n",
              "    </tr>\n",
              "  </tbody>\n",
              "</table>\n",
              "</div>"
            ],
            "text/plain": [
              "          sum_sales\n",
              "platform           \n",
              "ps4          314.14\n",
              "ps3          181.43\n",
              "xone         159.32\n",
              "3ds          143.25\n",
              "x360         136.80"
            ]
          },
          "metadata": {
            "tags": []
          },
          "execution_count": 52
        }
      ]
    },
    {
      "cell_type": "markdown",
      "metadata": {
        "id": "1QfDFxPOBwxF"
      },
      "source": [
        "Таким образом мы определили, что на платформу \"PS4\" выпускается подавляющее большинство игр"
      ]
    },
    {
      "cell_type": "markdown",
      "metadata": {
        "id": "Y5wNxtQGBwxF"
      },
      "source": [
        "##### Определим за какой характерный срок появляются новые и исчезают старые платформы"
      ]
    },
    {
      "cell_type": "code",
      "metadata": {
        "scrolled": false,
        "id": "WuQ-YP6WBwxG",
        "outputId": "79b46501-0003-408e-ba90-cec73caa5762"
      },
      "source": [
        "data.head()"
      ],
      "execution_count": null,
      "outputs": [
        {
          "output_type": "execute_result",
          "data": {
            "text/html": [
              "<div>\n",
              "<style scoped>\n",
              "    .dataframe tbody tr th:only-of-type {\n",
              "        vertical-align: middle;\n",
              "    }\n",
              "\n",
              "    .dataframe tbody tr th {\n",
              "        vertical-align: top;\n",
              "    }\n",
              "\n",
              "    .dataframe thead th {\n",
              "        text-align: right;\n",
              "    }\n",
              "</style>\n",
              "<table border=\"1\" class=\"dataframe\">\n",
              "  <thead>\n",
              "    <tr style=\"text-align: right;\">\n",
              "      <th></th>\n",
              "      <th>name</th>\n",
              "      <th>platform</th>\n",
              "      <th>year_of_release</th>\n",
              "      <th>genre</th>\n",
              "      <th>na_sales</th>\n",
              "      <th>eu_sales</th>\n",
              "      <th>jp_sales</th>\n",
              "      <th>other_sales</th>\n",
              "      <th>critic_score</th>\n",
              "      <th>user_score</th>\n",
              "      <th>rating</th>\n",
              "      <th>sum_sales</th>\n",
              "    </tr>\n",
              "  </thead>\n",
              "  <tbody>\n",
              "    <tr>\n",
              "      <td>0</td>\n",
              "      <td>wii sports</td>\n",
              "      <td>wii</td>\n",
              "      <td>2006</td>\n",
              "      <td>sports</td>\n",
              "      <td>41.36</td>\n",
              "      <td>28.96</td>\n",
              "      <td>3.77</td>\n",
              "      <td>8.45</td>\n",
              "      <td>76.0</td>\n",
              "      <td>8.0</td>\n",
              "      <td>E</td>\n",
              "      <td>82.54</td>\n",
              "    </tr>\n",
              "    <tr>\n",
              "      <td>1</td>\n",
              "      <td>super mario bros</td>\n",
              "      <td>nes</td>\n",
              "      <td>1985</td>\n",
              "      <td>platform</td>\n",
              "      <td>29.08</td>\n",
              "      <td>3.58</td>\n",
              "      <td>6.81</td>\n",
              "      <td>0.77</td>\n",
              "      <td>NaN</td>\n",
              "      <td>NaN</td>\n",
              "      <td>NaN</td>\n",
              "      <td>40.24</td>\n",
              "    </tr>\n",
              "    <tr>\n",
              "      <td>2</td>\n",
              "      <td>mario kart wii</td>\n",
              "      <td>wii</td>\n",
              "      <td>2008</td>\n",
              "      <td>racing</td>\n",
              "      <td>15.68</td>\n",
              "      <td>12.76</td>\n",
              "      <td>3.79</td>\n",
              "      <td>3.29</td>\n",
              "      <td>82.0</td>\n",
              "      <td>8.3</td>\n",
              "      <td>E</td>\n",
              "      <td>35.52</td>\n",
              "    </tr>\n",
              "    <tr>\n",
              "      <td>3</td>\n",
              "      <td>wii sports resort</td>\n",
              "      <td>wii</td>\n",
              "      <td>2009</td>\n",
              "      <td>sports</td>\n",
              "      <td>15.61</td>\n",
              "      <td>10.93</td>\n",
              "      <td>3.28</td>\n",
              "      <td>2.95</td>\n",
              "      <td>80.0</td>\n",
              "      <td>8.0</td>\n",
              "      <td>E</td>\n",
              "      <td>32.77</td>\n",
              "    </tr>\n",
              "    <tr>\n",
              "      <td>4</td>\n",
              "      <td>pokemon red/pokemon blue</td>\n",
              "      <td>gb</td>\n",
              "      <td>1996</td>\n",
              "      <td>role-playing</td>\n",
              "      <td>11.27</td>\n",
              "      <td>8.89</td>\n",
              "      <td>10.22</td>\n",
              "      <td>1.00</td>\n",
              "      <td>NaN</td>\n",
              "      <td>NaN</td>\n",
              "      <td>NaN</td>\n",
              "      <td>31.38</td>\n",
              "    </tr>\n",
              "  </tbody>\n",
              "</table>\n",
              "</div>"
            ],
            "text/plain": [
              "                       name platform  year_of_release         genre  na_sales  \\\n",
              "0                wii sports      wii             2006        sports     41.36   \n",
              "1          super mario bros      nes             1985      platform     29.08   \n",
              "2            mario kart wii      wii             2008        racing     15.68   \n",
              "3         wii sports resort      wii             2009        sports     15.61   \n",
              "4  pokemon red/pokemon blue       gb             1996  role-playing     11.27   \n",
              "\n",
              "   eu_sales  jp_sales  other_sales  critic_score  user_score rating  sum_sales  \n",
              "0     28.96      3.77         8.45          76.0         8.0      E      82.54  \n",
              "1      3.58      6.81         0.77           NaN         NaN    NaN      40.24  \n",
              "2     12.76      3.79         3.29          82.0         8.3      E      35.52  \n",
              "3     10.93      3.28         2.95          80.0         8.0      E      32.77  \n",
              "4      8.89     10.22         1.00           NaN         NaN    NaN      31.38  "
            ]
          },
          "metadata": {
            "tags": []
          },
          "execution_count": 53
        }
      ]
    },
    {
      "cell_type": "code",
      "metadata": {
        "scrolled": true,
        "id": "vtzRoK41BwxG"
      },
      "source": [
        "period=data.query('year_of_release >0').pivot_table(index=['platform','year_of_release'],values='genre', aggfunc='count')\n",
        "period=period.reset_index(1)"
      ],
      "execution_count": null,
      "outputs": []
    },
    {
      "cell_type": "markdown",
      "metadata": {
        "id": "RBTvgesuBwxG"
      },
      "source": [
        "Построим таблицу с группировкой данных по столюцу \"platform\" и посчитаем количество лет использования платформы на рынке"
      ]
    },
    {
      "cell_type": "code",
      "metadata": {
        "scrolled": false,
        "id": "AmsMzmA4BwxG",
        "outputId": "352b4772-b1c7-44f5-a243-a6726775291c"
      },
      "source": [
        "period=period.pivot_table(index='platform', values='year_of_release', aggfunc='count').sort_values(by='year_of_release', ascending=False)\n",
        "period.columns=['count_years']\n",
        "period.head()"
      ],
      "execution_count": null,
      "outputs": [
        {
          "output_type": "execute_result",
          "data": {
            "text/html": [
              "<div>\n",
              "<style scoped>\n",
              "    .dataframe tbody tr th:only-of-type {\n",
              "        vertical-align: middle;\n",
              "    }\n",
              "\n",
              "    .dataframe tbody tr th {\n",
              "        vertical-align: top;\n",
              "    }\n",
              "\n",
              "    .dataframe thead th {\n",
              "        text-align: right;\n",
              "    }\n",
              "</style>\n",
              "<table border=\"1\" class=\"dataframe\">\n",
              "  <thead>\n",
              "    <tr style=\"text-align: right;\">\n",
              "      <th></th>\n",
              "      <th>count_years</th>\n",
              "    </tr>\n",
              "    <tr>\n",
              "      <th>platform</th>\n",
              "      <th></th>\n",
              "    </tr>\n",
              "  </thead>\n",
              "  <tbody>\n",
              "    <tr>\n",
              "      <td>pc</td>\n",
              "      <td>26</td>\n",
              "    </tr>\n",
              "    <tr>\n",
              "      <td>gb</td>\n",
              "      <td>13</td>\n",
              "    </tr>\n",
              "    <tr>\n",
              "      <td>nes</td>\n",
              "      <td>12</td>\n",
              "    </tr>\n",
              "    <tr>\n",
              "      <td>x360</td>\n",
              "      <td>12</td>\n",
              "    </tr>\n",
              "    <tr>\n",
              "      <td>psp</td>\n",
              "      <td>12</td>\n",
              "    </tr>\n",
              "  </tbody>\n",
              "</table>\n",
              "</div>"
            ],
            "text/plain": [
              "          count_years\n",
              "platform             \n",
              "pc                 26\n",
              "gb                 13\n",
              "nes                12\n",
              "x360               12\n",
              "psp                12"
            ]
          },
          "metadata": {
            "tags": []
          },
          "execution_count": 55
        }
      ]
    },
    {
      "cell_type": "markdown",
      "metadata": {
        "id": "nBcoYanmBwxG"
      },
      "source": [
        "Для наглядного распределения данных построим график"
      ]
    },
    {
      "cell_type": "code",
      "metadata": {
        "scrolled": false,
        "id": "CqQhAZbSBwxG",
        "outputId": "1dd64621-3b8f-45f4-e2f3-5717302317a4"
      },
      "source": [
        "period.plot(kind='bar', figsize=(14,5), grid=True, title=\"График количества лет присутствия каждой платформы на рынке\", legend=False)\n",
        "plt.xlabel('Платформа')\n",
        "plt.ylabel('Количество лет на рынке')\n",
        "plt.show()"
      ],
      "execution_count": null,
      "outputs": [
        {
          "output_type": "display_data",
          "data": {
            "image/png": "[encoded data removed]",
            "text/plain": [
              "<Figure size 1008x360 with 1 Axes>"
            ]
          },
          "metadata": {
            "tags": [],
            "needs_background": "light"
          }
        }
      ]
    },
    {
      "cell_type": "code",
      "metadata": {
        "scrolled": true,
        "id": "WenbEiQCBwxH",
        "outputId": "6a85c502-e0ef-4779-e1cf-24ed43e165e1"
      },
      "source": [
        "period.boxplot(figsize=(8,5))\n",
        "plt.title('Диаграмма размаха времени существования игровых платформ на рынке')\n",
        "plt.xlabel('Данные по количеству лет за весь период')\n",
        "plt.ylabel('Количество лет')\n",
        "plt.show()"
      ],
      "execution_count": null,
      "outputs": [
        {
          "output_type": "display_data",
          "data": {
            "image/png": "[encoded data removed]",
            "text/plain": [
              "<Figure size 576x360 with 1 Axes>"
            ]
          },
          "metadata": {
            "tags": [],
            "needs_background": "light"
          }
        }
      ]
    },
    {
      "cell_type": "markdown",
      "metadata": {
        "id": "eQRCD5aeBwxH"
      },
      "source": [
        "Посчитаем период времени за который платформы уходят с рынка убрав сильно выбивающееся значение по платформе *PC*"
      ]
    },
    {
      "cell_type": "code",
      "metadata": {
        "scrolled": true,
        "id": "X5NplXs7BwxH",
        "outputId": "30990f93-2b12-437f-d709-b94ca17f5f02"
      },
      "source": [
        "print()\n",
        "print('Средний период времени за который исчезают и появляются новые платформы составляет {:.0f} лет.'.format(period.query('platform != \"pc\"')['count_years'].mean()))"
      ],
      "execution_count": null,
      "outputs": [
        {
          "output_type": "stream",
          "text": [
            "\n",
            "Средний период времени за который исчезают и появляются новые платформы составляет 7 лет.\n"
          ],
          "name": "stdout"
        }
      ]
    },
    {
      "cell_type": "markdown",
      "metadata": {
        "id": "KppWaPjmBwxH"
      },
      "source": [
        "<a id=\"step_3.6\"></a>\n",
        "#### Посмотрим, как влияют на продажи внутри одной популярной платформы отзывы пользователей и критиков"
      ]
    },
    {
      "cell_type": "markdown",
      "metadata": {
        "id": "od9VhwaABwxH"
      },
      "source": [
        "Для анализа возьмём самую популярную платформу \"PS4\""
      ]
    },
    {
      "cell_type": "code",
      "metadata": {
        "scrolled": true,
        "id": "9MHiKaLlBwxH",
        "outputId": "cdd9b4f0-dc29-4708-b9fb-22fe9c50b566"
      },
      "source": [
        "c= prev_data.query('platform == \"ps4\"').pivot_table(index=['critic_score'], values='sum_sales', aggfunc='sum').sort_values(by='sum_sales', ascending=False).reset_index().plot(y='sum_sales', grid=True, title='График распределения продаж относительно отзывов(ps4)', linewidth=3, figsize=(8,5), label='Отзывы критиков')\n",
        "prev_data.query('platform == \"ps4\"').pivot_table(index=['user_score'], values='sum_sales', aggfunc='sum').sort_values(by='sum_sales', ascending=False).reset_index().plot(y='sum_sales',ax=c, grid=True, title='График распределения продаж относительно отзывов(ps4)', linewidth=3, figsize=(8,5),label='Отзывы пользователей')\n",
        "plt.xlabel('Суммарная оценка')\n",
        "plt.ylabel('Количество')\n",
        "\n",
        "plt.show() \n"
      ],
      "execution_count": null,
      "outputs": [
        {
          "output_type": "display_data",
          "data": {
            "image/png": "[encoded data removed]",
            "text/plain": [
              "<Figure size 576x360 with 1 Axes>"
            ]
          },
          "metadata": {
            "tags": [],
            "needs_background": "light"
          }
        }
      ]
    },
    {
      "cell_type": "markdown",
      "metadata": {
        "id": "enfYzPRaBwxI"
      },
      "source": [
        "Глядя на графики можно однозначно сказать, что продажи на прямую зависят от отзывов пользователей и критиков."
      ]
    },
    {
      "cell_type": "markdown",
      "metadata": {
        "id": "dLrbGgIDBwxI"
      },
      "source": [
        "<a id=\"step_3.7\"></a>\n",
        "#### Построим диаграмму рассеяния и посчитаем корреляцию между отзывами и продажами. Сформулируем выводы"
      ]
    },
    {
      "cell_type": "code",
      "metadata": {
        "scrolled": true,
        "id": "0IEStU8gBwxI",
        "outputId": "0fc15e0b-8b50-43b3-ecc4-ea81938f4639"
      },
      "source": [
        "y = prev_data.query('platform == \"ps4\"').pivot_table(index=['critic_score'], values='sum_sales', aggfunc='sum').sort_values(by='sum_sales', ascending=False).reset_index().plot(kind='scatter',y='sum_sales',x='critic_score', grid=True, title='Диаграмма рассеяния отзывов(ps4)', linewidth=3, figsize=(10,5),label='Отзывы критиков')\n",
        "   \n",
        "prev_data.query('platform == \"ps4\"').pivot_table(index=['user_score'], values='sum_sales', aggfunc='sum').sort_values(by='sum_sales', ascending=False).reset_index().plot(kind='scatter',y='sum_sales',x='user_score',ax=y, grid=True, title='Диаграмма рассеяния отзывов(ps4)', linewidth=3, figsize=(10,5),label='Отзывы пользователей', color='y')\n",
        "plt.xlabel('Суммарная оценка')\n",
        "plt.ylabel('Количество')\n",
        "\n",
        "\n",
        "plt.show() "
      ],
      "execution_count": null,
      "outputs": [
        {
          "output_type": "display_data",
          "data": {
            "image/png": "[encoded data removed]",
            "text/plain": [
              "<Figure size 720x360 with 1 Axes>"
            ]
          },
          "metadata": {
            "tags": [],
            "needs_background": "light"
          }
        }
      ]
    },
    {
      "cell_type": "markdown",
      "metadata": {
        "id": "mvpalx28BwxI"
      },
      "source": [
        "##### Расчитаем кореляцию между отзывами и продажами"
      ]
    },
    {
      "cell_type": "code",
      "metadata": {
        "id": "nDO2VFpXBwxI"
      },
      "source": [
        "prev_ps4 = prev_data.query('platform == \"ps4\"').pivot_table(index=['critic_score','user_score'], values='sum_sales', aggfunc='sum').sort_values(by='sum_sales', ascending=False).reset_index()"
      ],
      "execution_count": null,
      "outputs": []
    },
    {
      "cell_type": "code",
      "metadata": {
        "scrolled": true,
        "id": "GuRBOCjjBwxI",
        "outputId": "70ada459-8699-4065-f56d-3aa953a8dc6b"
      },
      "source": [
        "prev_ps4['user_score'].corr(prev_ps4['critic_score'])"
      ],
      "execution_count": null,
      "outputs": [
        {
          "output_type": "execute_result",
          "data": {
            "text/plain": [
              "0.5631150312547042"
            ]
          },
          "metadata": {
            "tags": []
          },
          "execution_count": 62
        }
      ]
    },
    {
      "cell_type": "markdown",
      "metadata": {
        "id": "fPEJ7TBdBwxJ"
      },
      "source": [
        "корреляция продаж между отзывами пользователей и продажами PS4"
      ]
    },
    {
      "cell_type": "code",
      "metadata": {
        "scrolled": true,
        "id": "dxPgfJaQBwxJ",
        "outputId": "4712f127-b56f-41eb-f4f1-0da6cccf8ff2"
      },
      "source": [
        "prev_ps4['user_score'].corr(prev_ps4['sum_sales'])"
      ],
      "execution_count": null,
      "outputs": [
        {
          "output_type": "execute_result",
          "data": {
            "text/plain": [
              "-0.01907507140454872"
            ]
          },
          "metadata": {
            "tags": []
          },
          "execution_count": 63
        }
      ]
    },
    {
      "cell_type": "markdown",
      "metadata": {
        "id": "HeILQFRGBwxJ"
      },
      "source": [
        "корреляция продаж между отзывами критиков и продажами PS4"
      ]
    },
    {
      "cell_type": "code",
      "metadata": {
        "id": "NWbn4owoBwxJ",
        "outputId": "2d3c00c2-bc53-4140-8575-04977b99f043"
      },
      "source": [
        "prev_ps4['critic_score'].corr(prev_ps4['sum_sales'])"
      ],
      "execution_count": null,
      "outputs": [
        {
          "output_type": "execute_result",
          "data": {
            "text/plain": [
              "0.4225256118664904"
            ]
          },
          "metadata": {
            "tags": []
          },
          "execution_count": 64
        }
      ]
    },
    {
      "cell_type": "markdown",
      "metadata": {
        "id": "10YmR0JHBwxJ"
      },
      "source": [
        "Судя по данным корреляции, продажи игр на платформы PS4 зависят от отзывов критиков намного сильнее, чем от отзывов пользователей"
      ]
    },
    {
      "cell_type": "markdown",
      "metadata": {
        "id": "RkyniK6EBwxJ"
      },
      "source": [
        "<a id=\"step_3.8\"></a>\n",
        "#### Соотнесём выводы с продажами игр на других платформах"
      ]
    },
    {
      "cell_type": "code",
      "metadata": {
        "scrolled": false,
        "id": "qIEoLPP-BwxK",
        "outputId": "84ddc58f-08fe-414e-d16c-9fca97d40fe0"
      },
      "source": [
        "other_platform=prev_data.groupby(['platform']).agg({'sum_sales': ['sum'], 'name': 'count'})\n",
        "other_platform.columns=['Количество продаж','Количество выпущенных игр']\n",
        "other_platform.sort_values(by='Количество продаж', ascending=False)"
      ],
      "execution_count": null,
      "outputs": [
        {
          "output_type": "execute_result",
          "data": {
            "text/html": [
              "<div>\n",
              "<style scoped>\n",
              "    .dataframe tbody tr th:only-of-type {\n",
              "        vertical-align: middle;\n",
              "    }\n",
              "\n",
              "    .dataframe tbody tr th {\n",
              "        vertical-align: top;\n",
              "    }\n",
              "\n",
              "    .dataframe thead th {\n",
              "        text-align: right;\n",
              "    }\n",
              "</style>\n",
              "<table border=\"1\" class=\"dataframe\">\n",
              "  <thead>\n",
              "    <tr style=\"text-align: right;\">\n",
              "      <th></th>\n",
              "      <th>Количество продаж</th>\n",
              "      <th>Количество выпущенных игр</th>\n",
              "    </tr>\n",
              "    <tr>\n",
              "      <th>platform</th>\n",
              "      <th></th>\n",
              "      <th></th>\n",
              "    </tr>\n",
              "  </thead>\n",
              "  <tbody>\n",
              "    <tr>\n",
              "      <td>ps4</td>\n",
              "      <td>314.14</td>\n",
              "      <td>392</td>\n",
              "    </tr>\n",
              "    <tr>\n",
              "      <td>ps3</td>\n",
              "      <td>181.43</td>\n",
              "      <td>345</td>\n",
              "    </tr>\n",
              "    <tr>\n",
              "      <td>xone</td>\n",
              "      <td>159.32</td>\n",
              "      <td>247</td>\n",
              "    </tr>\n",
              "    <tr>\n",
              "      <td>3ds</td>\n",
              "      <td>143.25</td>\n",
              "      <td>303</td>\n",
              "    </tr>\n",
              "    <tr>\n",
              "      <td>x360</td>\n",
              "      <td>136.80</td>\n",
              "      <td>186</td>\n",
              "    </tr>\n",
              "    <tr>\n",
              "      <td>wii</td>\n",
              "      <td>78.29</td>\n",
              "      <td>138</td>\n",
              "    </tr>\n",
              "    <tr>\n",
              "      <td>pc</td>\n",
              "      <td>39.43</td>\n",
              "      <td>189</td>\n",
              "    </tr>\n",
              "    <tr>\n",
              "      <td>psv</td>\n",
              "      <td>32.99</td>\n",
              "      <td>358</td>\n",
              "    </tr>\n",
              "    <tr>\n",
              "      <td>psp</td>\n",
              "      <td>3.50</td>\n",
              "      <td>67</td>\n",
              "    </tr>\n",
              "    <tr>\n",
              "      <td>ds</td>\n",
              "      <td>1.54</td>\n",
              "      <td>8</td>\n",
              "    </tr>\n",
              "  </tbody>\n",
              "</table>\n",
              "</div>"
            ],
            "text/plain": [
              "          Количество продаж  Количество выпущенных игр\n",
              "platform                                              \n",
              "ps4                  314.14                        392\n",
              "ps3                  181.43                        345\n",
              "xone                 159.32                        247\n",
              "3ds                  143.25                        303\n",
              "x360                 136.80                        186\n",
              "wii                   78.29                        138\n",
              "pc                    39.43                        189\n",
              "psv                   32.99                        358\n",
              "psp                    3.50                         67\n",
              "ds                     1.54                          8"
            ]
          },
          "metadata": {
            "tags": []
          },
          "execution_count": 65
        }
      ]
    },
    {
      "cell_type": "markdown",
      "metadata": {
        "id": "IqfqzaUuBwxO"
      },
      "source": [
        "Для наглядности построим график количества продаж и соотнесём эти данные с количеством выпущенных игр на разные платформы."
      ]
    },
    {
      "cell_type": "code",
      "metadata": {
        "id": "vJFRtCCYBwxO",
        "outputId": "248b9162-32c6-4e4b-82c2-63c8e433065a"
      },
      "source": [
        "other_platform.sort_values(by='Количество продаж', ascending=False).plot(kind='bar',grid=True,figsize=(15,6), title='График зависимости количесва продаж от количества выпущенных игр на разных платформах')\n",
        "plt.xlabel('Игровая платформа')\n",
        "plt.ylabel('Количество продаж/игр')\n",
        "plt.show()"
      ],
      "execution_count": null,
      "outputs": [
        {
          "output_type": "display_data",
          "data": {
            "image/png": "[encoded data removed]",
            "text/plain": [
              "<Figure size 1080x432 with 1 Axes>"
            ]
          },
          "metadata": {
            "tags": [],
            "needs_background": "light"
          }
        }
      ]
    },
    {
      "cell_type": "markdown",
      "metadata": {
        "id": "S2TbkhaZBwxO"
      },
      "source": [
        "Из графика мы можем видеть зависимость проданных копий от количества выпущенных игр на разные платформы, посчитаем конферсию между этими значениям, чтобы определить зависимость и более окупаемые платформы."
      ]
    },
    {
      "cell_type": "code",
      "metadata": {
        "id": "medDG-htBwxO"
      },
      "source": [
        "other_platform['dependence']=(other_platform['Количество продаж']/other_platform['Количество выпущенных игр'])*100"
      ],
      "execution_count": null,
      "outputs": []
    },
    {
      "cell_type": "code",
      "metadata": {
        "scrolled": true,
        "id": "8Njy1baNBwxO",
        "outputId": "1cff7f67-20d2-4912-d700-e9cdd525c793"
      },
      "source": [
        "other_platform.sort_values(by='dependence', ascending=False).plot(kind='bar', y='dependence', grid=True,figsize=(10,5), title='Процент реализации выпущенных игр по платформам', legend=False)\n",
        "plt.ylabel('%')\n",
        "plt.xlabel('Игровая платформа')\n",
        "plt.show()"
      ],
      "execution_count": null,
      "outputs": [
        {
          "output_type": "display_data",
          "data": {
            "image/png": "[encoded data removed]",
            "text/plain": [
              "<Figure size 720x360 with 1 Axes>"
            ]
          },
          "metadata": {
            "tags": [],
            "needs_background": "light"
          }
        }
      ]
    },
    {
      "cell_type": "markdown",
      "metadata": {
        "id": "E7Van7uyBwxP"
      },
      "source": [
        "Таким образом мы можем определить топ платформ под которые более продуктивно выпускать игры, т.к. чем выше отношение выпущенных игр от суммы сборов, тем выше процент окупаемости игр. И как следствие производитель игр будет выпускать первые релизы на более популярные платформы"
      ]
    },
    {
      "cell_type": "markdown",
      "metadata": {
        "id": "ECkRtcwmBwxP"
      },
      "source": [
        "<a id=\"step_3.9\"></a>\n",
        "#### Посмотрим на общее распределение игр по жанрам. Выделяются ли жанры с высокими и низкими продажами?"
      ]
    },
    {
      "cell_type": "code",
      "metadata": {
        "id": "Ena22lEgBwxP",
        "outputId": "fe44a905-6121-4bf8-ebfd-5b5e77561dd6"
      },
      "source": [
        "prev_data.head()"
      ],
      "execution_count": null,
      "outputs": [
        {
          "output_type": "execute_result",
          "data": {
            "text/html": [
              "<div>\n",
              "<style scoped>\n",
              "    .dataframe tbody tr th:only-of-type {\n",
              "        vertical-align: middle;\n",
              "    }\n",
              "\n",
              "    .dataframe tbody tr th {\n",
              "        vertical-align: top;\n",
              "    }\n",
              "\n",
              "    .dataframe thead th {\n",
              "        text-align: right;\n",
              "    }\n",
              "</style>\n",
              "<table border=\"1\" class=\"dataframe\">\n",
              "  <thead>\n",
              "    <tr style=\"text-align: right;\">\n",
              "      <th></th>\n",
              "      <th>name</th>\n",
              "      <th>platform</th>\n",
              "      <th>year_of_release</th>\n",
              "      <th>genre</th>\n",
              "      <th>na_sales</th>\n",
              "      <th>eu_sales</th>\n",
              "      <th>jp_sales</th>\n",
              "      <th>other_sales</th>\n",
              "      <th>critic_score</th>\n",
              "      <th>user_score</th>\n",
              "      <th>rating</th>\n",
              "      <th>sum_sales</th>\n",
              "    </tr>\n",
              "  </thead>\n",
              "  <tbody>\n",
              "    <tr>\n",
              "      <td>16</td>\n",
              "      <td>grand theft auto v</td>\n",
              "      <td>ps3</td>\n",
              "      <td>2013</td>\n",
              "      <td>action</td>\n",
              "      <td>7.02</td>\n",
              "      <td>9.09</td>\n",
              "      <td>0.98</td>\n",
              "      <td>3.96</td>\n",
              "      <td>97.0</td>\n",
              "      <td>8.2</td>\n",
              "      <td>M</td>\n",
              "      <td>21.05</td>\n",
              "    </tr>\n",
              "    <tr>\n",
              "      <td>23</td>\n",
              "      <td>grand theft auto v</td>\n",
              "      <td>x360</td>\n",
              "      <td>2013</td>\n",
              "      <td>action</td>\n",
              "      <td>9.66</td>\n",
              "      <td>5.14</td>\n",
              "      <td>0.06</td>\n",
              "      <td>1.41</td>\n",
              "      <td>97.0</td>\n",
              "      <td>8.1</td>\n",
              "      <td>M</td>\n",
              "      <td>16.27</td>\n",
              "    </tr>\n",
              "    <tr>\n",
              "      <td>31</td>\n",
              "      <td>call of duty: black ops 3</td>\n",
              "      <td>ps4</td>\n",
              "      <td>2015</td>\n",
              "      <td>shooter</td>\n",
              "      <td>6.03</td>\n",
              "      <td>5.86</td>\n",
              "      <td>0.36</td>\n",
              "      <td>2.38</td>\n",
              "      <td>NaN</td>\n",
              "      <td>NaN</td>\n",
              "      <td>NaN</td>\n",
              "      <td>14.63</td>\n",
              "    </tr>\n",
              "    <tr>\n",
              "      <td>33</td>\n",
              "      <td>pokemon x/pokemon y</td>\n",
              "      <td>3ds</td>\n",
              "      <td>2013</td>\n",
              "      <td>role-playing</td>\n",
              "      <td>5.28</td>\n",
              "      <td>4.19</td>\n",
              "      <td>4.35</td>\n",
              "      <td>0.78</td>\n",
              "      <td>NaN</td>\n",
              "      <td>NaN</td>\n",
              "      <td>NaN</td>\n",
              "      <td>14.60</td>\n",
              "    </tr>\n",
              "    <tr>\n",
              "      <td>42</td>\n",
              "      <td>grand theft auto v</td>\n",
              "      <td>ps4</td>\n",
              "      <td>2014</td>\n",
              "      <td>action</td>\n",
              "      <td>3.96</td>\n",
              "      <td>6.31</td>\n",
              "      <td>0.38</td>\n",
              "      <td>1.97</td>\n",
              "      <td>97.0</td>\n",
              "      <td>8.3</td>\n",
              "      <td>M</td>\n",
              "      <td>12.62</td>\n",
              "    </tr>\n",
              "  </tbody>\n",
              "</table>\n",
              "</div>"
            ],
            "text/plain": [
              "                         name platform  year_of_release         genre  \\\n",
              "16         grand theft auto v      ps3             2013        action   \n",
              "23         grand theft auto v     x360             2013        action   \n",
              "31  call of duty: black ops 3      ps4             2015       shooter   \n",
              "33        pokemon x/pokemon y      3ds             2013  role-playing   \n",
              "42         grand theft auto v      ps4             2014        action   \n",
              "\n",
              "    na_sales  eu_sales  jp_sales  other_sales  critic_score  user_score  \\\n",
              "16      7.02      9.09      0.98         3.96          97.0         8.2   \n",
              "23      9.66      5.14      0.06         1.41          97.0         8.1   \n",
              "31      6.03      5.86      0.36         2.38           NaN         NaN   \n",
              "33      5.28      4.19      4.35         0.78           NaN         NaN   \n",
              "42      3.96      6.31      0.38         1.97          97.0         8.3   \n",
              "\n",
              "   rating  sum_sales  \n",
              "16      M      21.05  \n",
              "23      M      16.27  \n",
              "31    NaN      14.63  \n",
              "33    NaN      14.60  \n",
              "42      M      12.62  "
            ]
          },
          "metadata": {
            "tags": []
          },
          "execution_count": 69
        }
      ]
    },
    {
      "cell_type": "code",
      "metadata": {
        "id": "cQ-NnfkeBwxP",
        "outputId": "a1e9abe2-598c-4672-ec9a-893aeb2b3e39"
      },
      "source": [
        "genre=prev_data.pivot_table(index=['genre'], values='sum_sales', aggfunc='sum').sort_values(by='sum_sales', ascending=True)\n",
        "genre.plot(figsize=(15,5),grid=True,linewidth=3, title='График общего распределения игр по жанрам', legend=False)\n",
        "plt.ylabel('Общее количество продаж, млн.шт')\n",
        "plt.xlabel('Жанр')\n",
        "plt.show()"
      ],
      "execution_count": null,
      "outputs": [
        {
          "output_type": "display_data",
          "data": {
            "image/png": "[encoded data removed]",
            "text/plain": [
              "<Figure size 1080x360 with 1 Axes>"
            ]
          },
          "metadata": {
            "tags": [],
            "needs_background": "light"
          }
        }
      ]
    },
    {
      "cell_type": "markdown",
      "metadata": {
        "id": "2q2AjMrNBwxP"
      },
      "source": [
        "<a id=\"step_3.end\"></a>\n",
        "### Вывод"
      ]
    },
    {
      "cell_type": "markdown",
      "metadata": {
        "id": "aJDLrgLKBwxP"
      },
      "source": [
        "Из проведённого анализа можно сделать вывод, что самые популярные платформы на которые охотнее всего расходятся игры - это **PS4,3ds,Wii,Xone,PC**. По конверсии и прибыльности от спроса рынка самые актуальные жанры - **\"action\",\"shooter\",\"role-playing\"**. А так же мы увидели, что суммы от продаж зависят от мнения критиков на много сильнее, чем от мнения пользователей."
      ]
    },
    {
      "cell_type": "markdown",
      "metadata": {
        "id": "uvDzaePrBwxQ"
      },
      "source": [
        "----"
      ]
    },
    {
      "cell_type": "markdown",
      "metadata": {
        "id": "QOXMDTttBwxQ"
      },
      "source": [
        "<a href='#start'>Вернуться к оглавлению</a>\n",
        "<a id=\"step_4.1\"></a>\n",
        "### Глава 4. Составим портрет пользователя каждого региона"
      ]
    },
    {
      "cell_type": "markdown",
      "metadata": {
        "id": "6I4nh5_IBwxQ"
      },
      "source": [
        "#### Определим для пользователя каждого региона (NA, EU, JP):"
      ]
    },
    {
      "cell_type": "markdown",
      "metadata": {
        "id": "CXPglBjWBwxQ"
      },
      "source": [
        "<a id=\"step_4.2\"></a>\n",
        "##### Самые популярные платформы (топ-5). Опишем различия в долях продаж"
      ]
    },
    {
      "cell_type": "code",
      "metadata": {
        "scrolled": true,
        "id": "_1A76LtvBwxR",
        "outputId": "939910ad-52e8-465b-d1c2-a8e9d18cadb4"
      },
      "source": [
        "prev_data.head()"
      ],
      "execution_count": null,
      "outputs": [
        {
          "output_type": "execute_result",
          "data": {
            "text/html": [
              "<div>\n",
              "<style scoped>\n",
              "    .dataframe tbody tr th:only-of-type {\n",
              "        vertical-align: middle;\n",
              "    }\n",
              "\n",
              "    .dataframe tbody tr th {\n",
              "        vertical-align: top;\n",
              "    }\n",
              "\n",
              "    .dataframe thead th {\n",
              "        text-align: right;\n",
              "    }\n",
              "</style>\n",
              "<table border=\"1\" class=\"dataframe\">\n",
              "  <thead>\n",
              "    <tr style=\"text-align: right;\">\n",
              "      <th></th>\n",
              "      <th>name</th>\n",
              "      <th>platform</th>\n",
              "      <th>year_of_release</th>\n",
              "      <th>genre</th>\n",
              "      <th>na_sales</th>\n",
              "      <th>eu_sales</th>\n",
              "      <th>jp_sales</th>\n",
              "      <th>other_sales</th>\n",
              "      <th>critic_score</th>\n",
              "      <th>user_score</th>\n",
              "      <th>rating</th>\n",
              "      <th>sum_sales</th>\n",
              "    </tr>\n",
              "  </thead>\n",
              "  <tbody>\n",
              "    <tr>\n",
              "      <td>16</td>\n",
              "      <td>grand theft auto v</td>\n",
              "      <td>ps3</td>\n",
              "      <td>2013</td>\n",
              "      <td>action</td>\n",
              "      <td>7.02</td>\n",
              "      <td>9.09</td>\n",
              "      <td>0.98</td>\n",
              "      <td>3.96</td>\n",
              "      <td>97.0</td>\n",
              "      <td>8.2</td>\n",
              "      <td>M</td>\n",
              "      <td>21.05</td>\n",
              "    </tr>\n",
              "    <tr>\n",
              "      <td>23</td>\n",
              "      <td>grand theft auto v</td>\n",
              "      <td>x360</td>\n",
              "      <td>2013</td>\n",
              "      <td>action</td>\n",
              "      <td>9.66</td>\n",
              "      <td>5.14</td>\n",
              "      <td>0.06</td>\n",
              "      <td>1.41</td>\n",
              "      <td>97.0</td>\n",
              "      <td>8.1</td>\n",
              "      <td>M</td>\n",
              "      <td>16.27</td>\n",
              "    </tr>\n",
              "    <tr>\n",
              "      <td>31</td>\n",
              "      <td>call of duty: black ops 3</td>\n",
              "      <td>ps4</td>\n",
              "      <td>2015</td>\n",
              "      <td>shooter</td>\n",
              "      <td>6.03</td>\n",
              "      <td>5.86</td>\n",
              "      <td>0.36</td>\n",
              "      <td>2.38</td>\n",
              "      <td>NaN</td>\n",
              "      <td>NaN</td>\n",
              "      <td>NaN</td>\n",
              "      <td>14.63</td>\n",
              "    </tr>\n",
              "    <tr>\n",
              "      <td>33</td>\n",
              "      <td>pokemon x/pokemon y</td>\n",
              "      <td>3ds</td>\n",
              "      <td>2013</td>\n",
              "      <td>role-playing</td>\n",
              "      <td>5.28</td>\n",
              "      <td>4.19</td>\n",
              "      <td>4.35</td>\n",
              "      <td>0.78</td>\n",
              "      <td>NaN</td>\n",
              "      <td>NaN</td>\n",
              "      <td>NaN</td>\n",
              "      <td>14.60</td>\n",
              "    </tr>\n",
              "    <tr>\n",
              "      <td>42</td>\n",
              "      <td>grand theft auto v</td>\n",
              "      <td>ps4</td>\n",
              "      <td>2014</td>\n",
              "      <td>action</td>\n",
              "      <td>3.96</td>\n",
              "      <td>6.31</td>\n",
              "      <td>0.38</td>\n",
              "      <td>1.97</td>\n",
              "      <td>97.0</td>\n",
              "      <td>8.3</td>\n",
              "      <td>M</td>\n",
              "      <td>12.62</td>\n",
              "    </tr>\n",
              "  </tbody>\n",
              "</table>\n",
              "</div>"
            ],
            "text/plain": [
              "                         name platform  year_of_release         genre  \\\n",
              "16         grand theft auto v      ps3             2013        action   \n",
              "23         grand theft auto v     x360             2013        action   \n",
              "31  call of duty: black ops 3      ps4             2015       shooter   \n",
              "33        pokemon x/pokemon y      3ds             2013  role-playing   \n",
              "42         grand theft auto v      ps4             2014        action   \n",
              "\n",
              "    na_sales  eu_sales  jp_sales  other_sales  critic_score  user_score  \\\n",
              "16      7.02      9.09      0.98         3.96          97.0         8.2   \n",
              "23      9.66      5.14      0.06         1.41          97.0         8.1   \n",
              "31      6.03      5.86      0.36         2.38           NaN         NaN   \n",
              "33      5.28      4.19      4.35         0.78           NaN         NaN   \n",
              "42      3.96      6.31      0.38         1.97          97.0         8.3   \n",
              "\n",
              "   rating  sum_sales  \n",
              "16      M      21.05  \n",
              "23      M      16.27  \n",
              "31    NaN      14.63  \n",
              "33    NaN      14.60  \n",
              "42      M      12.62  "
            ]
          },
          "metadata": {
            "tags": []
          },
          "execution_count": 71
        }
      ]
    },
    {
      "cell_type": "markdown",
      "metadata": {
        "id": "yBsbAIDpBwxR"
      },
      "source": [
        "#### NA - Северная Америка"
      ]
    },
    {
      "cell_type": "code",
      "metadata": {
        "scrolled": false,
        "id": "H8v0TnRpBwxR",
        "outputId": "c23b52bb-bc26-4e51-a449-0ad86dfd5865"
      },
      "source": [
        "na_top = prev_data.pivot_table(index='platform', values=['na_sales','sum_sales'], aggfunc='sum').sort_values(by='na_sales', ascending=False)\n",
        "na_top['na_share_of_sales'] = (na_top['na_sales']/na_top['sum_sales']).round(2)\n",
        "na_top.head()"
      ],
      "execution_count": null,
      "outputs": [
        {
          "output_type": "execute_result",
          "data": {
            "text/html": [
              "<div>\n",
              "<style scoped>\n",
              "    .dataframe tbody tr th:only-of-type {\n",
              "        vertical-align: middle;\n",
              "    }\n",
              "\n",
              "    .dataframe tbody tr th {\n",
              "        vertical-align: top;\n",
              "    }\n",
              "\n",
              "    .dataframe thead th {\n",
              "        text-align: right;\n",
              "    }\n",
              "</style>\n",
              "<table border=\"1\" class=\"dataframe\">\n",
              "  <thead>\n",
              "    <tr style=\"text-align: right;\">\n",
              "      <th></th>\n",
              "      <th>na_sales</th>\n",
              "      <th>sum_sales</th>\n",
              "      <th>na_share_of_sales</th>\n",
              "    </tr>\n",
              "    <tr>\n",
              "      <th>platform</th>\n",
              "      <th></th>\n",
              "      <th></th>\n",
              "      <th></th>\n",
              "    </tr>\n",
              "  </thead>\n",
              "  <tbody>\n",
              "    <tr>\n",
              "      <td>ps4</td>\n",
              "      <td>108.74</td>\n",
              "      <td>314.14</td>\n",
              "      <td>0.35</td>\n",
              "    </tr>\n",
              "    <tr>\n",
              "      <td>xone</td>\n",
              "      <td>93.12</td>\n",
              "      <td>159.32</td>\n",
              "      <td>0.58</td>\n",
              "    </tr>\n",
              "    <tr>\n",
              "      <td>x360</td>\n",
              "      <td>81.66</td>\n",
              "      <td>136.80</td>\n",
              "      <td>0.60</td>\n",
              "    </tr>\n",
              "    <tr>\n",
              "      <td>ps3</td>\n",
              "      <td>63.50</td>\n",
              "      <td>181.43</td>\n",
              "      <td>0.35</td>\n",
              "    </tr>\n",
              "    <tr>\n",
              "      <td>3ds</td>\n",
              "      <td>38.20</td>\n",
              "      <td>143.25</td>\n",
              "      <td>0.27</td>\n",
              "    </tr>\n",
              "  </tbody>\n",
              "</table>\n",
              "</div>"
            ],
            "text/plain": [
              "          na_sales  sum_sales  na_share_of_sales\n",
              "platform                                        \n",
              "ps4         108.74     314.14               0.35\n",
              "xone         93.12     159.32               0.58\n",
              "x360         81.66     136.80               0.60\n",
              "ps3          63.50     181.43               0.35\n",
              "3ds          38.20     143.25               0.27"
            ]
          },
          "metadata": {
            "tags": []
          },
          "execution_count": 72
        }
      ]
    },
    {
      "cell_type": "code",
      "metadata": {
        "id": "uBma9R91BwxR",
        "outputId": "e39da49a-0d98-4c86-cdf0-2478a02e59bb"
      },
      "source": [
        "na_top.head().sort_values(by='na_share_of_sales', ascending=False).plot(kind='pie',y='na_share_of_sales', figsize=(6,6), title='График распределения платформ ТОП-5 на Американском рынке',legend=False,autopct='%1.2f%%')\n",
        "plt.ylabel('Суммы продаж')\n",
        "plt.show()"
      ],
      "execution_count": null,
      "outputs": [
        {
          "output_type": "display_data",
          "data": {
            "image/png": "[encoded data removed]",
            "text/plain": [
              "<Figure size 432x432 with 1 Axes>"
            ]
          },
          "metadata": {
            "tags": []
          }
        }
      ]
    },
    {
      "cell_type": "markdown",
      "metadata": {
        "id": "GkkZF8juBwxR"
      },
      "source": [
        "#### EU - Европейский союз"
      ]
    },
    {
      "cell_type": "code",
      "metadata": {
        "scrolled": true,
        "id": "Qn_sy3BnBwxR",
        "outputId": "4c826dfb-d471-41ac-e88c-984ac8112b5a"
      },
      "source": [
        "eu_top = prev_data.pivot_table(index='platform', values=['eu_sales','sum_sales'], aggfunc='sum').sort_values(by='eu_sales', ascending=False)\n",
        "eu_top['eu_share_of_sales'] = (eu_top['eu_sales']/eu_top['sum_sales']).round(2)\n",
        "eu_top.head()"
      ],
      "execution_count": null,
      "outputs": [
        {
          "output_type": "execute_result",
          "data": {
            "text/html": [
              "<div>\n",
              "<style scoped>\n",
              "    .dataframe tbody tr th:only-of-type {\n",
              "        vertical-align: middle;\n",
              "    }\n",
              "\n",
              "    .dataframe tbody tr th {\n",
              "        vertical-align: top;\n",
              "    }\n",
              "\n",
              "    .dataframe thead th {\n",
              "        text-align: right;\n",
              "    }\n",
              "</style>\n",
              "<table border=\"1\" class=\"dataframe\">\n",
              "  <thead>\n",
              "    <tr style=\"text-align: right;\">\n",
              "      <th></th>\n",
              "      <th>eu_sales</th>\n",
              "      <th>sum_sales</th>\n",
              "      <th>eu_share_of_sales</th>\n",
              "    </tr>\n",
              "    <tr>\n",
              "      <th>platform</th>\n",
              "      <th></th>\n",
              "      <th></th>\n",
              "      <th></th>\n",
              "    </tr>\n",
              "  </thead>\n",
              "  <tbody>\n",
              "    <tr>\n",
              "      <td>ps4</td>\n",
              "      <td>141.09</td>\n",
              "      <td>314.14</td>\n",
              "      <td>0.45</td>\n",
              "    </tr>\n",
              "    <tr>\n",
              "      <td>ps3</td>\n",
              "      <td>67.81</td>\n",
              "      <td>181.43</td>\n",
              "      <td>0.37</td>\n",
              "    </tr>\n",
              "    <tr>\n",
              "      <td>xone</td>\n",
              "      <td>51.59</td>\n",
              "      <td>159.32</td>\n",
              "      <td>0.32</td>\n",
              "    </tr>\n",
              "    <tr>\n",
              "      <td>x360</td>\n",
              "      <td>42.52</td>\n",
              "      <td>136.80</td>\n",
              "      <td>0.31</td>\n",
              "    </tr>\n",
              "    <tr>\n",
              "      <td>3ds</td>\n",
              "      <td>30.96</td>\n",
              "      <td>143.25</td>\n",
              "      <td>0.22</td>\n",
              "    </tr>\n",
              "  </tbody>\n",
              "</table>\n",
              "</div>"
            ],
            "text/plain": [
              "          eu_sales  sum_sales  eu_share_of_sales\n",
              "platform                                        \n",
              "ps4         141.09     314.14               0.45\n",
              "ps3          67.81     181.43               0.37\n",
              "xone         51.59     159.32               0.32\n",
              "x360         42.52     136.80               0.31\n",
              "3ds          30.96     143.25               0.22"
            ]
          },
          "metadata": {
            "tags": []
          },
          "execution_count": 74
        }
      ]
    },
    {
      "cell_type": "code",
      "metadata": {
        "id": "RcefiBKJBwxS",
        "outputId": "b3d1198f-0670-4c19-e8e6-312bf7fc326c"
      },
      "source": [
        "eu_top.head().sort_values(by='eu_share_of_sales', ascending=False).plot(kind='pie', y='eu_share_of_sales',  figsize=(6,6), title='График распределения платформ ТОП-5 на Европейсом рынке',legend=False,autopct='%1.2f%%')\n",
        "plt.ylabel('Суммы продаж')\n",
        "plt.show()"
      ],
      "execution_count": null,
      "outputs": [
        {
          "output_type": "display_data",
          "data": {
            "image/png": "[encoded data removed]",
            "text/plain": [
              "<Figure size 432x432 with 1 Axes>"
            ]
          },
          "metadata": {
            "tags": []
          }
        }
      ]
    },
    {
      "cell_type": "markdown",
      "metadata": {
        "id": "0xyzXICxBwxS"
      },
      "source": [
        "#### JP - Япония"
      ]
    },
    {
      "cell_type": "code",
      "metadata": {
        "scrolled": true,
        "id": "tCCKR-8RBwxS",
        "outputId": "9106fe5b-feea-4d04-a753-d05a900cc56d"
      },
      "source": [
        "jp_top = prev_data.pivot_table(index='platform', values=['jp_sales','sum_sales'], aggfunc='sum').sort_values(by='jp_sales', ascending=False)\n",
        "jp_top['jp_share_of_sales'] = (jp_top['jp_sales']/jp_top['sum_sales']).round(2)\n",
        "jp_top.head()"
      ],
      "execution_count": null,
      "outputs": [
        {
          "output_type": "execute_result",
          "data": {
            "text/html": [
              "<div>\n",
              "<style scoped>\n",
              "    .dataframe tbody tr th:only-of-type {\n",
              "        vertical-align: middle;\n",
              "    }\n",
              "\n",
              "    .dataframe tbody tr th {\n",
              "        vertical-align: top;\n",
              "    }\n",
              "\n",
              "    .dataframe thead th {\n",
              "        text-align: right;\n",
              "    }\n",
              "</style>\n",
              "<table border=\"1\" class=\"dataframe\">\n",
              "  <thead>\n",
              "    <tr style=\"text-align: right;\">\n",
              "      <th></th>\n",
              "      <th>jp_sales</th>\n",
              "      <th>sum_sales</th>\n",
              "      <th>jp_share_of_sales</th>\n",
              "    </tr>\n",
              "    <tr>\n",
              "      <th>platform</th>\n",
              "      <th></th>\n",
              "      <th></th>\n",
              "      <th></th>\n",
              "    </tr>\n",
              "  </thead>\n",
              "  <tbody>\n",
              "    <tr>\n",
              "      <td>3ds</td>\n",
              "      <td>67.81</td>\n",
              "      <td>143.25</td>\n",
              "      <td>0.47</td>\n",
              "    </tr>\n",
              "    <tr>\n",
              "      <td>ps3</td>\n",
              "      <td>23.35</td>\n",
              "      <td>181.43</td>\n",
              "      <td>0.13</td>\n",
              "    </tr>\n",
              "    <tr>\n",
              "      <td>psv</td>\n",
              "      <td>18.59</td>\n",
              "      <td>32.99</td>\n",
              "      <td>0.56</td>\n",
              "    </tr>\n",
              "    <tr>\n",
              "      <td>ps4</td>\n",
              "      <td>15.96</td>\n",
              "      <td>314.14</td>\n",
              "      <td>0.05</td>\n",
              "    </tr>\n",
              "    <tr>\n",
              "      <td>wii</td>\n",
              "      <td>10.93</td>\n",
              "      <td>78.29</td>\n",
              "      <td>0.14</td>\n",
              "    </tr>\n",
              "  </tbody>\n",
              "</table>\n",
              "</div>"
            ],
            "text/plain": [
              "          jp_sales  sum_sales  jp_share_of_sales\n",
              "platform                                        \n",
              "3ds          67.81     143.25               0.47\n",
              "ps3          23.35     181.43               0.13\n",
              "psv          18.59      32.99               0.56\n",
              "ps4          15.96     314.14               0.05\n",
              "wii          10.93      78.29               0.14"
            ]
          },
          "metadata": {
            "tags": []
          },
          "execution_count": 76
        }
      ]
    },
    {
      "cell_type": "code",
      "metadata": {
        "id": "ObYS2dXABwxS",
        "outputId": "4478aff7-f3e1-486d-a678-8b26d6fa4921"
      },
      "source": [
        "jp_top.head().sort_values(by='jp_share_of_sales', ascending=False).plot(kind='pie', y='jp_share_of_sales', figsize=(6,6), title='График распределения платформ ТОП-5 на рынке Японии',legend=False,autopct='%1.2f%%')\n",
        "plt.ylabel('Суммы продаж')\n",
        "plt.show()"
      ],
      "execution_count": null,
      "outputs": [
        {
          "output_type": "display_data",
          "data": {
            "image/png": "[encoded data removed]",
            "text/plain": [
              "<Figure size 432x432 with 1 Axes>"
            ]
          },
          "metadata": {
            "tags": []
          }
        }
      ]
    },
    {
      "cell_type": "markdown",
      "metadata": {
        "id": "nvYgjtl6BwxS"
      },
      "source": [
        "<a id=\"step_4.3\"></a>\n",
        "##### Самые популярные жанры (топ-5). Поясним разницу"
      ]
    },
    {
      "cell_type": "markdown",
      "metadata": {
        "id": "A5nNwSFTBwxT"
      },
      "source": [
        "#### NA"
      ]
    },
    {
      "cell_type": "code",
      "metadata": {
        "scrolled": true,
        "id": "Tu4IsqITBwxT",
        "outputId": "51cf3c46-f4a2-4c05-e8b7-5f0132231e2f"
      },
      "source": [
        "na_top5_genres = prev_data.pivot_table(index='genre', values=['na_sales','sum_sales'], aggfunc='sum').sort_values(by='na_sales', ascending=False)\n",
        "na_top5_genres.head()"
      ],
      "execution_count": null,
      "outputs": [
        {
          "output_type": "execute_result",
          "data": {
            "text/html": [
              "<div>\n",
              "<style scoped>\n",
              "    .dataframe tbody tr th:only-of-type {\n",
              "        vertical-align: middle;\n",
              "    }\n",
              "\n",
              "    .dataframe tbody tr th {\n",
              "        vertical-align: top;\n",
              "    }\n",
              "\n",
              "    .dataframe thead th {\n",
              "        text-align: right;\n",
              "    }\n",
              "</style>\n",
              "<table border=\"1\" class=\"dataframe\">\n",
              "  <thead>\n",
              "    <tr style=\"text-align: right;\">\n",
              "      <th></th>\n",
              "      <th>na_sales</th>\n",
              "      <th>sum_sales</th>\n",
              "    </tr>\n",
              "    <tr>\n",
              "      <th>genre</th>\n",
              "      <th></th>\n",
              "      <th></th>\n",
              "    </tr>\n",
              "  </thead>\n",
              "  <tbody>\n",
              "    <tr>\n",
              "      <td>action</td>\n",
              "      <td>126.05</td>\n",
              "      <td>321.87</td>\n",
              "    </tr>\n",
              "    <tr>\n",
              "      <td>shooter</td>\n",
              "      <td>109.74</td>\n",
              "      <td>232.98</td>\n",
              "    </tr>\n",
              "    <tr>\n",
              "      <td>sports</td>\n",
              "      <td>65.27</td>\n",
              "      <td>150.65</td>\n",
              "    </tr>\n",
              "    <tr>\n",
              "      <td>role-playing</td>\n",
              "      <td>46.40</td>\n",
              "      <td>145.89</td>\n",
              "    </tr>\n",
              "    <tr>\n",
              "      <td>misc</td>\n",
              "      <td>27.49</td>\n",
              "      <td>62.82</td>\n",
              "    </tr>\n",
              "  </tbody>\n",
              "</table>\n",
              "</div>"
            ],
            "text/plain": [
              "              na_sales  sum_sales\n",
              "genre                            \n",
              "action          126.05     321.87\n",
              "shooter         109.74     232.98\n",
              "sports           65.27     150.65\n",
              "role-playing     46.40     145.89\n",
              "misc             27.49      62.82"
            ]
          },
          "metadata": {
            "tags": []
          },
          "execution_count": 78
        }
      ]
    },
    {
      "cell_type": "code",
      "metadata": {
        "id": "HyIGZ0cwBwxT",
        "outputId": "58037882-8569-4dc9-8e64-b78efaa626b2"
      },
      "source": [
        "na_top5_genres.head().plot(kind='pie', y='na_sales', figsize=(6,6), title='График распределения ТОП-5 жанров на рынке Северной Америки',subplots=True, legend=False,autopct='%1.2f%%')\n",
        "plt.ylabel('Суммы продаж')\n",
        "plt.show()"
      ],
      "execution_count": null,
      "outputs": [
        {
          "output_type": "display_data",
          "data": {
            "image/png": "[encoded data removed]",
            "text/plain": [
              "<Figure size 432x432 with 1 Axes>"
            ]
          },
          "metadata": {
            "tags": []
          }
        }
      ]
    },
    {
      "cell_type": "markdown",
      "metadata": {
        "id": "BHzYM7uYBwxT"
      },
      "source": [
        "#### EU"
      ]
    },
    {
      "cell_type": "code",
      "metadata": {
        "scrolled": false,
        "id": "XnzAWAbEBwxT",
        "outputId": "29fcebb5-99c4-4a6e-ea0f-8819ccea418c"
      },
      "source": [
        "eu_top5_genres = prev_data.pivot_table(index='genre', values=['eu_sales','sum_sales'], aggfunc='sum').sort_values(by='eu_sales', ascending=False)\n",
        "eu_top5_genres.head()"
      ],
      "execution_count": null,
      "outputs": [
        {
          "output_type": "execute_result",
          "data": {
            "text/html": [
              "<div>\n",
              "<style scoped>\n",
              "    .dataframe tbody tr th:only-of-type {\n",
              "        vertical-align: middle;\n",
              "    }\n",
              "\n",
              "    .dataframe tbody tr th {\n",
              "        vertical-align: top;\n",
              "    }\n",
              "\n",
              "    .dataframe thead th {\n",
              "        text-align: right;\n",
              "    }\n",
              "</style>\n",
              "<table border=\"1\" class=\"dataframe\">\n",
              "  <thead>\n",
              "    <tr style=\"text-align: right;\">\n",
              "      <th></th>\n",
              "      <th>eu_sales</th>\n",
              "      <th>sum_sales</th>\n",
              "    </tr>\n",
              "    <tr>\n",
              "      <th>genre</th>\n",
              "      <th></th>\n",
              "      <th></th>\n",
              "    </tr>\n",
              "  </thead>\n",
              "  <tbody>\n",
              "    <tr>\n",
              "      <td>action</td>\n",
              "      <td>118.13</td>\n",
              "      <td>321.87</td>\n",
              "    </tr>\n",
              "    <tr>\n",
              "      <td>shooter</td>\n",
              "      <td>87.86</td>\n",
              "      <td>232.98</td>\n",
              "    </tr>\n",
              "    <tr>\n",
              "      <td>sports</td>\n",
              "      <td>60.52</td>\n",
              "      <td>150.65</td>\n",
              "    </tr>\n",
              "    <tr>\n",
              "      <td>role-playing</td>\n",
              "      <td>36.97</td>\n",
              "      <td>145.89</td>\n",
              "    </tr>\n",
              "    <tr>\n",
              "      <td>racing</td>\n",
              "      <td>20.19</td>\n",
              "      <td>39.89</td>\n",
              "    </tr>\n",
              "  </tbody>\n",
              "</table>\n",
              "</div>"
            ],
            "text/plain": [
              "              eu_sales  sum_sales\n",
              "genre                            \n",
              "action          118.13     321.87\n",
              "shooter          87.86     232.98\n",
              "sports           60.52     150.65\n",
              "role-playing     36.97     145.89\n",
              "racing           20.19      39.89"
            ]
          },
          "metadata": {
            "tags": []
          },
          "execution_count": 80
        }
      ]
    },
    {
      "cell_type": "code",
      "metadata": {
        "id": "9OWAGkmyBwxT",
        "outputId": "d2afc2f3-40e4-4387-c0ae-4f2fea567c3b"
      },
      "source": [
        "eu_top5_genres.head().plot(kind='pie', y='eu_sales', figsize=(6,6), title='График распределения ТОП-5 жанров на Европейском рынке',subplots=True, legend=False,autopct='%1.2f%%')\n",
        "plt.ylabel('Суммы продаж')\n",
        "plt.show()"
      ],
      "execution_count": null,
      "outputs": [
        {
          "output_type": "display_data",
          "data": {
            "image/png": "[encoded data removed]",
            "text/plain": [
              "<Figure size 432x432 with 1 Axes>"
            ]
          },
          "metadata": {
            "tags": []
          }
        }
      ]
    },
    {
      "cell_type": "markdown",
      "metadata": {
        "id": "F0fzp6Z_BwxU"
      },
      "source": [
        "#### JP"
      ]
    },
    {
      "cell_type": "code",
      "metadata": {
        "scrolled": true,
        "id": "ABLFmT_rBwxU",
        "outputId": "6ef473c1-2364-47d3-c5ec-8c4333d540ab"
      },
      "source": [
        "jp_top5_genres = prev_data.pivot_table(index='genre', values=['jp_sales','sum_sales'], aggfunc='sum').sort_values(by='jp_sales', ascending=False)\n",
        "jp_top5_genres.head()"
      ],
      "execution_count": null,
      "outputs": [
        {
          "output_type": "execute_result",
          "data": {
            "text/html": [
              "<div>\n",
              "<style scoped>\n",
              "    .dataframe tbody tr th:only-of-type {\n",
              "        vertical-align: middle;\n",
              "    }\n",
              "\n",
              "    .dataframe tbody tr th {\n",
              "        vertical-align: top;\n",
              "    }\n",
              "\n",
              "    .dataframe thead th {\n",
              "        text-align: right;\n",
              "    }\n",
              "</style>\n",
              "<table border=\"1\" class=\"dataframe\">\n",
              "  <thead>\n",
              "    <tr style=\"text-align: right;\">\n",
              "      <th></th>\n",
              "      <th>jp_sales</th>\n",
              "      <th>sum_sales</th>\n",
              "    </tr>\n",
              "    <tr>\n",
              "      <th>genre</th>\n",
              "      <th></th>\n",
              "      <th></th>\n",
              "    </tr>\n",
              "  </thead>\n",
              "  <tbody>\n",
              "    <tr>\n",
              "      <td>role-playing</td>\n",
              "      <td>51.04</td>\n",
              "      <td>145.89</td>\n",
              "    </tr>\n",
              "    <tr>\n",
              "      <td>action</td>\n",
              "      <td>40.49</td>\n",
              "      <td>321.87</td>\n",
              "    </tr>\n",
              "    <tr>\n",
              "      <td>misc</td>\n",
              "      <td>9.20</td>\n",
              "      <td>62.82</td>\n",
              "    </tr>\n",
              "    <tr>\n",
              "      <td>fighting</td>\n",
              "      <td>7.65</td>\n",
              "      <td>35.31</td>\n",
              "    </tr>\n",
              "    <tr>\n",
              "      <td>shooter</td>\n",
              "      <td>6.61</td>\n",
              "      <td>232.98</td>\n",
              "    </tr>\n",
              "  </tbody>\n",
              "</table>\n",
              "</div>"
            ],
            "text/plain": [
              "              jp_sales  sum_sales\n",
              "genre                            \n",
              "role-playing     51.04     145.89\n",
              "action           40.49     321.87\n",
              "misc              9.20      62.82\n",
              "fighting          7.65      35.31\n",
              "shooter           6.61     232.98"
            ]
          },
          "metadata": {
            "tags": []
          },
          "execution_count": 82
        }
      ]
    },
    {
      "cell_type": "code",
      "metadata": {
        "id": "iHAQJek4BwxU",
        "outputId": "23008ebe-9df4-425d-cd1d-ea7c53d62b6f"
      },
      "source": [
        "jp_top5_genres.head().plot(kind='pie', y='jp_sales', figsize=(6,6), title='График распределения ТОП-5 жанров на рынке Японии',subplots=True, legend=False, autopct='%1.2f%%')\n",
        "plt.ylabel('Суммы продаж')\n",
        "plt.show()"
      ],
      "execution_count": null,
      "outputs": [
        {
          "output_type": "display_data",
          "data": {
            "image/png": "[encoded data removed]",
            "text/plain": [
              "<Figure size 432x432 with 1 Axes>"
            ]
          },
          "metadata": {
            "tags": []
          }
        }
      ]
    },
    {
      "cell_type": "markdown",
      "metadata": {
        "id": "BUeMQJ6uBwxU"
      },
      "source": [
        "<a id=\"step_4.4\"></a>\n",
        "##### Влияет ли рейтинг ESRB на продажи в отдельном регионе?"
      ]
    },
    {
      "cell_type": "code",
      "metadata": {
        "scrolled": true,
        "id": "L3Jv5pm2BwxU",
        "outputId": "25d060b2-47ca-4cce-fa4a-9c58cb81ccd7"
      },
      "source": [
        "prev_data.head()"
      ],
      "execution_count": null,
      "outputs": [
        {
          "output_type": "execute_result",
          "data": {
            "text/html": [
              "<div>\n",
              "<style scoped>\n",
              "    .dataframe tbody tr th:only-of-type {\n",
              "        vertical-align: middle;\n",
              "    }\n",
              "\n",
              "    .dataframe tbody tr th {\n",
              "        vertical-align: top;\n",
              "    }\n",
              "\n",
              "    .dataframe thead th {\n",
              "        text-align: right;\n",
              "    }\n",
              "</style>\n",
              "<table border=\"1\" class=\"dataframe\">\n",
              "  <thead>\n",
              "    <tr style=\"text-align: right;\">\n",
              "      <th></th>\n",
              "      <th>name</th>\n",
              "      <th>platform</th>\n",
              "      <th>year_of_release</th>\n",
              "      <th>genre</th>\n",
              "      <th>na_sales</th>\n",
              "      <th>eu_sales</th>\n",
              "      <th>jp_sales</th>\n",
              "      <th>other_sales</th>\n",
              "      <th>critic_score</th>\n",
              "      <th>user_score</th>\n",
              "      <th>rating</th>\n",
              "      <th>sum_sales</th>\n",
              "    </tr>\n",
              "  </thead>\n",
              "  <tbody>\n",
              "    <tr>\n",
              "      <td>16</td>\n",
              "      <td>grand theft auto v</td>\n",
              "      <td>ps3</td>\n",
              "      <td>2013</td>\n",
              "      <td>action</td>\n",
              "      <td>7.02</td>\n",
              "      <td>9.09</td>\n",
              "      <td>0.98</td>\n",
              "      <td>3.96</td>\n",
              "      <td>97.0</td>\n",
              "      <td>8.2</td>\n",
              "      <td>M</td>\n",
              "      <td>21.05</td>\n",
              "    </tr>\n",
              "    <tr>\n",
              "      <td>23</td>\n",
              "      <td>grand theft auto v</td>\n",
              "      <td>x360</td>\n",
              "      <td>2013</td>\n",
              "      <td>action</td>\n",
              "      <td>9.66</td>\n",
              "      <td>5.14</td>\n",
              "      <td>0.06</td>\n",
              "      <td>1.41</td>\n",
              "      <td>97.0</td>\n",
              "      <td>8.1</td>\n",
              "      <td>M</td>\n",
              "      <td>16.27</td>\n",
              "    </tr>\n",
              "    <tr>\n",
              "      <td>31</td>\n",
              "      <td>call of duty: black ops 3</td>\n",
              "      <td>ps4</td>\n",
              "      <td>2015</td>\n",
              "      <td>shooter</td>\n",
              "      <td>6.03</td>\n",
              "      <td>5.86</td>\n",
              "      <td>0.36</td>\n",
              "      <td>2.38</td>\n",
              "      <td>NaN</td>\n",
              "      <td>NaN</td>\n",
              "      <td>NaN</td>\n",
              "      <td>14.63</td>\n",
              "    </tr>\n",
              "    <tr>\n",
              "      <td>33</td>\n",
              "      <td>pokemon x/pokemon y</td>\n",
              "      <td>3ds</td>\n",
              "      <td>2013</td>\n",
              "      <td>role-playing</td>\n",
              "      <td>5.28</td>\n",
              "      <td>4.19</td>\n",
              "      <td>4.35</td>\n",
              "      <td>0.78</td>\n",
              "      <td>NaN</td>\n",
              "      <td>NaN</td>\n",
              "      <td>NaN</td>\n",
              "      <td>14.60</td>\n",
              "    </tr>\n",
              "    <tr>\n",
              "      <td>42</td>\n",
              "      <td>grand theft auto v</td>\n",
              "      <td>ps4</td>\n",
              "      <td>2014</td>\n",
              "      <td>action</td>\n",
              "      <td>3.96</td>\n",
              "      <td>6.31</td>\n",
              "      <td>0.38</td>\n",
              "      <td>1.97</td>\n",
              "      <td>97.0</td>\n",
              "      <td>8.3</td>\n",
              "      <td>M</td>\n",
              "      <td>12.62</td>\n",
              "    </tr>\n",
              "  </tbody>\n",
              "</table>\n",
              "</div>"
            ],
            "text/plain": [
              "                         name platform  year_of_release         genre  \\\n",
              "16         grand theft auto v      ps3             2013        action   \n",
              "23         grand theft auto v     x360             2013        action   \n",
              "31  call of duty: black ops 3      ps4             2015       shooter   \n",
              "33        pokemon x/pokemon y      3ds             2013  role-playing   \n",
              "42         grand theft auto v      ps4             2014        action   \n",
              "\n",
              "    na_sales  eu_sales  jp_sales  other_sales  critic_score  user_score  \\\n",
              "16      7.02      9.09      0.98         3.96          97.0         8.2   \n",
              "23      9.66      5.14      0.06         1.41          97.0         8.1   \n",
              "31      6.03      5.86      0.36         2.38           NaN         NaN   \n",
              "33      5.28      4.19      4.35         0.78           NaN         NaN   \n",
              "42      3.96      6.31      0.38         1.97          97.0         8.3   \n",
              "\n",
              "   rating  sum_sales  \n",
              "16      M      21.05  \n",
              "23      M      16.27  \n",
              "31    NaN      14.63  \n",
              "33    NaN      14.60  \n",
              "42      M      12.62  "
            ]
          },
          "metadata": {
            "tags": []
          },
          "execution_count": 84
        }
      ]
    },
    {
      "cell_type": "markdown",
      "metadata": {
        "id": "hWLTetzzBwxU"
      },
      "source": [
        "Посмторим уникальные значения и за одно проверим на дубли"
      ]
    },
    {
      "cell_type": "code",
      "metadata": {
        "scrolled": true,
        "id": "6JnQSICwBwxV",
        "outputId": "96bee0c0-c942-4d8a-c7ee-b328ef475ac8"
      },
      "source": [
        "print(prev_data['rating'].unique())"
      ],
      "execution_count": null,
      "outputs": [
        {
          "output_type": "stream",
          "text": [
            "['M' nan 'E' 'T' 'E10+']\n"
          ],
          "name": "stdout"
        }
      ]
    },
    {
      "cell_type": "code",
      "metadata": {
        "id": "8CbObtHpBwxV"
      },
      "source": [
        "prev_data.loc[prev_data['rating'].isna(),'rating'] = 'N/A'"
      ],
      "execution_count": null,
      "outputs": []
    },
    {
      "cell_type": "markdown",
      "metadata": {
        "id": "JjE073eJBwxV"
      },
      "source": [
        "Проверим результат:"
      ]
    },
    {
      "cell_type": "code",
      "metadata": {
        "id": "-OASEEdWBwxV",
        "outputId": "49409d2c-ae02-48f1-aa64-4f670ab62c80"
      },
      "source": [
        "print(prev_data['rating'].unique())"
      ],
      "execution_count": null,
      "outputs": [
        {
          "output_type": "stream",
          "text": [
            "['M' 'N/A' 'E' 'T' 'E10+']\n"
          ],
          "name": "stdout"
        }
      ]
    },
    {
      "cell_type": "markdown",
      "metadata": {
        "id": "UMh3wtR3BwxV"
      },
      "source": [
        "Отлично дублей и выбивающихся значений нет, можем работать дальше"
      ]
    },
    {
      "cell_type": "code",
      "metadata": {
        "scrolled": true,
        "id": "_pVp3oQQBwxV"
      },
      "source": [
        "group_esrb = prev_data.groupby(['rating','genre'])['na_sales','eu_sales','jp_sales'].mean()\n",
        "group_esrb.columns=['Северная Америка','Европа','Япония']"
      ],
      "execution_count": null,
      "outputs": []
    },
    {
      "cell_type": "code",
      "metadata": {
        "scrolled": false,
        "id": "H-3xz7rfBwxW",
        "outputId": "3fdfd04b-d57d-4242-bcc3-c135acf75f84"
      },
      "source": [
        "group_esrb.query('rating != \"N/A\"').plot(kind='bar',figsize=(17,8),grid=True,title='График влияния рейтинга ESRB на продажи в разных странах')\n",
        "plt.xlabel('Рейтинг, Жанр')\n",
        "plt.ylabel('Среднее количество продаж по каждой из стран')\n",
        "plt.show()"
      ],
      "execution_count": null,
      "outputs": [
        {
          "output_type": "display_data",
          "data": {
            "image/png": "[encoded data removed]",
            "text/plain": [
              "<Figure size 1224x576 with 1 Axes>"
            ]
          },
          "metadata": {
            "tags": [],
            "needs_background": "light"
          }
        }
      ]
    },
    {
      "cell_type": "markdown",
      "metadata": {
        "id": "XCLysU4rBwxW"
      },
      "source": [
        "Для наглядного представления распределения данных по пропущенным значениям рейтинга, построим график влияния рейтинга ESRB"
      ]
    },
    {
      "cell_type": "code",
      "metadata": {
        "id": "O42qjpCbBwxW",
        "outputId": "c31296fc-6910-4385-fb89-f1a922b19870"
      },
      "source": [
        "g = prev_data.query('rating == \"N/A\"').groupby(['rating','genre'])['na_sales','eu_sales','jp_sales'].mean()\n",
        "g.columns=['Северная Америка','Европа','Япония']\n",
        "g.plot(kind='bar',figsize=(14,5),grid=True,title='График влияния рейтинга ESRB на продажи в разных странах (рейтинг \"N/A\")')\n",
        "plt.xlabel('Рейтинг, Жанр')\n",
        "plt.ylabel('Среднее количество продаж по каждой из стран')\n",
        "plt.show()"
      ],
      "execution_count": null,
      "outputs": [
        {
          "output_type": "display_data",
          "data": {
            "image/png": "[encoded data removed]",
            "text/plain": [
              "<Figure size 1008x360 with 1 Axes>"
            ]
          },
          "metadata": {
            "tags": [],
            "needs_background": "light"
          }
        }
      ]
    },
    {
      "cell_type": "markdown",
      "metadata": {
        "id": "7IFgD4WvBwxW"
      },
      "source": [
        "<a id=\"step_4.end\"></a>\n",
        "### Вывод"
      ]
    },
    {
      "cell_type": "markdown",
      "metadata": {
        "id": "sqe3ax9jBwxW"
      },
      "source": [
        "По портрету пользователя можно сказать, что в станах \"Севреной Америки\",\"Европе\" и \"Японии\" в ходу одни и теже платформы из ТОП-5, но в процентном соотношении в каждом регионе они распростаранены по разному, по всей видимости это связано с менталитетом и образом жизни в разных странах. Так же есть отличия и в использовании жанров, если для Северной Америки и Европы более популярны жанры *shooter* и *action*, то для Японии более распространён жанр *action* и *role-playing*. В одном жанре все схожи - это *action*. Так же можем отметить, что самой подверженной рейтингу *ESRB* из трёх стран оказалась Япония, там наблюдается самая большая зависимость."
      ]
    },
    {
      "cell_type": "markdown",
      "metadata": {
        "id": "ccP1ca3RBwxW"
      },
      "source": [
        "---"
      ]
    },
    {
      "cell_type": "markdown",
      "metadata": {
        "id": "XOTdKab4BwxX"
      },
      "source": [
        "<a href='#start'>Вернуться к оглавлению</a>\n",
        "<a id=\"step_5.1\"></a>\n",
        "### Глава 5. Проверим гипотезы"
      ]
    },
    {
      "cell_type": "markdown",
      "metadata": {
        "id": "S007fflGBwxX"
      },
      "source": [
        "#### Средние пользовательские рейтинги платформ Xbox One и PC одинаковые"
      ]
    },
    {
      "cell_type": "markdown",
      "metadata": {
        "id": "3iJjqmfGBwxX"
      },
      "source": [
        "Для того чтобы доказать или опровергнуть гипотезу, сформулируем нулевую и альтернативную гипотезы следующим образом:<br>\n",
        "- **нулевая гипотеза** будет звучать так - средние пользовательские рейтинги платформ *Xbox One* и *PC* равны, тогда как<br>\n",
        "- **альтернативная гипотеза** - пользовательские рейтинги не равны."
      ]
    },
    {
      "cell_type": "markdown",
      "metadata": {
        "id": "xQrOOTFKBwxX"
      },
      "source": [
        "##### Определим сначала дисперсию и среднее отклонение <br><br> Дисперсия:\n"
      ]
    },
    {
      "cell_type": "markdown",
      "metadata": {
        "id": "PkuYIp_PBwxX"
      },
      "source": [
        "**\"Xbox One\"**"
      ]
    },
    {
      "cell_type": "code",
      "metadata": {
        "scrolled": false,
        "id": "keLvTyguBwxX"
      },
      "source": [
        "data_xb=data.query('platform == \"xone\"')"
      ],
      "execution_count": null,
      "outputs": []
    },
    {
      "cell_type": "code",
      "metadata": {
        "id": "kpledUwyBwxX",
        "outputId": "5306e846-6620-4b3d-d8be-22a4ad65398d"
      },
      "source": [
        "data_xb.head()"
      ],
      "execution_count": null,
      "outputs": [
        {
          "output_type": "execute_result",
          "data": {
            "text/html": [
              "<div>\n",
              "<style scoped>\n",
              "    .dataframe tbody tr th:only-of-type {\n",
              "        vertical-align: middle;\n",
              "    }\n",
              "\n",
              "    .dataframe tbody tr th {\n",
              "        vertical-align: top;\n",
              "    }\n",
              "\n",
              "    .dataframe thead th {\n",
              "        text-align: right;\n",
              "    }\n",
              "</style>\n",
              "<table border=\"1\" class=\"dataframe\">\n",
              "  <thead>\n",
              "    <tr style=\"text-align: right;\">\n",
              "      <th></th>\n",
              "      <th>name</th>\n",
              "      <th>platform</th>\n",
              "      <th>year_of_release</th>\n",
              "      <th>genre</th>\n",
              "      <th>na_sales</th>\n",
              "      <th>eu_sales</th>\n",
              "      <th>jp_sales</th>\n",
              "      <th>other_sales</th>\n",
              "      <th>critic_score</th>\n",
              "      <th>user_score</th>\n",
              "      <th>rating</th>\n",
              "      <th>sum_sales</th>\n",
              "    </tr>\n",
              "  </thead>\n",
              "  <tbody>\n",
              "    <tr>\n",
              "      <td>99</td>\n",
              "      <td>call of duty: black ops 3</td>\n",
              "      <td>xone</td>\n",
              "      <td>2015</td>\n",
              "      <td>shooter</td>\n",
              "      <td>4.59</td>\n",
              "      <td>2.11</td>\n",
              "      <td>0.01</td>\n",
              "      <td>0.68</td>\n",
              "      <td>NaN</td>\n",
              "      <td>NaN</td>\n",
              "      <td>NaN</td>\n",
              "      <td>7.39</td>\n",
              "    </tr>\n",
              "    <tr>\n",
              "      <td>165</td>\n",
              "      <td>grand theft auto v</td>\n",
              "      <td>xone</td>\n",
              "      <td>2014</td>\n",
              "      <td>action</td>\n",
              "      <td>2.81</td>\n",
              "      <td>2.19</td>\n",
              "      <td>0.00</td>\n",
              "      <td>0.47</td>\n",
              "      <td>97.0</td>\n",
              "      <td>7.9</td>\n",
              "      <td>M</td>\n",
              "      <td>5.47</td>\n",
              "    </tr>\n",
              "    <tr>\n",
              "      <td>179</td>\n",
              "      <td>call of duty: advanced warfare</td>\n",
              "      <td>xone</td>\n",
              "      <td>2014</td>\n",
              "      <td>shooter</td>\n",
              "      <td>3.22</td>\n",
              "      <td>1.55</td>\n",
              "      <td>0.01</td>\n",
              "      <td>0.48</td>\n",
              "      <td>81.0</td>\n",
              "      <td>5.4</td>\n",
              "      <td>M</td>\n",
              "      <td>5.26</td>\n",
              "    </tr>\n",
              "    <tr>\n",
              "      <td>242</td>\n",
              "      <td>halo 5: guardians</td>\n",
              "      <td>xone</td>\n",
              "      <td>2015</td>\n",
              "      <td>shooter</td>\n",
              "      <td>2.78</td>\n",
              "      <td>1.27</td>\n",
              "      <td>0.03</td>\n",
              "      <td>0.41</td>\n",
              "      <td>84.0</td>\n",
              "      <td>6.4</td>\n",
              "      <td>T</td>\n",
              "      <td>4.49</td>\n",
              "    </tr>\n",
              "    <tr>\n",
              "      <td>270</td>\n",
              "      <td>fallout 4</td>\n",
              "      <td>xone</td>\n",
              "      <td>2015</td>\n",
              "      <td>role-playing</td>\n",
              "      <td>2.51</td>\n",
              "      <td>1.32</td>\n",
              "      <td>0.01</td>\n",
              "      <td>0.38</td>\n",
              "      <td>88.0</td>\n",
              "      <td>6.2</td>\n",
              "      <td>M</td>\n",
              "      <td>4.22</td>\n",
              "    </tr>\n",
              "  </tbody>\n",
              "</table>\n",
              "</div>"
            ],
            "text/plain": [
              "                               name platform  year_of_release         genre  \\\n",
              "99        call of duty: black ops 3     xone             2015       shooter   \n",
              "165              grand theft auto v     xone             2014        action   \n",
              "179  call of duty: advanced warfare     xone             2014       shooter   \n",
              "242               halo 5: guardians     xone             2015       shooter   \n",
              "270                       fallout 4     xone             2015  role-playing   \n",
              "\n",
              "     na_sales  eu_sales  jp_sales  other_sales  critic_score  user_score  \\\n",
              "99       4.59      2.11      0.01         0.68           NaN         NaN   \n",
              "165      2.81      2.19      0.00         0.47          97.0         7.9   \n",
              "179      3.22      1.55      0.01         0.48          81.0         5.4   \n",
              "242      2.78      1.27      0.03         0.41          84.0         6.4   \n",
              "270      2.51      1.32      0.01         0.38          88.0         6.2   \n",
              "\n",
              "    rating  sum_sales  \n",
              "99     NaN       7.39  \n",
              "165      M       5.47  \n",
              "179      M       5.26  \n",
              "242      T       4.49  \n",
              "270      M       4.22  "
            ]
          },
          "metadata": {
            "tags": []
          },
          "execution_count": 92
        }
      ]
    },
    {
      "cell_type": "markdown",
      "metadata": {
        "id": "69zy0imRBwxY"
      },
      "source": [
        "Для корректной статистики возьмём только те игры, которые имеют отзывы пользователей, а отсутсвующие данные удалим из нашей выборки"
      ]
    },
    {
      "cell_type": "code",
      "metadata": {
        "scrolled": true,
        "id": "lqPtxdNhBwxY",
        "outputId": "ec152ad8-1b78-4a6b-9989-5986bf3dc20f"
      },
      "source": [
        "data_xb=data_xb.dropna(subset=['user_score'])\n",
        "data_xb.loc[data_xb['user_score'].isna()]"
      ],
      "execution_count": null,
      "outputs": [
        {
          "output_type": "execute_result",
          "data": {
            "text/html": [
              "<div>\n",
              "<style scoped>\n",
              "    .dataframe tbody tr th:only-of-type {\n",
              "        vertical-align: middle;\n",
              "    }\n",
              "\n",
              "    .dataframe tbody tr th {\n",
              "        vertical-align: top;\n",
              "    }\n",
              "\n",
              "    .dataframe thead th {\n",
              "        text-align: right;\n",
              "    }\n",
              "</style>\n",
              "<table border=\"1\" class=\"dataframe\">\n",
              "  <thead>\n",
              "    <tr style=\"text-align: right;\">\n",
              "      <th></th>\n",
              "      <th>name</th>\n",
              "      <th>platform</th>\n",
              "      <th>year_of_release</th>\n",
              "      <th>genre</th>\n",
              "      <th>na_sales</th>\n",
              "      <th>eu_sales</th>\n",
              "      <th>jp_sales</th>\n",
              "      <th>other_sales</th>\n",
              "      <th>critic_score</th>\n",
              "      <th>user_score</th>\n",
              "      <th>rating</th>\n",
              "      <th>sum_sales</th>\n",
              "    </tr>\n",
              "  </thead>\n",
              "  <tbody>\n",
              "  </tbody>\n",
              "</table>\n",
              "</div>"
            ],
            "text/plain": [
              "Empty DataFrame\n",
              "Columns: [name, platform, year_of_release, genre, na_sales, eu_sales, jp_sales, other_sales, critic_score, user_score, rating, sum_sales]\n",
              "Index: []"
            ]
          },
          "metadata": {
            "tags": []
          },
          "execution_count": 93
        }
      ]
    },
    {
      "cell_type": "markdown",
      "metadata": {
        "id": "f9z30g9IBwxY"
      },
      "source": [
        "Посторим гистограмму для понимания распределения данных"
      ]
    },
    {
      "cell_type": "code",
      "metadata": {
        "scrolled": false,
        "id": "-z_xyxTIBwxY",
        "outputId": "a71dfe47-e394-416a-fea0-a2a4281e1370"
      },
      "source": [
        "data.query('platform == \"xone\"').groupby('platform')['user_score'].plot(kind='hist',grid=True, bins=15, figsize=(7,4))\n",
        "plt.title('Гистограмма распределения данных по платформе \"XboxOne\"')\n",
        "plt.ylabel('Количество')\n",
        "plt.xlabel('Оценка пользователей')\n",
        "plt.show()"
      ],
      "execution_count": null,
      "outputs": [
        {
          "output_type": "display_data",
          "data": {
            "image/png": "[encoded data removed]",
            "text/plain": [
              "<Figure size 504x288 with 1 Axes>"
            ]
          },
          "metadata": {
            "tags": [],
            "needs_background": "light"
          }
        }
      ]
    },
    {
      "cell_type": "markdown",
      "metadata": {
        "id": "es8QJLOtBwxY"
      },
      "source": [
        "На нашем графике прослеживается нормальное распределение со скосом влево"
      ]
    },
    {
      "cell_type": "markdown",
      "metadata": {
        "id": "Kfb6D8aZBwxZ"
      },
      "source": [
        "**\"PC\"**"
      ]
    },
    {
      "cell_type": "code",
      "metadata": {
        "scrolled": true,
        "id": "-zyN0fNDBwxZ",
        "outputId": "6cc94c06-8524-4b8f-e081-eaecd42fe923"
      },
      "source": [
        "data_pc=data.query('platform == \"pc\"')\n",
        "data_pc.head()"
      ],
      "execution_count": null,
      "outputs": [
        {
          "output_type": "execute_result",
          "data": {
            "text/html": [
              "<div>\n",
              "<style scoped>\n",
              "    .dataframe tbody tr th:only-of-type {\n",
              "        vertical-align: middle;\n",
              "    }\n",
              "\n",
              "    .dataframe tbody tr th {\n",
              "        vertical-align: top;\n",
              "    }\n",
              "\n",
              "    .dataframe thead th {\n",
              "        text-align: right;\n",
              "    }\n",
              "</style>\n",
              "<table border=\"1\" class=\"dataframe\">\n",
              "  <thead>\n",
              "    <tr style=\"text-align: right;\">\n",
              "      <th></th>\n",
              "      <th>name</th>\n",
              "      <th>platform</th>\n",
              "      <th>year_of_release</th>\n",
              "      <th>genre</th>\n",
              "      <th>na_sales</th>\n",
              "      <th>eu_sales</th>\n",
              "      <th>jp_sales</th>\n",
              "      <th>other_sales</th>\n",
              "      <th>critic_score</th>\n",
              "      <th>user_score</th>\n",
              "      <th>rating</th>\n",
              "      <th>sum_sales</th>\n",
              "    </tr>\n",
              "  </thead>\n",
              "  <tbody>\n",
              "    <tr>\n",
              "      <td>85</td>\n",
              "      <td>the sims 3</td>\n",
              "      <td>pc</td>\n",
              "      <td>2009</td>\n",
              "      <td>simulation</td>\n",
              "      <td>0.99</td>\n",
              "      <td>6.42</td>\n",
              "      <td>0.0</td>\n",
              "      <td>0.60</td>\n",
              "      <td>86.0</td>\n",
              "      <td>7.6</td>\n",
              "      <td>T</td>\n",
              "      <td>8.01</td>\n",
              "    </tr>\n",
              "    <tr>\n",
              "      <td>138</td>\n",
              "      <td>world of warcraft</td>\n",
              "      <td>pc</td>\n",
              "      <td>2004</td>\n",
              "      <td>role-playing</td>\n",
              "      <td>0.08</td>\n",
              "      <td>6.21</td>\n",
              "      <td>0.0</td>\n",
              "      <td>0.00</td>\n",
              "      <td>93.0</td>\n",
              "      <td>7.3</td>\n",
              "      <td>T</td>\n",
              "      <td>6.29</td>\n",
              "    </tr>\n",
              "    <tr>\n",
              "      <td>192</td>\n",
              "      <td>diablo iii</td>\n",
              "      <td>pc</td>\n",
              "      <td>2012</td>\n",
              "      <td>role-playing</td>\n",
              "      <td>2.44</td>\n",
              "      <td>2.16</td>\n",
              "      <td>0.0</td>\n",
              "      <td>0.54</td>\n",
              "      <td>88.0</td>\n",
              "      <td>4.0</td>\n",
              "      <td>M</td>\n",
              "      <td>5.14</td>\n",
              "    </tr>\n",
              "    <tr>\n",
              "      <td>195</td>\n",
              "      <td>microsoft flight simulator</td>\n",
              "      <td>pc</td>\n",
              "      <td>1996</td>\n",
              "      <td>simulation</td>\n",
              "      <td>3.22</td>\n",
              "      <td>1.69</td>\n",
              "      <td>0.0</td>\n",
              "      <td>0.20</td>\n",
              "      <td>NaN</td>\n",
              "      <td>NaN</td>\n",
              "      <td>NaN</td>\n",
              "      <td>5.11</td>\n",
              "    </tr>\n",
              "    <tr>\n",
              "      <td>218</td>\n",
              "      <td>starcraft ii: wings of liberty</td>\n",
              "      <td>pc</td>\n",
              "      <td>2010</td>\n",
              "      <td>strategy</td>\n",
              "      <td>2.57</td>\n",
              "      <td>1.68</td>\n",
              "      <td>0.0</td>\n",
              "      <td>0.58</td>\n",
              "      <td>93.0</td>\n",
              "      <td>8.2</td>\n",
              "      <td>T</td>\n",
              "      <td>4.83</td>\n",
              "    </tr>\n",
              "  </tbody>\n",
              "</table>\n",
              "</div>"
            ],
            "text/plain": [
              "                               name platform  year_of_release         genre  \\\n",
              "85                       the sims 3       pc             2009    simulation   \n",
              "138               world of warcraft       pc             2004  role-playing   \n",
              "192                      diablo iii       pc             2012  role-playing   \n",
              "195      microsoft flight simulator       pc             1996    simulation   \n",
              "218  starcraft ii: wings of liberty       pc             2010      strategy   \n",
              "\n",
              "     na_sales  eu_sales  jp_sales  other_sales  critic_score  user_score  \\\n",
              "85       0.99      6.42       0.0         0.60          86.0         7.6   \n",
              "138      0.08      6.21       0.0         0.00          93.0         7.3   \n",
              "192      2.44      2.16       0.0         0.54          88.0         4.0   \n",
              "195      3.22      1.69       0.0         0.20           NaN         NaN   \n",
              "218      2.57      1.68       0.0         0.58          93.0         8.2   \n",
              "\n",
              "    rating  sum_sales  \n",
              "85       T       8.01  \n",
              "138      T       6.29  \n",
              "192      M       5.14  \n",
              "195    NaN       5.11  \n",
              "218      T       4.83  "
            ]
          },
          "metadata": {
            "tags": []
          },
          "execution_count": 95
        }
      ]
    },
    {
      "cell_type": "markdown",
      "metadata": {
        "id": "tkLUiJFDBwxZ"
      },
      "source": [
        "Для корректной статистики возьмём только те игры, которые имеют отзывы пользователей, а отсутсвующие данные удалим из нашей выборки"
      ]
    },
    {
      "cell_type": "code",
      "metadata": {
        "id": "j0LsdTByBwxZ",
        "outputId": "91c6e863-82f1-4dfb-d643-62a1fa907317"
      },
      "source": [
        "data_pc=data_pc.dropna(subset=['user_score'])\n",
        "data_pc.loc[data_pc['user_score'].isna()]"
      ],
      "execution_count": null,
      "outputs": [
        {
          "output_type": "execute_result",
          "data": {
            "text/html": [
              "<div>\n",
              "<style scoped>\n",
              "    .dataframe tbody tr th:only-of-type {\n",
              "        vertical-align: middle;\n",
              "    }\n",
              "\n",
              "    .dataframe tbody tr th {\n",
              "        vertical-align: top;\n",
              "    }\n",
              "\n",
              "    .dataframe thead th {\n",
              "        text-align: right;\n",
              "    }\n",
              "</style>\n",
              "<table border=\"1\" class=\"dataframe\">\n",
              "  <thead>\n",
              "    <tr style=\"text-align: right;\">\n",
              "      <th></th>\n",
              "      <th>name</th>\n",
              "      <th>platform</th>\n",
              "      <th>year_of_release</th>\n",
              "      <th>genre</th>\n",
              "      <th>na_sales</th>\n",
              "      <th>eu_sales</th>\n",
              "      <th>jp_sales</th>\n",
              "      <th>other_sales</th>\n",
              "      <th>critic_score</th>\n",
              "      <th>user_score</th>\n",
              "      <th>rating</th>\n",
              "      <th>sum_sales</th>\n",
              "    </tr>\n",
              "  </thead>\n",
              "  <tbody>\n",
              "  </tbody>\n",
              "</table>\n",
              "</div>"
            ],
            "text/plain": [
              "Empty DataFrame\n",
              "Columns: [name, platform, year_of_release, genre, na_sales, eu_sales, jp_sales, other_sales, critic_score, user_score, rating, sum_sales]\n",
              "Index: []"
            ]
          },
          "metadata": {
            "tags": []
          },
          "execution_count": 96
        }
      ]
    },
    {
      "cell_type": "markdown",
      "metadata": {
        "id": "PrSvaqZTBwxZ"
      },
      "source": [
        "Посторим гистограмму для понимания распределения данных"
      ]
    },
    {
      "cell_type": "code",
      "metadata": {
        "scrolled": true,
        "id": "_3TSGuV7Bwxa",
        "outputId": "c8d2ad04-ef66-4e4e-e397-03cf9d6ed221"
      },
      "source": [
        "data_pc.groupby('platform')['user_score'].plot(kind='hist',grid=True, bins=10, figsize=(7,4))\n",
        "plt.title('Гистограмма распределения данных по платформе \"PC\"')\n",
        "plt.ylabel('Количество')\n",
        "plt.xlabel('Оценка пользователей')\n",
        "plt.show()"
      ],
      "execution_count": null,
      "outputs": [
        {
          "output_type": "display_data",
          "data": {
            "image/png": "[encoded data removed]",
            "text/plain": [
              "<Figure size 504x288 with 1 Axes>"
            ]
          },
          "metadata": {
            "tags": [],
            "needs_background": "light"
          }
        }
      ]
    },
    {
      "cell_type": "markdown",
      "metadata": {
        "id": "NSCsevi4Bwxa"
      },
      "source": [
        "Здесь так же прослеживается нормальное распределение со скосом влево"
      ]
    },
    {
      "cell_type": "markdown",
      "metadata": {
        "id": "vwr26sopBwxa"
      },
      "source": [
        "##### Определим дисперсные  значения по рейтингам пользователей для платформам \"Xbox One\" и \"PC\""
      ]
    },
    {
      "cell_type": "code",
      "metadata": {
        "id": "xCi67-L4Bwxa",
        "outputId": "3869dcff-ed29-49ab-ee2f-acf591f37854"
      },
      "source": [
        "rating_data_xb=data_xb['user_score']\n",
        "rating_data_pc=data_pc['user_score']\n",
        "\n",
        "dispers_xbox = np.var(rating_data_xb)\n",
        "dispers_pc = np.var(rating_data_pc)\n",
        "\n",
        "print('Дисперсия пользовательских рейтингов плтформы Xbox One равна', dispers_xbox )\n",
        "print('Дисперсия пользовательских рейтингов платформы PC равна', dispers_pc)"
      ],
      "execution_count": null,
      "outputs": [
        {
          "output_type": "stream",
          "text": [
            "Дисперсия пользовательских рейтингов плтформы Xbox One равна 1.8965188383045526\n",
            "Дисперсия пользовательских рейтингов платформы PC равна 2.3377471580367684\n"
          ],
          "name": "stdout"
        }
      ]
    },
    {
      "cell_type": "markdown",
      "metadata": {
        "id": "CTCG617oBwxa"
      },
      "source": [
        "##### Стандартное отклонение:"
      ]
    },
    {
      "cell_type": "code",
      "metadata": {
        "id": "xVzTz2XiBwxa",
        "outputId": "a615736c-217d-43ac-9a7c-b4a7bd8281de"
      },
      "source": [
        "std_xone=np.std(rating_data_xb)\n",
        "std_pc=np.std(rating_data_pc)\n",
        "\n",
        "print('Стандартное отклонение пользовательских рейтингов плтформы Xbox One равно',std_xone)\n",
        "print('Стандартное отклонение пользовательских рейтингов платформы PC равно',std_pc)"
      ],
      "execution_count": null,
      "outputs": [
        {
          "output_type": "stream",
          "text": [
            "Стандартное отклонение пользовательских рейтингов плтформы Xbox One равно 1.377141546212499\n",
            "Стандартное отклонение пользовательских рейтингов платформы PC равно 1.5289693123266956\n"
          ],
          "name": "stdout"
        }
      ]
    },
    {
      "cell_type": "markdown",
      "metadata": {
        "id": "p5g5sc7qBwxb"
      },
      "source": [
        "##### Имея все данные можно приступить к даказательству гипотезы о равенстве пользовательских рейтингов по платформам"
      ]
    },
    {
      "cell_type": "code",
      "metadata": {
        "scrolled": true,
        "id": "7dHhf8LwBwxb",
        "outputId": "f60140aa-3a63-4be0-f76e-5ff390165a36"
      },
      "source": [
        "sample_xb = rating_data_xb\n",
        "sample_pc = rating_data_pc\n",
        "\n",
        "alpha = .05 \n",
        "\n",
        "results_rating = st.ttest_ind(\n",
        "    sample_xb, \n",
        "    sample_pc, equal_var=False)\n",
        "\n",
        "print('p-значение: ',results_rating.pvalue)\n",
        "\n",
        "if results_rating.pvalue < alpha:\n",
        "    print(\"Отвергаем нулевую гипотезу\")\n",
        "else:\n",
        "    print(\"Не получилось отвергнуть нулевую гипотезу\") "
      ],
      "execution_count": null,
      "outputs": [
        {
          "output_type": "stream",
          "text": [
            "p-значение:  4.935072360183565e-06\n",
            "Отвергаем нулевую гипотезу\n"
          ],
          "name": "stdout"
        }
      ]
    },
    {
      "cell_type": "markdown",
      "metadata": {
        "id": "Klr7gV1rBwxb"
      },
      "source": [
        "Таким образом мы отвергаем нулевую теорию о равенстве пользовательских рейтингов и подтверждаем альтернативную гипотезу - пользовательские рейтинги платформ \"XboxOne\" и \"PC\" отличаются."
      ]
    },
    {
      "cell_type": "markdown",
      "metadata": {
        "id": "s1y49socBwxb"
      },
      "source": [
        "<a id=\"step_5.2\"></a>\n",
        "### Средние пользовательские рейтинги жанров Action и Sports разные."
      ]
    },
    {
      "cell_type": "markdown",
      "metadata": {
        "id": "Vs2Fnea_Bwxb"
      },
      "source": [
        "Для того чтобы доказать или опровергнуть гипотезу, сформулируем нулевую и альтернативную гипотезы следующим образом:<br>\n",
        "- **нулевая гипотеза** будет звучать так - средние пользовательские рейтинги платформ *Action* и *Sports* отличаются(не равны), тогда как<br>\n",
        "- **альтернативная гипотеза** - пользовательские рейтинги жанров *Action* и *Sports* равны."
      ]
    },
    {
      "cell_type": "markdown",
      "metadata": {
        "id": "j02c_EgqBwxb"
      },
      "source": [
        "##### Определим сначала дисперсию и стандартное отклонение <br><br>Составим таблицу"
      ]
    },
    {
      "cell_type": "code",
      "metadata": {
        "scrolled": false,
        "id": "fGkEgTLjBwxc",
        "outputId": "f5018aa8-49cd-410c-96f2-e42bd9f4e67e"
      },
      "source": [
        "data.head()"
      ],
      "execution_count": null,
      "outputs": [
        {
          "output_type": "execute_result",
          "data": {
            "text/html": [
              "<div>\n",
              "<style scoped>\n",
              "    .dataframe tbody tr th:only-of-type {\n",
              "        vertical-align: middle;\n",
              "    }\n",
              "\n",
              "    .dataframe tbody tr th {\n",
              "        vertical-align: top;\n",
              "    }\n",
              "\n",
              "    .dataframe thead th {\n",
              "        text-align: right;\n",
              "    }\n",
              "</style>\n",
              "<table border=\"1\" class=\"dataframe\">\n",
              "  <thead>\n",
              "    <tr style=\"text-align: right;\">\n",
              "      <th></th>\n",
              "      <th>name</th>\n",
              "      <th>platform</th>\n",
              "      <th>year_of_release</th>\n",
              "      <th>genre</th>\n",
              "      <th>na_sales</th>\n",
              "      <th>eu_sales</th>\n",
              "      <th>jp_sales</th>\n",
              "      <th>other_sales</th>\n",
              "      <th>critic_score</th>\n",
              "      <th>user_score</th>\n",
              "      <th>rating</th>\n",
              "      <th>sum_sales</th>\n",
              "    </tr>\n",
              "  </thead>\n",
              "  <tbody>\n",
              "    <tr>\n",
              "      <td>0</td>\n",
              "      <td>wii sports</td>\n",
              "      <td>wii</td>\n",
              "      <td>2006</td>\n",
              "      <td>sports</td>\n",
              "      <td>41.36</td>\n",
              "      <td>28.96</td>\n",
              "      <td>3.77</td>\n",
              "      <td>8.45</td>\n",
              "      <td>76.0</td>\n",
              "      <td>8.0</td>\n",
              "      <td>E</td>\n",
              "      <td>82.54</td>\n",
              "    </tr>\n",
              "    <tr>\n",
              "      <td>1</td>\n",
              "      <td>super mario bros</td>\n",
              "      <td>nes</td>\n",
              "      <td>1985</td>\n",
              "      <td>platform</td>\n",
              "      <td>29.08</td>\n",
              "      <td>3.58</td>\n",
              "      <td>6.81</td>\n",
              "      <td>0.77</td>\n",
              "      <td>NaN</td>\n",
              "      <td>NaN</td>\n",
              "      <td>NaN</td>\n",
              "      <td>40.24</td>\n",
              "    </tr>\n",
              "    <tr>\n",
              "      <td>2</td>\n",
              "      <td>mario kart wii</td>\n",
              "      <td>wii</td>\n",
              "      <td>2008</td>\n",
              "      <td>racing</td>\n",
              "      <td>15.68</td>\n",
              "      <td>12.76</td>\n",
              "      <td>3.79</td>\n",
              "      <td>3.29</td>\n",
              "      <td>82.0</td>\n",
              "      <td>8.3</td>\n",
              "      <td>E</td>\n",
              "      <td>35.52</td>\n",
              "    </tr>\n",
              "    <tr>\n",
              "      <td>3</td>\n",
              "      <td>wii sports resort</td>\n",
              "      <td>wii</td>\n",
              "      <td>2009</td>\n",
              "      <td>sports</td>\n",
              "      <td>15.61</td>\n",
              "      <td>10.93</td>\n",
              "      <td>3.28</td>\n",
              "      <td>2.95</td>\n",
              "      <td>80.0</td>\n",
              "      <td>8.0</td>\n",
              "      <td>E</td>\n",
              "      <td>32.77</td>\n",
              "    </tr>\n",
              "    <tr>\n",
              "      <td>4</td>\n",
              "      <td>pokemon red/pokemon blue</td>\n",
              "      <td>gb</td>\n",
              "      <td>1996</td>\n",
              "      <td>role-playing</td>\n",
              "      <td>11.27</td>\n",
              "      <td>8.89</td>\n",
              "      <td>10.22</td>\n",
              "      <td>1.00</td>\n",
              "      <td>NaN</td>\n",
              "      <td>NaN</td>\n",
              "      <td>NaN</td>\n",
              "      <td>31.38</td>\n",
              "    </tr>\n",
              "  </tbody>\n",
              "</table>\n",
              "</div>"
            ],
            "text/plain": [
              "                       name platform  year_of_release         genre  na_sales  \\\n",
              "0                wii sports      wii             2006        sports     41.36   \n",
              "1          super mario bros      nes             1985      platform     29.08   \n",
              "2            mario kart wii      wii             2008        racing     15.68   \n",
              "3         wii sports resort      wii             2009        sports     15.61   \n",
              "4  pokemon red/pokemon blue       gb             1996  role-playing     11.27   \n",
              "\n",
              "   eu_sales  jp_sales  other_sales  critic_score  user_score rating  sum_sales  \n",
              "0     28.96      3.77         8.45          76.0         8.0      E      82.54  \n",
              "1      3.58      6.81         0.77           NaN         NaN    NaN      40.24  \n",
              "2     12.76      3.79         3.29          82.0         8.3      E      35.52  \n",
              "3     10.93      3.28         2.95          80.0         8.0      E      32.77  \n",
              "4      8.89     10.22         1.00           NaN         NaN    NaN      31.38  "
            ]
          },
          "metadata": {
            "tags": []
          },
          "execution_count": 101
        }
      ]
    },
    {
      "cell_type": "markdown",
      "metadata": {
        "id": "UpdSfA45Bwxc"
      },
      "source": [
        "Для дальнейшей работы так же уберём отсутствующие данные из нашей выборки и построим гистограмму распределения данных, для наглядного представления о распределении"
      ]
    },
    {
      "cell_type": "code",
      "metadata": {
        "id": "VnjCdboxBwxc"
      },
      "source": [
        "data_genre_a=data.loc[data['genre'] == 'action'].dropna(subset=['user_score'])\n",
        "data_genre_s=data.loc[data['genre'] == 'sports'].dropna(subset=['user_score'])"
      ],
      "execution_count": null,
      "outputs": []
    },
    {
      "cell_type": "markdown",
      "metadata": {
        "id": "VMVLcL-bBwxd"
      },
      "source": [
        "##### Построим гистограмму по жанру \"Action\""
      ]
    },
    {
      "cell_type": "code",
      "metadata": {
        "scrolled": false,
        "id": "zXHHwPTtBwxd",
        "outputId": "6042080c-263e-4495-ac5d-911500e3e65c"
      },
      "source": [
        "data_genre_a['user_score'].plot(kind='hist',grid=True, bins=15, figsize=(7,4))\n",
        "plt.title('Гистограмма распределения данных по жанру \"Action\"')\n",
        "plt.ylabel('Количество')\n",
        "plt.xlabel('Оценка пользователей')\n",
        "plt.show()"
      ],
      "execution_count": null,
      "outputs": [
        {
          "output_type": "display_data",
          "data": {
            "image/png": "[encoded data removed]",
            "text/plain": [
              "<Figure size 504x288 with 1 Axes>"
            ]
          },
          "metadata": {
            "tags": [],
            "needs_background": "light"
          }
        }
      ]
    },
    {
      "cell_type": "markdown",
      "metadata": {
        "id": "4b9EL5c_Bwxd"
      },
      "source": [
        "##### Построим гистограмму по жанру \"Sport\""
      ]
    },
    {
      "cell_type": "code",
      "metadata": {
        "scrolled": true,
        "id": "SJ0UMqCVBwxd",
        "outputId": "30b92af0-349f-465e-b3de-23a0db907f1f"
      },
      "source": [
        "data_genre_s['user_score'].plot(kind='hist',grid=True, bins=15, figsize=(7,4))\n",
        "plt.title('Гистограмма распределения данных по жанру \"Sport\"')\n",
        "plt.ylabel('Количество')\n",
        "plt.xlabel('Оценка пользователей')\n",
        "plt.show()"
      ],
      "execution_count": null,
      "outputs": [
        {
          "output_type": "display_data",
          "data": {
            "image/png": "[encoded data removed]",
            "text/plain": [
              "<Figure size 504x288 with 1 Axes>"
            ]
          },
          "metadata": {
            "tags": [],
            "needs_background": "light"
          }
        }
      ]
    },
    {
      "cell_type": "markdown",
      "metadata": {
        "id": "BSJEZ4NNBwxd"
      },
      "source": [
        "##### Определим дисперсные  значения по рейтингам жанров \"Action\" и \"Sport\""
      ]
    },
    {
      "cell_type": "code",
      "metadata": {
        "id": "HXda0GOSBwxd",
        "outputId": "ee4f4a9d-3f3b-4cab-e2a9-da7fb2dd9c63"
      },
      "source": [
        "rating_data_a=data_genre_a['user_score']\n",
        "rating_data_s=data_genre_s['user_score']\n",
        "\n",
        "dispers_action = np.var(rating_data_a)\n",
        "dispers_sport = np.var(rating_data_s)\n",
        "\n",
        "print('Дисперсия пользовательских рейтингов жанра \"Action\" равна', dispers_action)\n",
        "print('Дисперсия пользовательских рейтингов жанра \"Sport\" равна', dispers_sport)"
      ],
      "execution_count": null,
      "outputs": [
        {
          "output_type": "stream",
          "text": [
            "Дисперсия пользовательских рейтингов жанра \"Action\" равна 2.03063665382663\n",
            "Дисперсия пользовательских рейтингов жанра \"Sport\" равна 2.594160671177017\n"
          ],
          "name": "stdout"
        }
      ]
    },
    {
      "cell_type": "markdown",
      "metadata": {
        "id": "051IqstRBwxe"
      },
      "source": [
        "##### Стандартное отклонение:"
      ]
    },
    {
      "cell_type": "code",
      "metadata": {
        "scrolled": false,
        "id": "XVGr0ShSBwxe",
        "outputId": "43e5ae12-ae3b-4d43-8df5-63100b4286df"
      },
      "source": [
        "std_action=np.std(rating_data_a)\n",
        "std_sport=np.std(rating_data_s)\n",
        "\n",
        "print('Стандартное отклонение пользовательских рейтингов жанра \"Action\" равно',std_action)\n",
        "print('Стандартное отклонение пользовательских рейтингов жанра \"Sport\" равно',std_sport)"
      ],
      "execution_count": null,
      "outputs": [
        {
          "output_type": "stream",
          "text": [
            "Стандартное отклонение пользовательских рейтингов жанра \"Action\" равно 1.4250040890561086\n",
            "Стандартное отклонение пользовательских рейтингов жанра \"Sport\" равно 1.6106398328543279\n"
          ],
          "name": "stdout"
        }
      ]
    },
    {
      "cell_type": "markdown",
      "metadata": {
        "id": "Wpqi1h3eBwxe"
      },
      "source": [
        "##### Проверим гипотезу о равенстве пользовательских рейтингов по жанрам Action и Sports."
      ]
    },
    {
      "cell_type": "code",
      "metadata": {
        "scrolled": false,
        "id": "n-UgDvA7Bwxe",
        "outputId": "795e898f-0d11-43f1-eeb9-20468c7b420e"
      },
      "source": [
        "sample_action = rating_data_a\n",
        "sample_sport = rating_data_s\n",
        "\n",
        "alpha = .05\n",
        "\n",
        "results_genre = st.ttest_ind(\n",
        "    sample_action, \n",
        "    sample_sport, equal_var=False)\n",
        "\n",
        "print('p-значение: ',1-results_genre.pvalue)\n",
        "\n",
        "if 1-results_genre.pvalue > alpha:\n",
        "    print(\"Отвергаем нулевую гипотезу\")\n",
        "else:\n",
        "    print(\"Не получилось отвергнуть нулевую гипотезу\") "
      ],
      "execution_count": null,
      "outputs": [
        {
          "output_type": "stream",
          "text": [
            "p-значение:  0.8851618120850171\n",
            "Отвергаем нулевую гипотезу\n"
          ],
          "name": "stdout"
        }
      ]
    },
    {
      "cell_type": "markdown",
      "metadata": {
        "id": "P3FloilXBwxe"
      },
      "source": [
        "Таким образом мы отвергаем нулевую гипотезу, и подтверждаем альтернативную - средние пользовательские рейтинги платформ \"Action\" и \"Sports\" практически равны друг другу."
      ]
    },
    {
      "cell_type": "markdown",
      "metadata": {
        "id": "HMWkmyd7Bwxe"
      },
      "source": [
        "<a id=\"step_5.end\"></a>\n",
        "### Вывод"
      ]
    },
    {
      "cell_type": "markdown",
      "metadata": {
        "id": "FkqHNE8yBwxe"
      },
      "source": [
        "Исходя из полученных данных мы можем делать вывод о том, что пользовательские рейтинги платформ \"Xbox One\" и \"PC\" отличаются друг от друга. В отличии от рейтингов по платформам, в случае с рейтингами по жанрам  \"Action\" и \"Sport\"  мы с уверенностью можем сказать, что рейтинги не отличаются друг от друга более чем на величину 5%"
      ]
    },
    {
      "cell_type": "markdown",
      "metadata": {
        "id": "Mdn-3vzMBwxf"
      },
      "source": [
        "----"
      ]
    },
    {
      "cell_type": "markdown",
      "metadata": {
        "id": "-rjEATvcBwxf"
      },
      "source": [
        "<a href='#start'>Вернуться к оглавлению</a>\n",
        "<a id=\"step_6.end\"></a>\n",
        "### Глава 6. Общий вывод"
      ]
    },
    {
      "cell_type": "markdown",
      "metadata": {
        "id": "iKQFqNZbBwxf"
      },
      "source": [
        "В нашем распоряжении из открытых источников были исторические данные о продажах игр, оценки пользователей и экспертов, жанры и платформы (например, *Xbox* или *PlayStation*). Перед нами стояла задача выявить определяющие успешность игры закономерности. И сделать ставку на потенциально популярный продукт, а так же спланировать рекламные кампании.\n",
        "</br>\n",
        "\n",
        "Исходя из проанализированных данных и анализа распределения популярности игр и платформ, а так же анализа составленного портрета пользователя по странам, можно однозначно сделать вывод о том, количество выпускаемых игр, а так же самая большая прибыль идёт по платформе *PS4* и составляет подавляющее большинство по отношению к остальному рынку. Так же отметим, что несмотря на то, что Северной Америке большей популярностью пользуется *PC*,  в Еропе *Xbox One*, а  в Японии *PSV*, во всех странах популярен жанр *Action* </br>\n",
        "\n",
        "В итоговом заключении можно рекомендовать, делать ставку на игры жанра \"action\" под платформу PS4, PC, XboxOne и PSV, а так же для уеличения спроса на рынке, насытить прилавки магазина ассортиментом в зависимости от предпочтений кажой страны в отдельности:\n",
        " - Для Северной Америки -это игры жанра \"shooter\",\"action\" и \"sport\" под платформы \"XboxOne\",\"Wii\",\"PS4\".\n",
        " - Для Европейских стран - игры жанра \"shooter\",\"sport\",\"action\" под платформы \"PC\",\"PS4\",\"XboxOne\".\n",
        " - Для Японии - \"action\",\"role-playing\", под платформы \"PSV\",\"3ds\". "
      ]
    }
  ]
}